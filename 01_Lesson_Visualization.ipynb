{
  "cells": [
    {
      "cell_type": "markdown",
      "metadata": {
        "id": "view-in-github",
        "colab_type": "text"
      },
      "source": [
        "<a href=\"https://colab.research.google.com/github/Teja414/DataScienceWithPython/blob/main/01_Lesson_Visualization.ipynb\" target=\"_parent\"><img src=\"https://colab.research.google.com/assets/colab-badge.svg\" alt=\"Open In Colab\"/></a>"
      ]
    },
    {
      "cell_type": "markdown",
      "id": "3bdc946b",
      "metadata": {
        "id": "3bdc946b"
      },
      "source": [
        "<a \n",
        " href=\"https://colab.research.google.com/github/LearnPythonWithRune/DataScienceWithPython/blob/main/colab/starter/01 - Lesson - Visualization.ipynb\"\n",
        " target=\"_parent\">\n",
        "<img \n",
        " src=\"https://colab.research.google.com/assets/colab-badge.svg\"\n",
        "alt=\"Open In Colab\"/>\n",
        "</a>"
      ]
    },
    {
      "cell_type": "markdown",
      "id": "ff26ea89",
      "metadata": {
        "id": "ff26ea89"
      },
      "source": [
        "# Data Visualization"
      ]
    },
    {
      "cell_type": "markdown",
      "id": "943f2359",
      "metadata": {
        "id": "943f2359"
      },
      "source": [
        "![Data Science Workflow](https://raw.githubusercontent.com/LearnPythonWithRune/DataScienceWithPython/main/jupyter/final/img/ds-workflow.png)"
      ]
    },
    {
      "cell_type": "markdown",
      "id": "f7df062b",
      "metadata": {
        "id": "f7df062b"
      },
      "source": [
        "## Data Visualization\n",
        "\n",
        "Key skill today\n",
        ">  *“The ability to take data-to be able to understand it, to process it, to extract value from it, to visualize it, to communicate it-that’s going to be a hugely important skill in the next decades.\"*\n",
        "\n",
        "[Hal Varian (Google’s Chief Economist)](https://en.wikipedia.org/wiki/Hal_Varian)"
      ]
    },
    {
      "cell_type": "markdown",
      "id": "fb269ad4",
      "metadata": {
        "id": "fb269ad4"
      },
      "source": [
        "## Data Visualization for a Data Scientist\n",
        "1. **Data Quality**: Explore data quality including identifying outliers\n",
        "2. **Data Exploration**: Understand data with visualizing ideas\n",
        "3. **Data Presentation**: Present results"
      ]
    },
    {
      "cell_type": "markdown",
      "id": "2dee1d5c",
      "metadata": {
        "id": "2dee1d5c"
      },
      "source": [
        "## The power of Data Visualization\n",
        "\n",
        "### Consider the following data\n",
        "- what is the connection?\n",
        "- See any patterns?"
      ]
    },
    {
      "cell_type": "code",
      "execution_count": 1,
      "id": "816e9919",
      "metadata": {
        "id": "816e9919"
      },
      "outputs": [],
      "source": [
        "import pandas as pd"
      ]
    },
    {
      "cell_type": "code",
      "execution_count": 2,
      "id": "2a52072b",
      "metadata": {
        "id": "2a52072b"
      },
      "outputs": [],
      "source": [
        "sample = pd.read_csv('https://raw.githubusercontent.com/LearnPythonWithRune/DataScienceWithPython/main/jupyter/final/files/sample_corr.csv')"
      ]
    },
    {
      "cell_type": "code",
      "execution_count": 3,
      "id": "64194839",
      "metadata": {
        "id": "64194839",
        "outputId": "ed5267a4-a738-498a-b04d-9d0920bff2a4",
        "colab": {
          "base_uri": "https://localhost:8080/",
          "height": 676
        }
      },
      "outputs": [
        {
          "output_type": "execute_result",
          "data": {
            "text/plain": [
              "           x         y\n",
              "0   1.105722  1.320945\n",
              "1   1.158193  1.480131\n",
              "2   1.068022  1.173479\n",
              "3   1.131291  1.294706\n",
              "4   1.125997  1.293024\n",
              "5   1.037332  0.977393\n",
              "6   1.051670  1.040798\n",
              "7   0.971699  0.977604\n",
              "8   1.102914  1.127956\n",
              "9   1.164161  1.431070\n",
              "10  1.161464  1.344481\n",
              "11  1.080161  1.191159\n",
              "12  0.996044  0.997308\n",
              "13  1.143305  1.412850\n",
              "14  1.062949  1.139761\n",
              "15  1.149252  1.455886\n",
              "16  1.190105  1.489407\n",
              "17  1.026498  1.153031\n",
              "18  1.110015  1.329586\n",
              "19  1.077741  1.277995"
            ],
            "text/html": [
              "\n",
              "  <div id=\"df-6f533d5b-e242-4a77-9f0f-fa199cdfd0e7\">\n",
              "    <div class=\"colab-df-container\">\n",
              "      <div>\n",
              "<style scoped>\n",
              "    .dataframe tbody tr th:only-of-type {\n",
              "        vertical-align: middle;\n",
              "    }\n",
              "\n",
              "    .dataframe tbody tr th {\n",
              "        vertical-align: top;\n",
              "    }\n",
              "\n",
              "    .dataframe thead th {\n",
              "        text-align: right;\n",
              "    }\n",
              "</style>\n",
              "<table border=\"1\" class=\"dataframe\">\n",
              "  <thead>\n",
              "    <tr style=\"text-align: right;\">\n",
              "      <th></th>\n",
              "      <th>x</th>\n",
              "      <th>y</th>\n",
              "    </tr>\n",
              "  </thead>\n",
              "  <tbody>\n",
              "    <tr>\n",
              "      <th>0</th>\n",
              "      <td>1.105722</td>\n",
              "      <td>1.320945</td>\n",
              "    </tr>\n",
              "    <tr>\n",
              "      <th>1</th>\n",
              "      <td>1.158193</td>\n",
              "      <td>1.480131</td>\n",
              "    </tr>\n",
              "    <tr>\n",
              "      <th>2</th>\n",
              "      <td>1.068022</td>\n",
              "      <td>1.173479</td>\n",
              "    </tr>\n",
              "    <tr>\n",
              "      <th>3</th>\n",
              "      <td>1.131291</td>\n",
              "      <td>1.294706</td>\n",
              "    </tr>\n",
              "    <tr>\n",
              "      <th>4</th>\n",
              "      <td>1.125997</td>\n",
              "      <td>1.293024</td>\n",
              "    </tr>\n",
              "    <tr>\n",
              "      <th>5</th>\n",
              "      <td>1.037332</td>\n",
              "      <td>0.977393</td>\n",
              "    </tr>\n",
              "    <tr>\n",
              "      <th>6</th>\n",
              "      <td>1.051670</td>\n",
              "      <td>1.040798</td>\n",
              "    </tr>\n",
              "    <tr>\n",
              "      <th>7</th>\n",
              "      <td>0.971699</td>\n",
              "      <td>0.977604</td>\n",
              "    </tr>\n",
              "    <tr>\n",
              "      <th>8</th>\n",
              "      <td>1.102914</td>\n",
              "      <td>1.127956</td>\n",
              "    </tr>\n",
              "    <tr>\n",
              "      <th>9</th>\n",
              "      <td>1.164161</td>\n",
              "      <td>1.431070</td>\n",
              "    </tr>\n",
              "    <tr>\n",
              "      <th>10</th>\n",
              "      <td>1.161464</td>\n",
              "      <td>1.344481</td>\n",
              "    </tr>\n",
              "    <tr>\n",
              "      <th>11</th>\n",
              "      <td>1.080161</td>\n",
              "      <td>1.191159</td>\n",
              "    </tr>\n",
              "    <tr>\n",
              "      <th>12</th>\n",
              "      <td>0.996044</td>\n",
              "      <td>0.997308</td>\n",
              "    </tr>\n",
              "    <tr>\n",
              "      <th>13</th>\n",
              "      <td>1.143305</td>\n",
              "      <td>1.412850</td>\n",
              "    </tr>\n",
              "    <tr>\n",
              "      <th>14</th>\n",
              "      <td>1.062949</td>\n",
              "      <td>1.139761</td>\n",
              "    </tr>\n",
              "    <tr>\n",
              "      <th>15</th>\n",
              "      <td>1.149252</td>\n",
              "      <td>1.455886</td>\n",
              "    </tr>\n",
              "    <tr>\n",
              "      <th>16</th>\n",
              "      <td>1.190105</td>\n",
              "      <td>1.489407</td>\n",
              "    </tr>\n",
              "    <tr>\n",
              "      <th>17</th>\n",
              "      <td>1.026498</td>\n",
              "      <td>1.153031</td>\n",
              "    </tr>\n",
              "    <tr>\n",
              "      <th>18</th>\n",
              "      <td>1.110015</td>\n",
              "      <td>1.329586</td>\n",
              "    </tr>\n",
              "    <tr>\n",
              "      <th>19</th>\n",
              "      <td>1.077741</td>\n",
              "      <td>1.277995</td>\n",
              "    </tr>\n",
              "  </tbody>\n",
              "</table>\n",
              "</div>\n",
              "      <button class=\"colab-df-convert\" onclick=\"convertToInteractive('df-6f533d5b-e242-4a77-9f0f-fa199cdfd0e7')\"\n",
              "              title=\"Convert this dataframe to an interactive table.\"\n",
              "              style=\"display:none;\">\n",
              "        \n",
              "  <svg xmlns=\"http://www.w3.org/2000/svg\" height=\"24px\"viewBox=\"0 0 24 24\"\n",
              "       width=\"24px\">\n",
              "    <path d=\"M0 0h24v24H0V0z\" fill=\"none\"/>\n",
              "    <path d=\"M18.56 5.44l.94 2.06.94-2.06 2.06-.94-2.06-.94-.94-2.06-.94 2.06-2.06.94zm-11 1L8.5 8.5l.94-2.06 2.06-.94-2.06-.94L8.5 2.5l-.94 2.06-2.06.94zm10 10l.94 2.06.94-2.06 2.06-.94-2.06-.94-.94-2.06-.94 2.06-2.06.94z\"/><path d=\"M17.41 7.96l-1.37-1.37c-.4-.4-.92-.59-1.43-.59-.52 0-1.04.2-1.43.59L10.3 9.45l-7.72 7.72c-.78.78-.78 2.05 0 2.83L4 21.41c.39.39.9.59 1.41.59.51 0 1.02-.2 1.41-.59l7.78-7.78 2.81-2.81c.8-.78.8-2.07 0-2.86zM5.41 20L4 18.59l7.72-7.72 1.47 1.35L5.41 20z\"/>\n",
              "  </svg>\n",
              "      </button>\n",
              "      \n",
              "  <style>\n",
              "    .colab-df-container {\n",
              "      display:flex;\n",
              "      flex-wrap:wrap;\n",
              "      gap: 12px;\n",
              "    }\n",
              "\n",
              "    .colab-df-convert {\n",
              "      background-color: #E8F0FE;\n",
              "      border: none;\n",
              "      border-radius: 50%;\n",
              "      cursor: pointer;\n",
              "      display: none;\n",
              "      fill: #1967D2;\n",
              "      height: 32px;\n",
              "      padding: 0 0 0 0;\n",
              "      width: 32px;\n",
              "    }\n",
              "\n",
              "    .colab-df-convert:hover {\n",
              "      background-color: #E2EBFA;\n",
              "      box-shadow: 0px 1px 2px rgba(60, 64, 67, 0.3), 0px 1px 3px 1px rgba(60, 64, 67, 0.15);\n",
              "      fill: #174EA6;\n",
              "    }\n",
              "\n",
              "    [theme=dark] .colab-df-convert {\n",
              "      background-color: #3B4455;\n",
              "      fill: #D2E3FC;\n",
              "    }\n",
              "\n",
              "    [theme=dark] .colab-df-convert:hover {\n",
              "      background-color: #434B5C;\n",
              "      box-shadow: 0px 1px 3px 1px rgba(0, 0, 0, 0.15);\n",
              "      filter: drop-shadow(0px 1px 2px rgba(0, 0, 0, 0.3));\n",
              "      fill: #FFFFFF;\n",
              "    }\n",
              "  </style>\n",
              "\n",
              "      <script>\n",
              "        const buttonEl =\n",
              "          document.querySelector('#df-6f533d5b-e242-4a77-9f0f-fa199cdfd0e7 button.colab-df-convert');\n",
              "        buttonEl.style.display =\n",
              "          google.colab.kernel.accessAllowed ? 'block' : 'none';\n",
              "\n",
              "        async function convertToInteractive(key) {\n",
              "          const element = document.querySelector('#df-6f533d5b-e242-4a77-9f0f-fa199cdfd0e7');\n",
              "          const dataTable =\n",
              "            await google.colab.kernel.invokeFunction('convertToInteractive',\n",
              "                                                     [key], {});\n",
              "          if (!dataTable) return;\n",
              "\n",
              "          const docLinkHtml = 'Like what you see? Visit the ' +\n",
              "            '<a target=\"_blank\" href=https://colab.research.google.com/notebooks/data_table.ipynb>data table notebook</a>'\n",
              "            + ' to learn more about interactive tables.';\n",
              "          element.innerHTML = '';\n",
              "          dataTable['output_type'] = 'display_data';\n",
              "          await google.colab.output.renderOutput(dataTable, element);\n",
              "          const docLink = document.createElement('div');\n",
              "          docLink.innerHTML = docLinkHtml;\n",
              "          element.appendChild(docLink);\n",
              "        }\n",
              "      </script>\n",
              "    </div>\n",
              "  </div>\n",
              "  "
            ]
          },
          "metadata": {},
          "execution_count": 3
        }
      ],
      "source": [
        "sample"
      ]
    },
    {
      "cell_type": "code",
      "execution_count": 3,
      "id": "5f8da356",
      "metadata": {
        "id": "5f8da356"
      },
      "outputs": [],
      "source": []
    },
    {
      "cell_type": "markdown",
      "id": "8ab4aa11",
      "metadata": {
        "id": "8ab4aa11"
      },
      "source": [
        "### Visualizing the same data\n",
        "- Let's try to visualize the data"
      ]
    },
    {
      "cell_type": "markdown",
      "id": "a820da43",
      "metadata": {
        "id": "a820da43"
      },
      "source": [
        "[Matplotlib](https://matplotlib.org) is an easy to use visualization library for Python.\n",
        "\n",
        "In Notebooks you get started with.\n",
        "```Python\n",
        "import matplotlib.pyplot as plt\n",
        "%matplotlib inline\n",
        "```"
      ]
    },
    {
      "cell_type": "code",
      "execution_count": 4,
      "id": "f6f1a52d",
      "metadata": {
        "id": "f6f1a52d"
      },
      "outputs": [],
      "source": [
        "import matplotlib.pyplot as plt\n",
        "%matplotlib inline"
      ]
    },
    {
      "cell_type": "code",
      "source": [
        "sample['y'].plot()"
      ],
      "metadata": {
        "id": "L2knj2CLYQUe",
        "outputId": "e2c94862-aef5-4c69-966a-538249447909",
        "colab": {
          "base_uri": "https://localhost:8080/",
          "height": 282
        }
      },
      "id": "L2knj2CLYQUe",
      "execution_count": 5,
      "outputs": [
        {
          "output_type": "execute_result",
          "data": {
            "text/plain": [
              "<matplotlib.axes._subplots.AxesSubplot at 0x7fcfc2a108b0>"
            ]
          },
          "metadata": {},
          "execution_count": 5
        },
        {
          "output_type": "display_data",
          "data": {
            "text/plain": [
              "<Figure size 432x288 with 1 Axes>"
            ],
            "image/png": "[encoded data removed]"
          },
          "metadata": {
            "needs_background": "light"
          }
        }
      ]
    },
    {
      "cell_type": "code",
      "execution_count": 6,
      "id": "f6374f5d",
      "metadata": {
        "id": "f6374f5d",
        "outputId": "84713a62-fa44-4739-ccb1-c42c4ca67b7d",
        "colab": {
          "base_uri": "https://localhost:8080/",
          "height": 296
        }
      },
      "outputs": [
        {
          "output_type": "execute_result",
          "data": {
            "text/plain": [
              "<matplotlib.axes._subplots.AxesSubplot at 0x7fcfc28e7e80>"
            ]
          },
          "metadata": {},
          "execution_count": 6
        },
        {
          "output_type": "display_data",
          "data": {
            "text/plain": [
              "<Figure size 432x288 with 1 Axes>"
            ],
            "image/png": "[encoded data removed]"
          },
          "metadata": {
            "needs_background": "light"
          }
        }
      ],
      "source": [
        "sample.plot.scatter(x='x',y='y')"
      ]
    },
    {
      "cell_type": "code",
      "execution_count": 6,
      "id": "6ccdbe91",
      "metadata": {
        "id": "6ccdbe91"
      },
      "outputs": [],
      "source": []
    },
    {
      "cell_type": "markdown",
      "id": "d78269fd",
      "metadata": {
        "id": "d78269fd"
      },
      "source": [
        "### What Data Visualization gives\n",
        "- Absorb information quickly\n",
        "- Improve insights\n",
        "- Make faster decisions"
      ]
    },
    {
      "cell_type": "markdown",
      "id": "703af8d5",
      "metadata": {
        "id": "703af8d5"
      },
      "source": [
        "## Data Quality\n",
        "### Is the data quality usable\n",
        "\n",
        "Consider the dataset: `files/sample_height.csv`\n",
        "\n",
        "#### Check for missing values\n",
        "[`isna()`](https://pandas.pydata.org/docs/reference/api/pandas.DataFrame.isna.html)[`.any()`](https://pandas.pydata.org/docs/reference/api/pandas.DataFrame.any.html): Check for any missing values - returns True if missing values\n",
        "```Python\n",
        "data.isna().any()\n",
        "```\n",
        "\n",
        "#### Visualize data\n",
        "- Notice: you need to know something about the data\n",
        "- We know that it is heights of humans in centimeters\n",
        "- This could be checked with a histogram"
      ]
    },
    {
      "cell_type": "code",
      "execution_count": 7,
      "metadata": {
        "id": "oD46JECcTgCK"
      },
      "outputs": [],
      "source": [
        "data = pd.read_csv('https://raw.githubusercontent.com/LearnPythonWithRune/DataScienceWithPython/main/jupyter/final/files/sample_height.csv')"
      ],
      "id": "oD46JECcTgCK"
    },
    {
      "cell_type": "code",
      "execution_count": 8,
      "id": "4dc28f3d",
      "metadata": {
        "id": "4dc28f3d",
        "outputId": "b8c3e236-d033-4e36-c86f-74344367b6b3",
        "colab": {
          "base_uri": "https://localhost:8080/",
          "height": 206
        }
      },
      "outputs": [
        {
          "output_type": "execute_result",
          "data": {
            "text/plain": [
              "       height\n",
              "0  129.150282\n",
              "1  163.277930\n",
              "2  173.965641\n",
              "3  168.933825\n",
              "4  171.075462"
            ],
            "text/html": [
              "\n",
              "  <div id=\"df-b55e486e-2bee-48f3-9d52-4585f72f3dbd\">\n",
              "    <div class=\"colab-df-container\">\n",
              "      <div>\n",
              "<style scoped>\n",
              "    .dataframe tbody tr th:only-of-type {\n",
              "        vertical-align: middle;\n",
              "    }\n",
              "\n",
              "    .dataframe tbody tr th {\n",
              "        vertical-align: top;\n",
              "    }\n",
              "\n",
              "    .dataframe thead th {\n",
              "        text-align: right;\n",
              "    }\n",
              "</style>\n",
              "<table border=\"1\" class=\"dataframe\">\n",
              "  <thead>\n",
              "    <tr style=\"text-align: right;\">\n",
              "      <th></th>\n",
              "      <th>height</th>\n",
              "    </tr>\n",
              "  </thead>\n",
              "  <tbody>\n",
              "    <tr>\n",
              "      <th>0</th>\n",
              "      <td>129.150282</td>\n",
              "    </tr>\n",
              "    <tr>\n",
              "      <th>1</th>\n",
              "      <td>163.277930</td>\n",
              "    </tr>\n",
              "    <tr>\n",
              "      <th>2</th>\n",
              "      <td>173.965641</td>\n",
              "    </tr>\n",
              "    <tr>\n",
              "      <th>3</th>\n",
              "      <td>168.933825</td>\n",
              "    </tr>\n",
              "    <tr>\n",
              "      <th>4</th>\n",
              "      <td>171.075462</td>\n",
              "    </tr>\n",
              "  </tbody>\n",
              "</table>\n",
              "</div>\n",
              "      <button class=\"colab-df-convert\" onclick=\"convertToInteractive('df-b55e486e-2bee-48f3-9d52-4585f72f3dbd')\"\n",
              "              title=\"Convert this dataframe to an interactive table.\"\n",
              "              style=\"display:none;\">\n",
              "        \n",
              "  <svg xmlns=\"http://www.w3.org/2000/svg\" height=\"24px\"viewBox=\"0 0 24 24\"\n",
              "       width=\"24px\">\n",
              "    <path d=\"M0 0h24v24H0V0z\" fill=\"none\"/>\n",
              "    <path d=\"M18.56 5.44l.94 2.06.94-2.06 2.06-.94-2.06-.94-.94-2.06-.94 2.06-2.06.94zm-11 1L8.5 8.5l.94-2.06 2.06-.94-2.06-.94L8.5 2.5l-.94 2.06-2.06.94zm10 10l.94 2.06.94-2.06 2.06-.94-2.06-.94-.94-2.06-.94 2.06-2.06.94z\"/><path d=\"M17.41 7.96l-1.37-1.37c-.4-.4-.92-.59-1.43-.59-.52 0-1.04.2-1.43.59L10.3 9.45l-7.72 7.72c-.78.78-.78 2.05 0 2.83L4 21.41c.39.39.9.59 1.41.59.51 0 1.02-.2 1.41-.59l7.78-7.78 2.81-2.81c.8-.78.8-2.07 0-2.86zM5.41 20L4 18.59l7.72-7.72 1.47 1.35L5.41 20z\"/>\n",
              "  </svg>\n",
              "      </button>\n",
              "      \n",
              "  <style>\n",
              "    .colab-df-container {\n",
              "      display:flex;\n",
              "      flex-wrap:wrap;\n",
              "      gap: 12px;\n",
              "    }\n",
              "\n",
              "    .colab-df-convert {\n",
              "      background-color: #E8F0FE;\n",
              "      border: none;\n",
              "      border-radius: 50%;\n",
              "      cursor: pointer;\n",
              "      display: none;\n",
              "      fill: #1967D2;\n",
              "      height: 32px;\n",
              "      padding: 0 0 0 0;\n",
              "      width: 32px;\n",
              "    }\n",
              "\n",
              "    .colab-df-convert:hover {\n",
              "      background-color: #E2EBFA;\n",
              "      box-shadow: 0px 1px 2px rgba(60, 64, 67, 0.3), 0px 1px 3px 1px rgba(60, 64, 67, 0.15);\n",
              "      fill: #174EA6;\n",
              "    }\n",
              "\n",
              "    [theme=dark] .colab-df-convert {\n",
              "      background-color: #3B4455;\n",
              "      fill: #D2E3FC;\n",
              "    }\n",
              "\n",
              "    [theme=dark] .colab-df-convert:hover {\n",
              "      background-color: #434B5C;\n",
              "      box-shadow: 0px 1px 3px 1px rgba(0, 0, 0, 0.15);\n",
              "      filter: drop-shadow(0px 1px 2px rgba(0, 0, 0, 0.3));\n",
              "      fill: #FFFFFF;\n",
              "    }\n",
              "  </style>\n",
              "\n",
              "      <script>\n",
              "        const buttonEl =\n",
              "          document.querySelector('#df-b55e486e-2bee-48f3-9d52-4585f72f3dbd button.colab-df-convert');\n",
              "        buttonEl.style.display =\n",
              "          google.colab.kernel.accessAllowed ? 'block' : 'none';\n",
              "\n",
              "        async function convertToInteractive(key) {\n",
              "          const element = document.querySelector('#df-b55e486e-2bee-48f3-9d52-4585f72f3dbd');\n",
              "          const dataTable =\n",
              "            await google.colab.kernel.invokeFunction('convertToInteractive',\n",
              "                                                     [key], {});\n",
              "          if (!dataTable) return;\n",
              "\n",
              "          const docLinkHtml = 'Like what you see? Visit the ' +\n",
              "            '<a target=\"_blank\" href=https://colab.research.google.com/notebooks/data_table.ipynb>data table notebook</a>'\n",
              "            + ' to learn more about interactive tables.';\n",
              "          element.innerHTML = '';\n",
              "          dataTable['output_type'] = 'display_data';\n",
              "          await google.colab.output.renderOutput(dataTable, element);\n",
              "          const docLink = document.createElement('div');\n",
              "          docLink.innerHTML = docLinkHtml;\n",
              "          element.appendChild(docLink);\n",
              "        }\n",
              "      </script>\n",
              "    </div>\n",
              "  </div>\n",
              "  "
            ]
          },
          "metadata": {},
          "execution_count": 8
        }
      ],
      "source": [
        "data.head()"
      ]
    },
    {
      "cell_type": "code",
      "execution_count": 9,
      "id": "59121390",
      "metadata": {
        "id": "59121390",
        "outputId": "e5bf3b0a-3143-4f2d-fcae-77263c92a29b",
        "colab": {
          "base_uri": "https://localhost:8080/"
        }
      },
      "outputs": [
        {
          "output_type": "execute_result",
          "data": {
            "text/plain": [
              "height    False\n",
              "dtype: bool"
            ]
          },
          "metadata": {},
          "execution_count": 9
        }
      ],
      "source": [
        "data.isna().any()"
      ]
    },
    {
      "cell_type": "code",
      "execution_count": 10,
      "id": "4833b7ec",
      "metadata": {
        "id": "4833b7ec",
        "outputId": "b2b700f8-bee6-4985-817e-770d77461969",
        "colab": {
          "base_uri": "https://localhost:8080/",
          "height": 282
        }
      },
      "outputs": [
        {
          "output_type": "execute_result",
          "data": {
            "text/plain": [
              "<matplotlib.axes._subplots.AxesSubplot at 0x7fcfc240bc40>"
            ]
          },
          "metadata": {},
          "execution_count": 10
        },
        {
          "output_type": "display_data",
          "data": {
            "text/plain": [
              "<Figure size 432x288 with 1 Axes>"
            ],
            "image/png": "[encoded data removed]"
          },
          "metadata": {
            "needs_background": "light"
          }
        }
      ],
      "source": [
        "data.plot.hist()"
      ]
    },
    {
      "cell_type": "code",
      "execution_count": 11,
      "id": "658e8d84",
      "metadata": {
        "id": "658e8d84",
        "outputId": "7fe2ce8d-557f-4523-90d6-a0d48be8957d",
        "colab": {
          "base_uri": "https://localhost:8080/"
        }
      },
      "outputs": [
        {
          "output_type": "execute_result",
          "data": {
            "text/plain": [
              "0     False\n",
              "1     False\n",
              "2     False\n",
              "3     False\n",
              "4     False\n",
              "      ...  \n",
              "95    False\n",
              "96    False\n",
              "97     True\n",
              "98     True\n",
              "99    False\n",
              "Name: height, Length: 100, dtype: bool"
            ]
          },
          "metadata": {},
          "execution_count": 11
        }
      ],
      "source": [
        "data['height'] < 50   #data[height] < 50 will return true or false for the condition and data[data['height']<50] returns the values which are true"
      ]
    },
    {
      "cell_type": "code",
      "execution_count": 12,
      "id": "126d7a80",
      "metadata": {
        "id": "126d7a80",
        "outputId": "972d4cf7-7e82-4497-b6ea-26439f722ca5",
        "colab": {
          "base_uri": "https://localhost:8080/",
          "height": 425
        }
      },
      "outputs": [
        {
          "output_type": "execute_result",
          "data": {
            "text/plain": [
              "      height\n",
              "17  1.913196\n",
              "22  1.629159\n",
              "23  1.753424\n",
              "27  1.854795\n",
              "50  1.914587\n",
              "60  1.642295\n",
              "73  1.804588\n",
              "82  1.573621\n",
              "91  1.550227\n",
              "94  1.660700\n",
              "97  1.675962\n",
              "98  1.712382"
            ],
            "text/html": [
              "\n",
              "  <div id=\"df-40609ae4-7ccf-49c2-8e4a-bde0cf21f923\">\n",
              "    <div class=\"colab-df-container\">\n",
              "      <div>\n",
              "<style scoped>\n",
              "    .dataframe tbody tr th:only-of-type {\n",
              "        vertical-align: middle;\n",
              "    }\n",
              "\n",
              "    .dataframe tbody tr th {\n",
              "        vertical-align: top;\n",
              "    }\n",
              "\n",
              "    .dataframe thead th {\n",
              "        text-align: right;\n",
              "    }\n",
              "</style>\n",
              "<table border=\"1\" class=\"dataframe\">\n",
              "  <thead>\n",
              "    <tr style=\"text-align: right;\">\n",
              "      <th></th>\n",
              "      <th>height</th>\n",
              "    </tr>\n",
              "  </thead>\n",
              "  <tbody>\n",
              "    <tr>\n",
              "      <th>17</th>\n",
              "      <td>1.913196</td>\n",
              "    </tr>\n",
              "    <tr>\n",
              "      <th>22</th>\n",
              "      <td>1.629159</td>\n",
              "    </tr>\n",
              "    <tr>\n",
              "      <th>23</th>\n",
              "      <td>1.753424</td>\n",
              "    </tr>\n",
              "    <tr>\n",
              "      <th>27</th>\n",
              "      <td>1.854795</td>\n",
              "    </tr>\n",
              "    <tr>\n",
              "      <th>50</th>\n",
              "      <td>1.914587</td>\n",
              "    </tr>\n",
              "    <tr>\n",
              "      <th>60</th>\n",
              "      <td>1.642295</td>\n",
              "    </tr>\n",
              "    <tr>\n",
              "      <th>73</th>\n",
              "      <td>1.804588</td>\n",
              "    </tr>\n",
              "    <tr>\n",
              "      <th>82</th>\n",
              "      <td>1.573621</td>\n",
              "    </tr>\n",
              "    <tr>\n",
              "      <th>91</th>\n",
              "      <td>1.550227</td>\n",
              "    </tr>\n",
              "    <tr>\n",
              "      <th>94</th>\n",
              "      <td>1.660700</td>\n",
              "    </tr>\n",
              "    <tr>\n",
              "      <th>97</th>\n",
              "      <td>1.675962</td>\n",
              "    </tr>\n",
              "    <tr>\n",
              "      <th>98</th>\n",
              "      <td>1.712382</td>\n",
              "    </tr>\n",
              "  </tbody>\n",
              "</table>\n",
              "</div>\n",
              "      <button class=\"colab-df-convert\" onclick=\"convertToInteractive('df-40609ae4-7ccf-49c2-8e4a-bde0cf21f923')\"\n",
              "              title=\"Convert this dataframe to an interactive table.\"\n",
              "              style=\"display:none;\">\n",
              "        \n",
              "  <svg xmlns=\"http://www.w3.org/2000/svg\" height=\"24px\"viewBox=\"0 0 24 24\"\n",
              "       width=\"24px\">\n",
              "    <path d=\"M0 0h24v24H0V0z\" fill=\"none\"/>\n",
              "    <path d=\"M18.56 5.44l.94 2.06.94-2.06 2.06-.94-2.06-.94-.94-2.06-.94 2.06-2.06.94zm-11 1L8.5 8.5l.94-2.06 2.06-.94-2.06-.94L8.5 2.5l-.94 2.06-2.06.94zm10 10l.94 2.06.94-2.06 2.06-.94-2.06-.94-.94-2.06-.94 2.06-2.06.94z\"/><path d=\"M17.41 7.96l-1.37-1.37c-.4-.4-.92-.59-1.43-.59-.52 0-1.04.2-1.43.59L10.3 9.45l-7.72 7.72c-.78.78-.78 2.05 0 2.83L4 21.41c.39.39.9.59 1.41.59.51 0 1.02-.2 1.41-.59l7.78-7.78 2.81-2.81c.8-.78.8-2.07 0-2.86zM5.41 20L4 18.59l7.72-7.72 1.47 1.35L5.41 20z\"/>\n",
              "  </svg>\n",
              "      </button>\n",
              "      \n",
              "  <style>\n",
              "    .colab-df-container {\n",
              "      display:flex;\n",
              "      flex-wrap:wrap;\n",
              "      gap: 12px;\n",
              "    }\n",
              "\n",
              "    .colab-df-convert {\n",
              "      background-color: #E8F0FE;\n",
              "      border: none;\n",
              "      border-radius: 50%;\n",
              "      cursor: pointer;\n",
              "      display: none;\n",
              "      fill: #1967D2;\n",
              "      height: 32px;\n",
              "      padding: 0 0 0 0;\n",
              "      width: 32px;\n",
              "    }\n",
              "\n",
              "    .colab-df-convert:hover {\n",
              "      background-color: #E2EBFA;\n",
              "      box-shadow: 0px 1px 2px rgba(60, 64, 67, 0.3), 0px 1px 3px 1px rgba(60, 64, 67, 0.15);\n",
              "      fill: #174EA6;\n",
              "    }\n",
              "\n",
              "    [theme=dark] .colab-df-convert {\n",
              "      background-color: #3B4455;\n",
              "      fill: #D2E3FC;\n",
              "    }\n",
              "\n",
              "    [theme=dark] .colab-df-convert:hover {\n",
              "      background-color: #434B5C;\n",
              "      box-shadow: 0px 1px 3px 1px rgba(0, 0, 0, 0.15);\n",
              "      filter: drop-shadow(0px 1px 2px rgba(0, 0, 0, 0.3));\n",
              "      fill: #FFFFFF;\n",
              "    }\n",
              "  </style>\n",
              "\n",
              "      <script>\n",
              "        const buttonEl =\n",
              "          document.querySelector('#df-40609ae4-7ccf-49c2-8e4a-bde0cf21f923 button.colab-df-convert');\n",
              "        buttonEl.style.display =\n",
              "          google.colab.kernel.accessAllowed ? 'block' : 'none';\n",
              "\n",
              "        async function convertToInteractive(key) {\n",
              "          const element = document.querySelector('#df-40609ae4-7ccf-49c2-8e4a-bde0cf21f923');\n",
              "          const dataTable =\n",
              "            await google.colab.kernel.invokeFunction('convertToInteractive',\n",
              "                                                     [key], {});\n",
              "          if (!dataTable) return;\n",
              "\n",
              "          const docLinkHtml = 'Like what you see? Visit the ' +\n",
              "            '<a target=\"_blank\" href=https://colab.research.google.com/notebooks/data_table.ipynb>data table notebook</a>'\n",
              "            + ' to learn more about interactive tables.';\n",
              "          element.innerHTML = '';\n",
              "          dataTable['output_type'] = 'display_data';\n",
              "          await google.colab.output.renderOutput(dataTable, element);\n",
              "          const docLink = document.createElement('div');\n",
              "          docLink.innerHTML = docLinkHtml;\n",
              "          element.appendChild(docLink);\n",
              "        }\n",
              "      </script>\n",
              "    </div>\n",
              "  </div>\n",
              "  "
            ]
          },
          "metadata": {},
          "execution_count": 12
        }
      ],
      "source": [
        "data[data['height'] < 50]"
      ]
    },
    {
      "cell_type": "markdown",
      "id": "9f52f1b5",
      "metadata": {
        "id": "9f52f1b5"
      },
      "source": [
        "### Identifying outliers\n",
        "\n",
        "Consider the dataset: `files/sample_age.csv`\n",
        "\n",
        "#### Visualize with a histogram\n",
        "- This gives fast insights\n",
        "\n",
        "#### Describe the data\n",
        "[`describe()`](https://pandas.pydata.org/docs/reference/api/pandas.DataFrame.describe.html): Makes simple statistics of the DataFrame\n",
        "```Python\n",
        "data.describe()\n",
        "```"
      ]
    },
    {
      "cell_type": "code",
      "execution_count": 13,
      "metadata": {
        "id": "s0fjREZJVm_Y"
      },
      "outputs": [],
      "source": [
        "sample = pd.read_csv('https://raw.githubusercontent.com/LearnPythonWithRune/DataScienceWithPython/main/jupyter/final/files/sample_age.csv')"
      ],
      "id": "s0fjREZJVm_Y"
    },
    {
      "cell_type": "code",
      "execution_count": 14,
      "id": "e3f21ee8",
      "metadata": {
        "id": "e3f21ee8",
        "outputId": "bd017018-a8b4-4de4-b610-05077ff5f9d7",
        "colab": {
          "base_uri": "https://localhost:8080/",
          "height": 206
        }
      },
      "outputs": [
        {
          "output_type": "execute_result",
          "data": {
            "text/plain": [
              "         age\n",
              "0  30.175921\n",
              "1  32.002551\n",
              "2  44.518393\n",
              "3  56.247751\n",
              "4  33.111986"
            ],
            "text/html": [
              "\n",
              "  <div id=\"df-99036c4d-e650-4916-aa28-37773540bf8a\">\n",
              "    <div class=\"colab-df-container\">\n",
              "      <div>\n",
              "<style scoped>\n",
              "    .dataframe tbody tr th:only-of-type {\n",
              "        vertical-align: middle;\n",
              "    }\n",
              "\n",
              "    .dataframe tbody tr th {\n",
              "        vertical-align: top;\n",
              "    }\n",
              "\n",
              "    .dataframe thead th {\n",
              "        text-align: right;\n",
              "    }\n",
              "</style>\n",
              "<table border=\"1\" class=\"dataframe\">\n",
              "  <thead>\n",
              "    <tr style=\"text-align: right;\">\n",
              "      <th></th>\n",
              "      <th>age</th>\n",
              "    </tr>\n",
              "  </thead>\n",
              "  <tbody>\n",
              "    <tr>\n",
              "      <th>0</th>\n",
              "      <td>30.175921</td>\n",
              "    </tr>\n",
              "    <tr>\n",
              "      <th>1</th>\n",
              "      <td>32.002551</td>\n",
              "    </tr>\n",
              "    <tr>\n",
              "      <th>2</th>\n",
              "      <td>44.518393</td>\n",
              "    </tr>\n",
              "    <tr>\n",
              "      <th>3</th>\n",
              "      <td>56.247751</td>\n",
              "    </tr>\n",
              "    <tr>\n",
              "      <th>4</th>\n",
              "      <td>33.111986</td>\n",
              "    </tr>\n",
              "  </tbody>\n",
              "</table>\n",
              "</div>\n",
              "      <button class=\"colab-df-convert\" onclick=\"convertToInteractive('df-99036c4d-e650-4916-aa28-37773540bf8a')\"\n",
              "              title=\"Convert this dataframe to an interactive table.\"\n",
              "              style=\"display:none;\">\n",
              "        \n",
              "  <svg xmlns=\"http://www.w3.org/2000/svg\" height=\"24px\"viewBox=\"0 0 24 24\"\n",
              "       width=\"24px\">\n",
              "    <path d=\"M0 0h24v24H0V0z\" fill=\"none\"/>\n",
              "    <path d=\"M18.56 5.44l.94 2.06.94-2.06 2.06-.94-2.06-.94-.94-2.06-.94 2.06-2.06.94zm-11 1L8.5 8.5l.94-2.06 2.06-.94-2.06-.94L8.5 2.5l-.94 2.06-2.06.94zm10 10l.94 2.06.94-2.06 2.06-.94-2.06-.94-.94-2.06-.94 2.06-2.06.94z\"/><path d=\"M17.41 7.96l-1.37-1.37c-.4-.4-.92-.59-1.43-.59-.52 0-1.04.2-1.43.59L10.3 9.45l-7.72 7.72c-.78.78-.78 2.05 0 2.83L4 21.41c.39.39.9.59 1.41.59.51 0 1.02-.2 1.41-.59l7.78-7.78 2.81-2.81c.8-.78.8-2.07 0-2.86zM5.41 20L4 18.59l7.72-7.72 1.47 1.35L5.41 20z\"/>\n",
              "  </svg>\n",
              "      </button>\n",
              "      \n",
              "  <style>\n",
              "    .colab-df-container {\n",
              "      display:flex;\n",
              "      flex-wrap:wrap;\n",
              "      gap: 12px;\n",
              "    }\n",
              "\n",
              "    .colab-df-convert {\n",
              "      background-color: #E8F0FE;\n",
              "      border: none;\n",
              "      border-radius: 50%;\n",
              "      cursor: pointer;\n",
              "      display: none;\n",
              "      fill: #1967D2;\n",
              "      height: 32px;\n",
              "      padding: 0 0 0 0;\n",
              "      width: 32px;\n",
              "    }\n",
              "\n",
              "    .colab-df-convert:hover {\n",
              "      background-color: #E2EBFA;\n",
              "      box-shadow: 0px 1px 2px rgba(60, 64, 67, 0.3), 0px 1px 3px 1px rgba(60, 64, 67, 0.15);\n",
              "      fill: #174EA6;\n",
              "    }\n",
              "\n",
              "    [theme=dark] .colab-df-convert {\n",
              "      background-color: #3B4455;\n",
              "      fill: #D2E3FC;\n",
              "    }\n",
              "\n",
              "    [theme=dark] .colab-df-convert:hover {\n",
              "      background-color: #434B5C;\n",
              "      box-shadow: 0px 1px 3px 1px rgba(0, 0, 0, 0.15);\n",
              "      filter: drop-shadow(0px 1px 2px rgba(0, 0, 0, 0.3));\n",
              "      fill: #FFFFFF;\n",
              "    }\n",
              "  </style>\n",
              "\n",
              "      <script>\n",
              "        const buttonEl =\n",
              "          document.querySelector('#df-99036c4d-e650-4916-aa28-37773540bf8a button.colab-df-convert');\n",
              "        buttonEl.style.display =\n",
              "          google.colab.kernel.accessAllowed ? 'block' : 'none';\n",
              "\n",
              "        async function convertToInteractive(key) {\n",
              "          const element = document.querySelector('#df-99036c4d-e650-4916-aa28-37773540bf8a');\n",
              "          const dataTable =\n",
              "            await google.colab.kernel.invokeFunction('convertToInteractive',\n",
              "                                                     [key], {});\n",
              "          if (!dataTable) return;\n",
              "\n",
              "          const docLinkHtml = 'Like what you see? Visit the ' +\n",
              "            '<a target=\"_blank\" href=https://colab.research.google.com/notebooks/data_table.ipynb>data table notebook</a>'\n",
              "            + ' to learn more about interactive tables.';\n",
              "          element.innerHTML = '';\n",
              "          dataTable['output_type'] = 'display_data';\n",
              "          await google.colab.output.renderOutput(dataTable, element);\n",
              "          const docLink = document.createElement('div');\n",
              "          docLink.innerHTML = docLinkHtml;\n",
              "          element.appendChild(docLink);\n",
              "        }\n",
              "      </script>\n",
              "    </div>\n",
              "  </div>\n",
              "  "
            ]
          },
          "metadata": {},
          "execution_count": 14
        }
      ],
      "source": [
        "sample.head()"
      ]
    },
    {
      "cell_type": "code",
      "execution_count": 15,
      "id": "6d3eaffd",
      "metadata": {
        "id": "6d3eaffd",
        "outputId": "425abd37-fc80-46d6-9fa2-89e87e3ece42",
        "colab": {
          "base_uri": "https://localhost:8080/",
          "height": 300
        }
      },
      "outputs": [
        {
          "output_type": "execute_result",
          "data": {
            "text/plain": [
              "              age\n",
              "count  100.000000\n",
              "mean    42.305997\n",
              "std     29.229478\n",
              "min     18.273781\n",
              "25%     31.871113\n",
              "50%     39.376896\n",
              "75%     47.779303\n",
              "max    314.000000"
            ],
            "text/html": [
              "\n",
              "  <div id=\"df-335ee6a4-81dd-4f0c-a42a-8086d50643af\">\n",
              "    <div class=\"colab-df-container\">\n",
              "      <div>\n",
              "<style scoped>\n",
              "    .dataframe tbody tr th:only-of-type {\n",
              "        vertical-align: middle;\n",
              "    }\n",
              "\n",
              "    .dataframe tbody tr th {\n",
              "        vertical-align: top;\n",
              "    }\n",
              "\n",
              "    .dataframe thead th {\n",
              "        text-align: right;\n",
              "    }\n",
              "</style>\n",
              "<table border=\"1\" class=\"dataframe\">\n",
              "  <thead>\n",
              "    <tr style=\"text-align: right;\">\n",
              "      <th></th>\n",
              "      <th>age</th>\n",
              "    </tr>\n",
              "  </thead>\n",
              "  <tbody>\n",
              "    <tr>\n",
              "      <th>count</th>\n",
              "      <td>100.000000</td>\n",
              "    </tr>\n",
              "    <tr>\n",
              "      <th>mean</th>\n",
              "      <td>42.305997</td>\n",
              "    </tr>\n",
              "    <tr>\n",
              "      <th>std</th>\n",
              "      <td>29.229478</td>\n",
              "    </tr>\n",
              "    <tr>\n",
              "      <th>min</th>\n",
              "      <td>18.273781</td>\n",
              "    </tr>\n",
              "    <tr>\n",
              "      <th>25%</th>\n",
              "      <td>31.871113</td>\n",
              "    </tr>\n",
              "    <tr>\n",
              "      <th>50%</th>\n",
              "      <td>39.376896</td>\n",
              "    </tr>\n",
              "    <tr>\n",
              "      <th>75%</th>\n",
              "      <td>47.779303</td>\n",
              "    </tr>\n",
              "    <tr>\n",
              "      <th>max</th>\n",
              "      <td>314.000000</td>\n",
              "    </tr>\n",
              "  </tbody>\n",
              "</table>\n",
              "</div>\n",
              "      <button class=\"colab-df-convert\" onclick=\"convertToInteractive('df-335ee6a4-81dd-4f0c-a42a-8086d50643af')\"\n",
              "              title=\"Convert this dataframe to an interactive table.\"\n",
              "              style=\"display:none;\">\n",
              "        \n",
              "  <svg xmlns=\"http://www.w3.org/2000/svg\" height=\"24px\"viewBox=\"0 0 24 24\"\n",
              "       width=\"24px\">\n",
              "    <path d=\"M0 0h24v24H0V0z\" fill=\"none\"/>\n",
              "    <path d=\"M18.56 5.44l.94 2.06.94-2.06 2.06-.94-2.06-.94-.94-2.06-.94 2.06-2.06.94zm-11 1L8.5 8.5l.94-2.06 2.06-.94-2.06-.94L8.5 2.5l-.94 2.06-2.06.94zm10 10l.94 2.06.94-2.06 2.06-.94-2.06-.94-.94-2.06-.94 2.06-2.06.94z\"/><path d=\"M17.41 7.96l-1.37-1.37c-.4-.4-.92-.59-1.43-.59-.52 0-1.04.2-1.43.59L10.3 9.45l-7.72 7.72c-.78.78-.78 2.05 0 2.83L4 21.41c.39.39.9.59 1.41.59.51 0 1.02-.2 1.41-.59l7.78-7.78 2.81-2.81c.8-.78.8-2.07 0-2.86zM5.41 20L4 18.59l7.72-7.72 1.47 1.35L5.41 20z\"/>\n",
              "  </svg>\n",
              "      </button>\n",
              "      \n",
              "  <style>\n",
              "    .colab-df-container {\n",
              "      display:flex;\n",
              "      flex-wrap:wrap;\n",
              "      gap: 12px;\n",
              "    }\n",
              "\n",
              "    .colab-df-convert {\n",
              "      background-color: #E8F0FE;\n",
              "      border: none;\n",
              "      border-radius: 50%;\n",
              "      cursor: pointer;\n",
              "      display: none;\n",
              "      fill: #1967D2;\n",
              "      height: 32px;\n",
              "      padding: 0 0 0 0;\n",
              "      width: 32px;\n",
              "    }\n",
              "\n",
              "    .colab-df-convert:hover {\n",
              "      background-color: #E2EBFA;\n",
              "      box-shadow: 0px 1px 2px rgba(60, 64, 67, 0.3), 0px 1px 3px 1px rgba(60, 64, 67, 0.15);\n",
              "      fill: #174EA6;\n",
              "    }\n",
              "\n",
              "    [theme=dark] .colab-df-convert {\n",
              "      background-color: #3B4455;\n",
              "      fill: #D2E3FC;\n",
              "    }\n",
              "\n",
              "    [theme=dark] .colab-df-convert:hover {\n",
              "      background-color: #434B5C;\n",
              "      box-shadow: 0px 1px 3px 1px rgba(0, 0, 0, 0.15);\n",
              "      filter: drop-shadow(0px 1px 2px rgba(0, 0, 0, 0.3));\n",
              "      fill: #FFFFFF;\n",
              "    }\n",
              "  </style>\n",
              "\n",
              "      <script>\n",
              "        const buttonEl =\n",
              "          document.querySelector('#df-335ee6a4-81dd-4f0c-a42a-8086d50643af button.colab-df-convert');\n",
              "        buttonEl.style.display =\n",
              "          google.colab.kernel.accessAllowed ? 'block' : 'none';\n",
              "\n",
              "        async function convertToInteractive(key) {\n",
              "          const element = document.querySelector('#df-335ee6a4-81dd-4f0c-a42a-8086d50643af');\n",
              "          const dataTable =\n",
              "            await google.colab.kernel.invokeFunction('convertToInteractive',\n",
              "                                                     [key], {});\n",
              "          if (!dataTable) return;\n",
              "\n",
              "          const docLinkHtml = 'Like what you see? Visit the ' +\n",
              "            '<a target=\"_blank\" href=https://colab.research.google.com/notebooks/data_table.ipynb>data table notebook</a>'\n",
              "            + ' to learn more about interactive tables.';\n",
              "          element.innerHTML = '';\n",
              "          dataTable['output_type'] = 'display_data';\n",
              "          await google.colab.output.renderOutput(dataTable, element);\n",
              "          const docLink = document.createElement('div');\n",
              "          docLink.innerHTML = docLinkHtml;\n",
              "          element.appendChild(docLink);\n",
              "        }\n",
              "      </script>\n",
              "    </div>\n",
              "  </div>\n",
              "  "
            ]
          },
          "metadata": {},
          "execution_count": 15
        }
      ],
      "source": [
        "sample.describe()"
      ]
    },
    {
      "cell_type": "code",
      "execution_count": 16,
      "id": "e9e7b16a",
      "metadata": {
        "id": "e9e7b16a",
        "outputId": "59a979e5-9010-4703-cd05-3fe4165d3ef8",
        "colab": {
          "base_uri": "https://localhost:8080/",
          "height": 81
        }
      },
      "outputs": [
        {
          "output_type": "execute_result",
          "data": {
            "text/plain": [
              "      age\n",
              "31  314.0"
            ],
            "text/html": [
              "\n",
              "  <div id=\"df-66e65784-0d22-4bfc-9521-59d5da560684\">\n",
              "    <div class=\"colab-df-container\">\n",
              "      <div>\n",
              "<style scoped>\n",
              "    .dataframe tbody tr th:only-of-type {\n",
              "        vertical-align: middle;\n",
              "    }\n",
              "\n",
              "    .dataframe tbody tr th {\n",
              "        vertical-align: top;\n",
              "    }\n",
              "\n",
              "    .dataframe thead th {\n",
              "        text-align: right;\n",
              "    }\n",
              "</style>\n",
              "<table border=\"1\" class=\"dataframe\">\n",
              "  <thead>\n",
              "    <tr style=\"text-align: right;\">\n",
              "      <th></th>\n",
              "      <th>age</th>\n",
              "    </tr>\n",
              "  </thead>\n",
              "  <tbody>\n",
              "    <tr>\n",
              "      <th>31</th>\n",
              "      <td>314.0</td>\n",
              "    </tr>\n",
              "  </tbody>\n",
              "</table>\n",
              "</div>\n",
              "      <button class=\"colab-df-convert\" onclick=\"convertToInteractive('df-66e65784-0d22-4bfc-9521-59d5da560684')\"\n",
              "              title=\"Convert this dataframe to an interactive table.\"\n",
              "              style=\"display:none;\">\n",
              "        \n",
              "  <svg xmlns=\"http://www.w3.org/2000/svg\" height=\"24px\"viewBox=\"0 0 24 24\"\n",
              "       width=\"24px\">\n",
              "    <path d=\"M0 0h24v24H0V0z\" fill=\"none\"/>\n",
              "    <path d=\"M18.56 5.44l.94 2.06.94-2.06 2.06-.94-2.06-.94-.94-2.06-.94 2.06-2.06.94zm-11 1L8.5 8.5l.94-2.06 2.06-.94-2.06-.94L8.5 2.5l-.94 2.06-2.06.94zm10 10l.94 2.06.94-2.06 2.06-.94-2.06-.94-.94-2.06-.94 2.06-2.06.94z\"/><path d=\"M17.41 7.96l-1.37-1.37c-.4-.4-.92-.59-1.43-.59-.52 0-1.04.2-1.43.59L10.3 9.45l-7.72 7.72c-.78.78-.78 2.05 0 2.83L4 21.41c.39.39.9.59 1.41.59.51 0 1.02-.2 1.41-.59l7.78-7.78 2.81-2.81c.8-.78.8-2.07 0-2.86zM5.41 20L4 18.59l7.72-7.72 1.47 1.35L5.41 20z\"/>\n",
              "  </svg>\n",
              "      </button>\n",
              "      \n",
              "  <style>\n",
              "    .colab-df-container {\n",
              "      display:flex;\n",
              "      flex-wrap:wrap;\n",
              "      gap: 12px;\n",
              "    }\n",
              "\n",
              "    .colab-df-convert {\n",
              "      background-color: #E8F0FE;\n",
              "      border: none;\n",
              "      border-radius: 50%;\n",
              "      cursor: pointer;\n",
              "      display: none;\n",
              "      fill: #1967D2;\n",
              "      height: 32px;\n",
              "      padding: 0 0 0 0;\n",
              "      width: 32px;\n",
              "    }\n",
              "\n",
              "    .colab-df-convert:hover {\n",
              "      background-color: #E2EBFA;\n",
              "      box-shadow: 0px 1px 2px rgba(60, 64, 67, 0.3), 0px 1px 3px 1px rgba(60, 64, 67, 0.15);\n",
              "      fill: #174EA6;\n",
              "    }\n",
              "\n",
              "    [theme=dark] .colab-df-convert {\n",
              "      background-color: #3B4455;\n",
              "      fill: #D2E3FC;\n",
              "    }\n",
              "\n",
              "    [theme=dark] .colab-df-convert:hover {\n",
              "      background-color: #434B5C;\n",
              "      box-shadow: 0px 1px 3px 1px rgba(0, 0, 0, 0.15);\n",
              "      filter: drop-shadow(0px 1px 2px rgba(0, 0, 0, 0.3));\n",
              "      fill: #FFFFFF;\n",
              "    }\n",
              "  </style>\n",
              "\n",
              "      <script>\n",
              "        const buttonEl =\n",
              "          document.querySelector('#df-66e65784-0d22-4bfc-9521-59d5da560684 button.colab-df-convert');\n",
              "        buttonEl.style.display =\n",
              "          google.colab.kernel.accessAllowed ? 'block' : 'none';\n",
              "\n",
              "        async function convertToInteractive(key) {\n",
              "          const element = document.querySelector('#df-66e65784-0d22-4bfc-9521-59d5da560684');\n",
              "          const dataTable =\n",
              "            await google.colab.kernel.invokeFunction('convertToInteractive',\n",
              "                                                     [key], {});\n",
              "          if (!dataTable) return;\n",
              "\n",
              "          const docLinkHtml = 'Like what you see? Visit the ' +\n",
              "            '<a target=\"_blank\" href=https://colab.research.google.com/notebooks/data_table.ipynb>data table notebook</a>'\n",
              "            + ' to learn more about interactive tables.';\n",
              "          element.innerHTML = '';\n",
              "          dataTable['output_type'] = 'display_data';\n",
              "          await google.colab.output.renderOutput(dataTable, element);\n",
              "          const docLink = document.createElement('div');\n",
              "          docLink.innerHTML = docLinkHtml;\n",
              "          element.appendChild(docLink);\n",
              "        }\n",
              "      </script>\n",
              "    </div>\n",
              "  </div>\n",
              "  "
            ]
          },
          "metadata": {},
          "execution_count": 16
        }
      ],
      "source": [
        "sample[sample['age'] > 100]"
      ]
    },
    {
      "cell_type": "code",
      "source": [
        "sample.plot.hist()"
      ],
      "metadata": {
        "id": "s7O8e69dWrLU",
        "outputId": "53bd549d-c9ec-4ab3-c40d-2719a2419254",
        "colab": {
          "base_uri": "https://localhost:8080/",
          "height": 282
        }
      },
      "id": "s7O8e69dWrLU",
      "execution_count": 17,
      "outputs": [
        {
          "output_type": "execute_result",
          "data": {
            "text/plain": [
              "<matplotlib.axes._subplots.AxesSubplot at 0x7fcfc23a4af0>"
            ]
          },
          "metadata": {},
          "execution_count": 17
        },
        {
          "output_type": "display_data",
          "data": {
            "text/plain": [
              "<Figure size 432x288 with 1 Axes>"
            ],
            "image/png": "[encoded data removed]"
          },
          "metadata": {
            "needs_background": "light"
          }
        }
      ]
    },
    {
      "cell_type": "code",
      "execution_count": 17,
      "id": "0090d077",
      "metadata": {
        "id": "0090d077"
      },
      "outputs": [],
      "source": []
    },
    {
      "cell_type": "markdown",
      "id": "f8552b42",
      "metadata": {
        "id": "f8552b42"
      },
      "source": [
        "## Data Exploration\n",
        "\n",
        "### Data Visaulization\n",
        "- Absorb information quickly\n",
        "- Improve insights\n",
        "- Make faster decisions"
      ]
    },
    {
      "cell_type": "markdown",
      "id": "af0b3042",
      "metadata": {
        "id": "af0b3042"
      },
      "source": [
        "### World Bank\n",
        "The [World Bank](https://www.worldbank.org/en/home) is a great source of datasets\n",
        "\n",
        "#### CO2 per capita\n",
        "- Let's explore this dataset [EN.ATM.CO2E.PC](https://data.worldbank.org/indicator/EN.ATM.CO2E.PC)\n",
        "- Already available here: `files/WorldBank-ATM.CO2E.PC_DS2.csv`\n",
        "\n",
        "#### Explore typical Data Visualizations\n",
        "- Simple plot\n",
        "- Set title\n",
        "- Set labels\n",
        "- Adjust axis"
      ]
    },
    {
      "cell_type": "markdown",
      "id": "15adfd6a",
      "metadata": {
        "id": "15adfd6a"
      },
      "source": [
        "#### Read the data"
      ]
    },
    {
      "cell_type": "code",
      "execution_count": 18,
      "metadata": {
        "id": "u9ctI30dXxUw"
      },
      "outputs": [],
      "source": [
        "data = pd.read_csv('https://raw.githubusercontent.com/LearnPythonWithRune/DataScienceWithPython/main/jupyter/final/files/WorldBank-ATM.CO2E.PC_DS2.csv' ,index_col = 0)"
      ],
      "id": "u9ctI30dXxUw"
    },
    {
      "cell_type": "code",
      "execution_count": 19,
      "id": "6c99bfe5",
      "metadata": {
        "id": "6c99bfe5",
        "outputId": "e24f137a-3959-4a48-a2aa-d3bb6a314aeb",
        "colab": {
          "base_uri": "https://localhost:8080/",
          "height": 331
        }
      },
      "outputs": [
        {
          "output_type": "execute_result",
          "data": {
            "text/plain": [
              "             ABW       AFE       AFG       AFW       AGO       ALB  AND  \\\n",
              "Year                                                                      \n",
              "1960  204.631696  0.906060  0.046057  0.090880  0.100835  1.258195  NaN   \n",
              "1961  208.837879  0.922474  0.053589  0.095283  0.082204  1.374186  NaN   \n",
              "1962  226.081890  0.930816  0.073721  0.096612  0.210533  1.439956  NaN   \n",
              "1963  214.785217  0.940570  0.074161  0.112376  0.202739  1.181681  NaN   \n",
              "1964  207.626699  0.996033  0.086174  0.133258  0.213562  1.111742  NaN   \n",
              "\n",
              "           ARB       ARE       ARG  ...  VIR       VNM       VUT       WLD  \\\n",
              "Year                                ...                                      \n",
              "1960  0.609268  0.119037  2.383343  ...  NaN  0.181947       NaN  3.121158   \n",
              "1961  0.662618  0.109136  2.458551  ...  NaN  0.183099       NaN  3.068090   \n",
              "1962  0.727117  0.163542  2.538447  ...  NaN  0.217694  0.595002  3.114839   \n",
              "1963  0.853116  0.175833  2.330685  ...  NaN  0.196997  0.471849  3.221195   \n",
              "1964  0.972381  0.132815  2.553442  ...  NaN  0.209870  0.864427  3.324046   \n",
              "\n",
              "           WSM  XKX       YEM       ZAF       ZMB       ZWE  \n",
              "Year                                                         \n",
              "1960  0.135031  NaN  0.011038  5.727223       NaN       NaN  \n",
              "1961  0.163542  NaN  0.013599  5.832621       NaN       NaN  \n",
              "1962  0.158377  NaN  0.012729  5.887168       NaN       NaN  \n",
              "1963  0.184037  NaN  0.014518  5.961337       NaN       NaN  \n",
              "1964  0.208106  NaN  0.017550  6.332343  0.946606  1.034904  \n",
              "\n",
              "[5 rows x 266 columns]"
            ],
            "text/html": [
              "\n",
              "  <div id=\"df-3e2ac6b3-0c20-4e8a-b8a1-6206415b9adc\">\n",
              "    <div class=\"colab-df-container\">\n",
              "      <div>\n",
              "<style scoped>\n",
              "    .dataframe tbody tr th:only-of-type {\n",
              "        vertical-align: middle;\n",
              "    }\n",
              "\n",
              "    .dataframe tbody tr th {\n",
              "        vertical-align: top;\n",
              "    }\n",
              "\n",
              "    .dataframe thead th {\n",
              "        text-align: right;\n",
              "    }\n",
              "</style>\n",
              "<table border=\"1\" class=\"dataframe\">\n",
              "  <thead>\n",
              "    <tr style=\"text-align: right;\">\n",
              "      <th></th>\n",
              "      <th>ABW</th>\n",
              "      <th>AFE</th>\n",
              "      <th>AFG</th>\n",
              "      <th>AFW</th>\n",
              "      <th>AGO</th>\n",
              "      <th>ALB</th>\n",
              "      <th>AND</th>\n",
              "      <th>ARB</th>\n",
              "      <th>ARE</th>\n",
              "      <th>ARG</th>\n",
              "      <th>...</th>\n",
              "      <th>VIR</th>\n",
              "      <th>VNM</th>\n",
              "      <th>VUT</th>\n",
              "      <th>WLD</th>\n",
              "      <th>WSM</th>\n",
              "      <th>XKX</th>\n",
              "      <th>YEM</th>\n",
              "      <th>ZAF</th>\n",
              "      <th>ZMB</th>\n",
              "      <th>ZWE</th>\n",
              "    </tr>\n",
              "    <tr>\n",
              "      <th>Year</th>\n",
              "      <th></th>\n",
              "      <th></th>\n",
              "      <th></th>\n",
              "      <th></th>\n",
              "      <th></th>\n",
              "      <th></th>\n",
              "      <th></th>\n",
              "      <th></th>\n",
              "      <th></th>\n",
              "      <th></th>\n",
              "      <th></th>\n",
              "      <th></th>\n",
              "      <th></th>\n",
              "      <th></th>\n",
              "      <th></th>\n",
              "      <th></th>\n",
              "      <th></th>\n",
              "      <th></th>\n",
              "      <th></th>\n",
              "      <th></th>\n",
              "      <th></th>\n",
              "    </tr>\n",
              "  </thead>\n",
              "  <tbody>\n",
              "    <tr>\n",
              "      <th>1960</th>\n",
              "      <td>204.631696</td>\n",
              "      <td>0.906060</td>\n",
              "      <td>0.046057</td>\n",
              "      <td>0.090880</td>\n",
              "      <td>0.100835</td>\n",
              "      <td>1.258195</td>\n",
              "      <td>NaN</td>\n",
              "      <td>0.609268</td>\n",
              "      <td>0.119037</td>\n",
              "      <td>2.383343</td>\n",
              "      <td>...</td>\n",
              "      <td>NaN</td>\n",
              "      <td>0.181947</td>\n",
              "      <td>NaN</td>\n",
              "      <td>3.121158</td>\n",
              "      <td>0.135031</td>\n",
              "      <td>NaN</td>\n",
              "      <td>0.011038</td>\n",
              "      <td>5.727223</td>\n",
              "      <td>NaN</td>\n",
              "      <td>NaN</td>\n",
              "    </tr>\n",
              "    <tr>\n",
              "      <th>1961</th>\n",
              "      <td>208.837879</td>\n",
              "      <td>0.922474</td>\n",
              "      <td>0.053589</td>\n",
              "      <td>0.095283</td>\n",
              "      <td>0.082204</td>\n",
              "      <td>1.374186</td>\n",
              "      <td>NaN</td>\n",
              "      <td>0.662618</td>\n",
              "      <td>0.109136</td>\n",
              "      <td>2.458551</td>\n",
              "      <td>...</td>\n",
              "      <td>NaN</td>\n",
              "      <td>0.183099</td>\n",
              "      <td>NaN</td>\n",
              "      <td>3.068090</td>\n",
              "      <td>0.163542</td>\n",
              "      <td>NaN</td>\n",
              "      <td>0.013599</td>\n",
              "      <td>5.832621</td>\n",
              "      <td>NaN</td>\n",
              "      <td>NaN</td>\n",
              "    </tr>\n",
              "    <tr>\n",
              "      <th>1962</th>\n",
              "      <td>226.081890</td>\n",
              "      <td>0.930816</td>\n",
              "      <td>0.073721</td>\n",
              "      <td>0.096612</td>\n",
              "      <td>0.210533</td>\n",
              "      <td>1.439956</td>\n",
              "      <td>NaN</td>\n",
              "      <td>0.727117</td>\n",
              "      <td>0.163542</td>\n",
              "      <td>2.538447</td>\n",
              "      <td>...</td>\n",
              "      <td>NaN</td>\n",
              "      <td>0.217694</td>\n",
              "      <td>0.595002</td>\n",
              "      <td>3.114839</td>\n",
              "      <td>0.158377</td>\n",
              "      <td>NaN</td>\n",
              "      <td>0.012729</td>\n",
              "      <td>5.887168</td>\n",
              "      <td>NaN</td>\n",
              "      <td>NaN</td>\n",
              "    </tr>\n",
              "    <tr>\n",
              "      <th>1963</th>\n",
              "      <td>214.785217</td>\n",
              "      <td>0.940570</td>\n",
              "      <td>0.074161</td>\n",
              "      <td>0.112376</td>\n",
              "      <td>0.202739</td>\n",
              "      <td>1.181681</td>\n",
              "      <td>NaN</td>\n",
              "      <td>0.853116</td>\n",
              "      <td>0.175833</td>\n",
              "      <td>2.330685</td>\n",
              "      <td>...</td>\n",
              "      <td>NaN</td>\n",
              "      <td>0.196997</td>\n",
              "      <td>0.471849</td>\n",
              "      <td>3.221195</td>\n",
              "      <td>0.184037</td>\n",
              "      <td>NaN</td>\n",
              "      <td>0.014518</td>\n",
              "      <td>5.961337</td>\n",
              "      <td>NaN</td>\n",
              "      <td>NaN</td>\n",
              "    </tr>\n",
              "    <tr>\n",
              "      <th>1964</th>\n",
              "      <td>207.626699</td>\n",
              "      <td>0.996033</td>\n",
              "      <td>0.086174</td>\n",
              "      <td>0.133258</td>\n",
              "      <td>0.213562</td>\n",
              "      <td>1.111742</td>\n",
              "      <td>NaN</td>\n",
              "      <td>0.972381</td>\n",
              "      <td>0.132815</td>\n",
              "      <td>2.553442</td>\n",
              "      <td>...</td>\n",
              "      <td>NaN</td>\n",
              "      <td>0.209870</td>\n",
              "      <td>0.864427</td>\n",
              "      <td>3.324046</td>\n",
              "      <td>0.208106</td>\n",
              "      <td>NaN</td>\n",
              "      <td>0.017550</td>\n",
              "      <td>6.332343</td>\n",
              "      <td>0.946606</td>\n",
              "      <td>1.034904</td>\n",
              "    </tr>\n",
              "  </tbody>\n",
              "</table>\n",
              "<p>5 rows × 266 columns</p>\n",
              "</div>\n",
              "      <button class=\"colab-df-convert\" onclick=\"convertToInteractive('df-3e2ac6b3-0c20-4e8a-b8a1-6206415b9adc')\"\n",
              "              title=\"Convert this dataframe to an interactive table.\"\n",
              "              style=\"display:none;\">\n",
              "        \n",
              "  <svg xmlns=\"http://www.w3.org/2000/svg\" height=\"24px\"viewBox=\"0 0 24 24\"\n",
              "       width=\"24px\">\n",
              "    <path d=\"M0 0h24v24H0V0z\" fill=\"none\"/>\n",
              "    <path d=\"M18.56 5.44l.94 2.06.94-2.06 2.06-.94-2.06-.94-.94-2.06-.94 2.06-2.06.94zm-11 1L8.5 8.5l.94-2.06 2.06-.94-2.06-.94L8.5 2.5l-.94 2.06-2.06.94zm10 10l.94 2.06.94-2.06 2.06-.94-2.06-.94-.94-2.06-.94 2.06-2.06.94z\"/><path d=\"M17.41 7.96l-1.37-1.37c-.4-.4-.92-.59-1.43-.59-.52 0-1.04.2-1.43.59L10.3 9.45l-7.72 7.72c-.78.78-.78 2.05 0 2.83L4 21.41c.39.39.9.59 1.41.59.51 0 1.02-.2 1.41-.59l7.78-7.78 2.81-2.81c.8-.78.8-2.07 0-2.86zM5.41 20L4 18.59l7.72-7.72 1.47 1.35L5.41 20z\"/>\n",
              "  </svg>\n",
              "      </button>\n",
              "      \n",
              "  <style>\n",
              "    .colab-df-container {\n",
              "      display:flex;\n",
              "      flex-wrap:wrap;\n",
              "      gap: 12px;\n",
              "    }\n",
              "\n",
              "    .colab-df-convert {\n",
              "      background-color: #E8F0FE;\n",
              "      border: none;\n",
              "      border-radius: 50%;\n",
              "      cursor: pointer;\n",
              "      display: none;\n",
              "      fill: #1967D2;\n",
              "      height: 32px;\n",
              "      padding: 0 0 0 0;\n",
              "      width: 32px;\n",
              "    }\n",
              "\n",
              "    .colab-df-convert:hover {\n",
              "      background-color: #E2EBFA;\n",
              "      box-shadow: 0px 1px 2px rgba(60, 64, 67, 0.3), 0px 1px 3px 1px rgba(60, 64, 67, 0.15);\n",
              "      fill: #174EA6;\n",
              "    }\n",
              "\n",
              "    [theme=dark] .colab-df-convert {\n",
              "      background-color: #3B4455;\n",
              "      fill: #D2E3FC;\n",
              "    }\n",
              "\n",
              "    [theme=dark] .colab-df-convert:hover {\n",
              "      background-color: #434B5C;\n",
              "      box-shadow: 0px 1px 3px 1px rgba(0, 0, 0, 0.15);\n",
              "      filter: drop-shadow(0px 1px 2px rgba(0, 0, 0, 0.3));\n",
              "      fill: #FFFFFF;\n",
              "    }\n",
              "  </style>\n",
              "\n",
              "      <script>\n",
              "        const buttonEl =\n",
              "          document.querySelector('#df-3e2ac6b3-0c20-4e8a-b8a1-6206415b9adc button.colab-df-convert');\n",
              "        buttonEl.style.display =\n",
              "          google.colab.kernel.accessAllowed ? 'block' : 'none';\n",
              "\n",
              "        async function convertToInteractive(key) {\n",
              "          const element = document.querySelector('#df-3e2ac6b3-0c20-4e8a-b8a1-6206415b9adc');\n",
              "          const dataTable =\n",
              "            await google.colab.kernel.invokeFunction('convertToInteractive',\n",
              "                                                     [key], {});\n",
              "          if (!dataTable) return;\n",
              "\n",
              "          const docLinkHtml = 'Like what you see? Visit the ' +\n",
              "            '<a target=\"_blank\" href=https://colab.research.google.com/notebooks/data_table.ipynb>data table notebook</a>'\n",
              "            + ' to learn more about interactive tables.';\n",
              "          element.innerHTML = '';\n",
              "          dataTable['output_type'] = 'display_data';\n",
              "          await google.colab.output.renderOutput(dataTable, element);\n",
              "          const docLink = document.createElement('div');\n",
              "          docLink.innerHTML = docLinkHtml;\n",
              "          element.appendChild(docLink);\n",
              "        }\n",
              "      </script>\n",
              "    </div>\n",
              "  </div>\n",
              "  "
            ]
          },
          "metadata": {},
          "execution_count": 19
        }
      ],
      "source": [
        "data.head()"
      ]
    },
    {
      "cell_type": "markdown",
      "id": "9452886d",
      "metadata": {
        "id": "9452886d"
      },
      "source": [
        "#### Simple plot\n",
        "- ```.plot()``` Creates a simple plot of data\n",
        "- This gives you an idea of the data"
      ]
    },
    {
      "cell_type": "code",
      "source": [
        "data['USA']"
      ],
      "metadata": {
        "id": "WQDgnrLKYmpm",
        "outputId": "d3f94fd0-e788-44ee-c43f-e6a37e70ed01",
        "colab": {
          "base_uri": "https://localhost:8080/"
        }
      },
      "id": "WQDgnrLKYmpm",
      "execution_count": 20,
      "outputs": [
        {
          "output_type": "execute_result",
          "data": {
            "text/plain": [
              "Year\n",
              "1960    15.999779\n",
              "1961    15.681256\n",
              "1962    16.013937\n",
              "1963    16.482762\n",
              "1964    16.968119\n",
              "1965    17.451725\n",
              "1966    18.121073\n",
              "1967    18.598318\n",
              "1968    19.089389\n",
              "1969    19.857946\n",
              "1970    21.111252\n",
              "1971    20.980203\n",
              "1972    21.748642\n",
              "1973    22.510582\n",
              "1974    21.502930\n",
              "1975    20.402224\n",
              "1976    21.157615\n",
              "1977    21.532484\n",
              "1978    21.973005\n",
              "1979    21.780437\n",
              "1980    20.786488\n",
              "1981    19.766764\n",
              "1982    18.590495\n",
              "1983    18.571544\n",
              "1984    18.976750\n",
              "1985    18.882313\n",
              "1986    18.720723\n",
              "1987    19.350334\n",
              "1988    20.010413\n",
              "1989    20.075770\n",
              "1990    19.409229\n",
              "1991    19.005736\n",
              "1992    19.025082\n",
              "1993    19.238109\n",
              "1994    19.280611\n",
              "1995    19.253938\n",
              "1996    19.611090\n",
              "1997    20.347873\n",
              "1998    20.266880\n",
              "1999    20.105720\n",
              "2000    20.471933\n",
              "2001    20.175005\n",
              "2002    19.449478\n",
              "2003    19.508705\n",
              "2004    19.603573\n",
              "2005    19.478026\n",
              "2006    18.957644\n",
              "2007    19.056027\n",
              "2008    18.294806\n",
              "2009    16.818868\n",
              "2010    17.434196\n",
              "2011    16.599404\n",
              "2012    15.771145\n",
              "2013    16.102958\n",
              "2014    16.026379\n",
              "2015    15.535342\n",
              "2016    15.131747\n",
              "2017    14.805882\n",
              "2018    15.240875\n",
              "Name: USA, dtype: float64"
            ]
          },
          "metadata": {},
          "execution_count": 20
        }
      ]
    },
    {
      "cell_type": "code",
      "execution_count": 21,
      "id": "f5dc3e7f",
      "metadata": {
        "id": "f5dc3e7f",
        "outputId": "5fa9e5a9-eaa6-4a32-e0c3-763d4206daf8",
        "colab": {
          "base_uri": "https://localhost:8080/",
          "height": 296
        }
      },
      "outputs": [
        {
          "output_type": "execute_result",
          "data": {
            "text/plain": [
              "<matplotlib.axes._subplots.AxesSubplot at 0x7fcfc2341dc0>"
            ]
          },
          "metadata": {},
          "execution_count": 21
        },
        {
          "output_type": "display_data",
          "data": {
            "text/plain": [
              "<Figure size 432x288 with 1 Axes>"
            ],
            "image/png": "[encoded data removed]"
          },
          "metadata": {
            "needs_background": "light"
          }
        }
      ],
      "source": [
        "data['USA'].plot()"
      ]
    },
    {
      "cell_type": "code",
      "execution_count": 21,
      "id": "650156fd",
      "metadata": {
        "id": "650156fd"
      },
      "outputs": [],
      "source": []
    },
    {
      "cell_type": "markdown",
      "id": "59db0683",
      "metadata": {
        "id": "59db0683"
      },
      "source": [
        "#### Adding title and labels\n",
        "Arguments\n",
        "- ```title='Tilte'``` adds the title\n",
        "- ```xlabel='X label'``` adds or changes the X-label\n",
        "- ```ylabel='X label'``` adds or changes the Y-label"
      ]
    },
    {
      "cell_type": "code",
      "execution_count": 22,
      "id": "6b791f27",
      "metadata": {
        "colab": {
          "base_uri": "https://localhost:8080/",
          "height": 312
        },
        "id": "6b791f27",
        "outputId": "c9f9aff4-1957-4da6-ab87-cdb199856ab5"
      },
      "outputs": [
        {
          "output_type": "execute_result",
          "data": {
            "text/plain": [
              "<matplotlib.axes._subplots.AxesSubplot at 0x7fcfc22a0a60>"
            ]
          },
          "metadata": {},
          "execution_count": 22
        },
        {
          "output_type": "display_data",
          "data": {
            "text/plain": [
              "<Figure size 432x288 with 1 Axes>"
            ],
            "image/png": "[encoded data removed]"
          },
          "metadata": {
            "needs_background": "light"
          }
        }
      ],
      "source": [
        "data['USA'].plot(title = 'CO2 per capita in USA',ylabel = 'CO2 per capita')"
      ]
    },
    {
      "cell_type": "code",
      "execution_count": 22,
      "id": "ed887a73",
      "metadata": {
        "id": "ed887a73"
      },
      "outputs": [],
      "source": []
    },
    {
      "cell_type": "markdown",
      "id": "22986250",
      "metadata": {
        "id": "22986250"
      },
      "source": [
        "#### Adding axis range\n",
        "- ```xlim=(min, max)``` or ```xlim=min``` Sets the x-axis range\n",
        "- ```ylim=(min, max)``` or ```ylim=min``` Sets the y-axis range"
      ]
    },
    {
      "cell_type": "code",
      "execution_count": 22,
      "id": "b65c973f",
      "metadata": {
        "id": "b65c973f"
      },
      "outputs": [],
      "source": []
    },
    {
      "cell_type": "code",
      "execution_count": 22,
      "id": "5a96cf1d",
      "metadata": {
        "id": "5a96cf1d"
      },
      "outputs": [],
      "source": []
    },
    {
      "cell_type": "markdown",
      "id": "5c317580",
      "metadata": {
        "id": "5c317580"
      },
      "source": [
        "### Comparing data\n",
        "- Explore **USA** and **WLD**"
      ]
    },
    {
      "cell_type": "code",
      "execution_count": 23,
      "id": "d9c8b20f",
      "metadata": {
        "id": "d9c8b20f",
        "outputId": "bdf075ca-6f75-4e9c-8660-751bef87a6ba",
        "colab": {
          "base_uri": "https://localhost:8080/",
          "height": 296
        }
      },
      "outputs": [
        {
          "output_type": "execute_result",
          "data": {
            "text/plain": [
              "<matplotlib.axes._subplots.AxesSubplot at 0x7fcfc238ffd0>"
            ]
          },
          "metadata": {},
          "execution_count": 23
        },
        {
          "output_type": "display_data",
          "data": {
            "text/plain": [
              "<Figure size 432x288 with 1 Axes>"
            ],
            "image/png": "[encoded data removed]"
          },
          "metadata": {
            "needs_background": "light"
          }
        }
      ],
      "source": [
        "data[['USA','WLD',]].plot(ylim = 0)"
      ]
    },
    {
      "cell_type": "code",
      "execution_count": 23,
      "id": "253d92fa",
      "metadata": {
        "id": "253d92fa"
      },
      "outputs": [],
      "source": []
    },
    {
      "cell_type": "markdown",
      "id": "07642699",
      "metadata": {
        "id": "07642699"
      },
      "source": [
        "#### Set the figure size\n",
        "- ```figsize=(width, height)``` in inches"
      ]
    },
    {
      "cell_type": "code",
      "execution_count": 24,
      "id": "7537e929",
      "metadata": {
        "id": "7537e929",
        "outputId": "ab5ae42b-5d1f-4004-dd81-28c0b0adf079",
        "colab": {
          "base_uri": "https://localhost:8080/",
          "height": 253
        }
      },
      "outputs": [
        {
          "output_type": "execute_result",
          "data": {
            "text/plain": [
              "<matplotlib.axes._subplots.AxesSubplot at 0x7fcfc21fa370>"
            ]
          },
          "metadata": {},
          "execution_count": 24
        },
        {
          "output_type": "display_data",
          "data": {
            "text/plain": [
              "<Figure size 1440x432 with 1 Axes>"
            ],
            "image/png": "[encoded data removed]"
          },
          "metadata": {
            "needs_background": "light"
          }
        }
      ],
      "source": [
        "data[['USA','WLD',]].plot(ylim = 0,figsize =(20,6))"
      ]
    },
    {
      "cell_type": "code",
      "execution_count": 24,
      "id": "561b11a0",
      "metadata": {
        "id": "561b11a0"
      },
      "outputs": [],
      "source": []
    },
    {
      "cell_type": "markdown",
      "id": "447a4bcf",
      "metadata": {
        "id": "447a4bcf"
      },
      "source": [
        "### Bar plot\n",
        "- ```.plot.bar()``` Create a bar plot"
      ]
    },
    {
      "cell_type": "code",
      "execution_count": 25,
      "id": "6fdb82dc",
      "metadata": {
        "id": "6fdb82dc",
        "outputId": "3f2f02f7-b285-4934-c4ed-1865917de8bc",
        "colab": {
          "base_uri": "https://localhost:8080/",
          "height": 262
        }
      },
      "outputs": [
        {
          "output_type": "execute_result",
          "data": {
            "text/plain": [
              "<matplotlib.axes._subplots.AxesSubplot at 0x7fcfc2157940>"
            ]
          },
          "metadata": {},
          "execution_count": 25
        },
        {
          "output_type": "display_data",
          "data": {
            "text/plain": [
              "<Figure size 1440x432 with 1 Axes>"
            ],
            "image/png": "[encoded data removed]"
          },
          "metadata": {
            "needs_background": "light"
          }
        }
      ],
      "source": [
        "data['USA'].plot.bar(figsize=(20,6))"
      ]
    },
    {
      "cell_type": "code",
      "execution_count": 26,
      "id": "6c45e8a6",
      "metadata": {
        "id": "6c45e8a6",
        "outputId": "96f94822-89b4-455c-db85-c55e45dfa5ab",
        "colab": {
          "base_uri": "https://localhost:8080/",
          "height": 262
        }
      },
      "outputs": [
        {
          "output_type": "execute_result",
          "data": {
            "text/plain": [
              "<matplotlib.axes._subplots.AxesSubplot at 0x7fcfc2039880>"
            ]
          },
          "metadata": {},
          "execution_count": 26
        },
        {
          "output_type": "display_data",
          "data": {
            "text/plain": [
              "<Figure size 1440x432 with 1 Axes>"
            ],
            "image/png": "[encoded data removed]"
          },
          "metadata": {
            "needs_background": "light"
          }
        }
      ],
      "source": [
        "data[['USA','WLD',]].plot.bar(ylim = 0,figsize =(20,6))"
      ]
    },
    {
      "cell_type": "markdown",
      "id": "e29639c4",
      "metadata": {
        "id": "e29639c4"
      },
      "source": [
        "### Plot a range of data\n",
        "- ```.loc[from:to]``` apply this on the DataFrame to get a range (both inclusive)"
      ]
    },
    {
      "cell_type": "code",
      "execution_count": 27,
      "id": "01d8f1c6",
      "metadata": {
        "id": "01d8f1c6",
        "outputId": "6849e80a-2a57-426d-8660-143a00764b20",
        "colab": {
          "base_uri": "https://localhost:8080/",
          "height": 260
        }
      },
      "outputs": [
        {
          "output_type": "execute_result",
          "data": {
            "text/plain": [
              "<matplotlib.axes._subplots.AxesSubplot at 0x7fcfc1e468e0>"
            ]
          },
          "metadata": {},
          "execution_count": 27
        },
        {
          "output_type": "display_data",
          "data": {
            "text/plain": [
              "<Figure size 1440x432 with 1 Axes>"
            ],
            "image/png": "[encoded data removed]"
          },
          "metadata": {
            "needs_background": "light"
          }
        }
      ],
      "source": [
        "data[['USA','WLD',]].loc[2000:].plot.bar(ylim = 0,figsize =(20,6))"
      ]
    },
    {
      "cell_type": "code",
      "execution_count": 27,
      "id": "c0333425",
      "metadata": {
        "id": "c0333425"
      },
      "outputs": [],
      "source": []
    },
    {
      "cell_type": "markdown",
      "id": "d5739df8",
      "metadata": {
        "id": "d5739df8"
      },
      "source": [
        "### Histogram\n",
        "- ```.plot.hist()``` Create a histogram\n",
        "- ```bins=<number of bins>``` Specify the number of bins in the histogram."
      ]
    },
    {
      "cell_type": "code",
      "execution_count": 28,
      "id": "6ef899b8",
      "metadata": {
        "id": "6ef899b8",
        "outputId": "d17c577c-d2c7-4121-8a85-6d1979c19709",
        "colab": {
          "base_uri": "https://localhost:8080/",
          "height": 242
        }
      },
      "outputs": [
        {
          "output_type": "execute_result",
          "data": {
            "text/plain": [
              "<matplotlib.axes._subplots.AxesSubplot at 0x7fcfc1d23a90>"
            ]
          },
          "metadata": {},
          "execution_count": 28
        },
        {
          "output_type": "display_data",
          "data": {
            "text/plain": [
              "<Figure size 1440x432 with 1 Axes>"
            ],
            "image/png": "[encoded data removed]"
          },
          "metadata": {
            "needs_background": "light"
          }
        }
      ],
      "source": [
        "data['USA'].plot.hist(figsize=(20,6))"
      ]
    },
    {
      "cell_type": "code",
      "execution_count": 29,
      "id": "790cd05c",
      "metadata": {
        "id": "790cd05c",
        "outputId": "c0a5eaf2-404b-4123-b877-4dc5c3b48e39",
        "colab": {
          "base_uri": "https://localhost:8080/",
          "height": 240
        }
      },
      "outputs": [
        {
          "output_type": "execute_result",
          "data": {
            "text/plain": [
              "<matplotlib.axes._subplots.AxesSubplot at 0x7fcfc1c9e340>"
            ]
          },
          "metadata": {},
          "execution_count": 29
        },
        {
          "output_type": "display_data",
          "data": {
            "text/plain": [
              "<Figure size 1440x432 with 1 Axes>"
            ],
            "image/png": "[encoded data removed]"
          },
          "metadata": {
            "needs_background": "light"
          }
        }
      ],
      "source": [
        "data['USA'].plot.hist(figsize=(20,6),bins = 5) #bins specify the how many highs are to be in the plot"
      ]
    },
    {
      "cell_type": "markdown",
      "id": "565e931d",
      "metadata": {
        "id": "565e931d"
      },
      "source": [
        "### Pie chart\n",
        "- ```.plot.pie()``` Creates a Pie Chart"
      ]
    },
    {
      "cell_type": "code",
      "execution_count": 30,
      "id": "32978717",
      "metadata": {
        "id": "32978717"
      },
      "outputs": [],
      "source": [
        "df = pd.Series(data = (3,5,7), index = ['D1','D2','D3'])"
      ]
    },
    {
      "cell_type": "code",
      "execution_count": 31,
      "id": "af1d4eac",
      "metadata": {
        "id": "af1d4eac",
        "outputId": "2f32b215-2fc0-4368-917f-13c582b07a1e",
        "colab": {
          "base_uri": "https://localhost:8080/"
        }
      },
      "outputs": [
        {
          "output_type": "execute_result",
          "data": {
            "text/plain": [
              "D1    3\n",
              "D2    5\n",
              "D3    7\n",
              "dtype: int64"
            ]
          },
          "metadata": {},
          "execution_count": 31
        }
      ],
      "source": [
        "df"
      ]
    },
    {
      "cell_type": "code",
      "source": [
        "df.plot.pie(title = \"CO2\",ylabel = \"numbers\")"
      ],
      "metadata": {
        "id": "4ODh02LvdTrz",
        "outputId": "ff6c8e5c-46b3-4155-970e-911257f750bb",
        "colab": {
          "base_uri": "https://localhost:8080/",
          "height": 281
        }
      },
      "id": "4ODh02LvdTrz",
      "execution_count": 32,
      "outputs": [
        {
          "output_type": "execute_result",
          "data": {
            "text/plain": [
              "<matplotlib.axes._subplots.AxesSubplot at 0x7fcfc1c74c70>"
            ]
          },
          "metadata": {},
          "execution_count": 32
        },
        {
          "output_type": "display_data",
          "data": {
            "text/plain": [
              "<Figure size 432x288 with 1 Axes>"
            ],
            "image/png": "[encoded data removed]"
          },
          "metadata": {}
        }
      ]
    },
    {
      "cell_type": "code",
      "source": [
        "data['USA'].loc[2000:].plot.pie(figsize = (20,6))"
      ],
      "metadata": {
        "id": "dhGyy5UXds1w",
        "outputId": "f961615f-f0ae-4bed-c2e0-66e767d23848",
        "colab": {
          "base_uri": "https://localhost:8080/",
          "height": 374
        }
      },
      "id": "dhGyy5UXds1w",
      "execution_count": 33,
      "outputs": [
        {
          "output_type": "execute_result",
          "data": {
            "text/plain": [
              "<matplotlib.axes._subplots.AxesSubplot at 0x7fcfc1c95d90>"
            ]
          },
          "metadata": {},
          "execution_count": 33
        },
        {
          "output_type": "display_data",
          "data": {
            "text/plain": [
              "<Figure size 1440x432 with 1 Axes>"
            ],
            "image/png": "[encoded data removed]"
          },
          "metadata": {}
        }
      ]
    },
    {
      "cell_type": "markdown",
      "id": "0122ddf5",
      "metadata": {
        "id": "0122ddf5"
      },
      "source": [
        "### Value counts and pie charts\n",
        "- A simple chart of values above/below a threshold\n",
        "- ```.value_counts()``` Counts occurences of values in a Series (or DataFrame column)\n",
        "- A few arguments to ```.plot.pie()```\n",
        "    - ```colors=<list of colors>```\n",
        "    - ```labels=<list of labels>```\n",
        "    - ```title='<title>'```\n",
        "    - ```ylabel='<label>'```\n",
        "    - ```autopct='%1.1f%%'``` sets percentages on chart"
      ]
    },
    {
      "cell_type": "code",
      "execution_count": 34,
      "id": "3858b0ff",
      "metadata": {
        "id": "3858b0ff",
        "outputId": "05178285-ce07-43dc-bca7-a578fad5c708",
        "colab": {
          "base_uri": "https://localhost:8080/"
        }
      },
      "outputs": [
        {
          "output_type": "execute_result",
          "data": {
            "text/plain": [
              "59"
            ]
          },
          "metadata": {},
          "execution_count": 34
        }
      ],
      "source": [
        "(data['USA'] < 17.5).count()  #will give the count of all the values which obeys the condition"
      ]
    },
    {
      "cell_type": "code",
      "source": [
        "(data['USA'] < 17.5).value_counts() #will give the each and individual like false statement and the true statement also"
      ],
      "metadata": {
        "id": "f0UF7kZ8fjXO",
        "outputId": "f4a72df4-8719-4131-c432-93ad87acb3e5",
        "colab": {
          "base_uri": "https://localhost:8080/"
        }
      },
      "id": "f0UF7kZ8fjXO",
      "execution_count": 35,
      "outputs": [
        {
          "output_type": "execute_result",
          "data": {
            "text/plain": [
              "False    43\n",
              "True     16\n",
              "Name: USA, dtype: int64"
            ]
          },
          "metadata": {},
          "execution_count": 35
        }
      ]
    },
    {
      "cell_type": "code",
      "execution_count": 36,
      "id": "d409f15b",
      "metadata": {
        "id": "d409f15b",
        "outputId": "5276e6c6-d208-4c6b-b66e-2b4da2ea71e0",
        "colab": {
          "base_uri": "https://localhost:8080/",
          "height": 281
        }
      },
      "outputs": [
        {
          "output_type": "execute_result",
          "data": {
            "text/plain": [
              "<matplotlib.axes._subplots.AxesSubplot at 0x7fcfc1c38be0>"
            ]
          },
          "metadata": {},
          "execution_count": 36
        },
        {
          "output_type": "display_data",
          "data": {
            "text/plain": [
              "<Figure size 432x288 with 1 Axes>"
            ],
            "image/png": "[encoded data removed]"
          },
          "metadata": {}
        }
      ],
      "source": [
        "(data['USA'] < 17.5).value_counts().plot.pie(colors = ['r','b'], labels=['>=17.5','<17.5'],title = 'CO2 per capital',autopct = '%1.1f%%' )"
      ]
    },
    {
      "cell_type": "markdown",
      "id": "8a088d51",
      "metadata": {
        "id": "8a088d51"
      },
      "source": [
        "### Scatter plot\n",
        "- Assume we want to investigate if GDP per capita and CO2 per capita are correlated\n",
        "    - Data available in *'files/co2_gdp_per_capita.csv'*\n",
        "- ```.plot.scatter(x=<label>, y=<label>)``` Create a scatter plot\n",
        "- ```.corr()``` Compute pairwise correlation of columns ([docs](https://pandas.pydata.org/docs/reference/api/pandas.DataFrame.corr.html))"
      ]
    },
    {
      "cell_type": "code",
      "execution_count": 37,
      "id": "d8e9b102",
      "metadata": {
        "id": "d8e9b102"
      },
      "outputs": [],
      "source": [
        "data1 = pd.read_csv('https://raw.githubusercontent.com/LearnPythonWithRune/DataScienceWithPython/main/jupyter/final/files/co2_gdp_per_capita.csv' ,index_col = 0)"
      ]
    },
    {
      "cell_type": "code",
      "source": [
        "data1"
      ],
      "metadata": {
        "id": "EIjba2_0hrQj",
        "outputId": "8048deb7-78ba-4bf1-ed6a-0a4e9b6457aa",
        "colab": {
          "base_uri": "https://localhost:8080/",
          "height": 423
        }
      },
      "id": "EIjba2_0hrQj",
      "execution_count": 38,
      "outputs": [
        {
          "output_type": "execute_result",
          "data": {
            "text/plain": [
              "     CO2 per capita  GDP per capita\n",
              "AFE        0.933541     1507.861055\n",
              "AFG        0.200151      568.827927\n",
              "AFW        0.515544     1834.366604\n",
              "AGO        0.887380     3595.106667\n",
              "ALB        1.939732     4433.741739\n",
              "..              ...             ...\n",
              "WSM        1.631588     4297.910383\n",
              "YEM        0.326682     1290.925239\n",
              "ZAF        7.496645     5639.901997\n",
              "ZMB        0.446065     1368.600235\n",
              "ZWE        0.849793     1509.523735\n",
              "\n",
              "[233 rows x 2 columns]"
            ],
            "text/html": [
              "\n",
              "  <div id=\"df-36c256cd-080c-429e-a709-752e12326bfd\">\n",
              "    <div class=\"colab-df-container\">\n",
              "      <div>\n",
              "<style scoped>\n",
              "    .dataframe tbody tr th:only-of-type {\n",
              "        vertical-align: middle;\n",
              "    }\n",
              "\n",
              "    .dataframe tbody tr th {\n",
              "        vertical-align: top;\n",
              "    }\n",
              "\n",
              "    .dataframe thead th {\n",
              "        text-align: right;\n",
              "    }\n",
              "</style>\n",
              "<table border=\"1\" class=\"dataframe\">\n",
              "  <thead>\n",
              "    <tr style=\"text-align: right;\">\n",
              "      <th></th>\n",
              "      <th>CO2 per capita</th>\n",
              "      <th>GDP per capita</th>\n",
              "    </tr>\n",
              "  </thead>\n",
              "  <tbody>\n",
              "    <tr>\n",
              "      <th>AFE</th>\n",
              "      <td>0.933541</td>\n",
              "      <td>1507.861055</td>\n",
              "    </tr>\n",
              "    <tr>\n",
              "      <th>AFG</th>\n",
              "      <td>0.200151</td>\n",
              "      <td>568.827927</td>\n",
              "    </tr>\n",
              "    <tr>\n",
              "      <th>AFW</th>\n",
              "      <td>0.515544</td>\n",
              "      <td>1834.366604</td>\n",
              "    </tr>\n",
              "    <tr>\n",
              "      <th>AGO</th>\n",
              "      <td>0.887380</td>\n",
              "      <td>3595.106667</td>\n",
              "    </tr>\n",
              "    <tr>\n",
              "      <th>ALB</th>\n",
              "      <td>1.939732</td>\n",
              "      <td>4433.741739</td>\n",
              "    </tr>\n",
              "    <tr>\n",
              "      <th>...</th>\n",
              "      <td>...</td>\n",
              "      <td>...</td>\n",
              "    </tr>\n",
              "    <tr>\n",
              "      <th>WSM</th>\n",
              "      <td>1.631588</td>\n",
              "      <td>4297.910383</td>\n",
              "    </tr>\n",
              "    <tr>\n",
              "      <th>YEM</th>\n",
              "      <td>0.326682</td>\n",
              "      <td>1290.925239</td>\n",
              "    </tr>\n",
              "    <tr>\n",
              "      <th>ZAF</th>\n",
              "      <td>7.496645</td>\n",
              "      <td>5639.901997</td>\n",
              "    </tr>\n",
              "    <tr>\n",
              "      <th>ZMB</th>\n",
              "      <td>0.446065</td>\n",
              "      <td>1368.600235</td>\n",
              "    </tr>\n",
              "    <tr>\n",
              "      <th>ZWE</th>\n",
              "      <td>0.849793</td>\n",
              "      <td>1509.523735</td>\n",
              "    </tr>\n",
              "  </tbody>\n",
              "</table>\n",
              "<p>233 rows × 2 columns</p>\n",
              "</div>\n",
              "      <button class=\"colab-df-convert\" onclick=\"convertToInteractive('df-36c256cd-080c-429e-a709-752e12326bfd')\"\n",
              "              title=\"Convert this dataframe to an interactive table.\"\n",
              "              style=\"display:none;\">\n",
              "        \n",
              "  <svg xmlns=\"http://www.w3.org/2000/svg\" height=\"24px\"viewBox=\"0 0 24 24\"\n",
              "       width=\"24px\">\n",
              "    <path d=\"M0 0h24v24H0V0z\" fill=\"none\"/>\n",
              "    <path d=\"M18.56 5.44l.94 2.06.94-2.06 2.06-.94-2.06-.94-.94-2.06-.94 2.06-2.06.94zm-11 1L8.5 8.5l.94-2.06 2.06-.94-2.06-.94L8.5 2.5l-.94 2.06-2.06.94zm10 10l.94 2.06.94-2.06 2.06-.94-2.06-.94-.94-2.06-.94 2.06-2.06.94z\"/><path d=\"M17.41 7.96l-1.37-1.37c-.4-.4-.92-.59-1.43-.59-.52 0-1.04.2-1.43.59L10.3 9.45l-7.72 7.72c-.78.78-.78 2.05 0 2.83L4 21.41c.39.39.9.59 1.41.59.51 0 1.02-.2 1.41-.59l7.78-7.78 2.81-2.81c.8-.78.8-2.07 0-2.86zM5.41 20L4 18.59l7.72-7.72 1.47 1.35L5.41 20z\"/>\n",
              "  </svg>\n",
              "      </button>\n",
              "      \n",
              "  <style>\n",
              "    .colab-df-container {\n",
              "      display:flex;\n",
              "      flex-wrap:wrap;\n",
              "      gap: 12px;\n",
              "    }\n",
              "\n",
              "    .colab-df-convert {\n",
              "      background-color: #E8F0FE;\n",
              "      border: none;\n",
              "      border-radius: 50%;\n",
              "      cursor: pointer;\n",
              "      display: none;\n",
              "      fill: #1967D2;\n",
              "      height: 32px;\n",
              "      padding: 0 0 0 0;\n",
              "      width: 32px;\n",
              "    }\n",
              "\n",
              "    .colab-df-convert:hover {\n",
              "      background-color: #E2EBFA;\n",
              "      box-shadow: 0px 1px 2px rgba(60, 64, 67, 0.3), 0px 1px 3px 1px rgba(60, 64, 67, 0.15);\n",
              "      fill: #174EA6;\n",
              "    }\n",
              "\n",
              "    [theme=dark] .colab-df-convert {\n",
              "      background-color: #3B4455;\n",
              "      fill: #D2E3FC;\n",
              "    }\n",
              "\n",
              "    [theme=dark] .colab-df-convert:hover {\n",
              "      background-color: #434B5C;\n",
              "      box-shadow: 0px 1px 3px 1px rgba(0, 0, 0, 0.15);\n",
              "      filter: drop-shadow(0px 1px 2px rgba(0, 0, 0, 0.3));\n",
              "      fill: #FFFFFF;\n",
              "    }\n",
              "  </style>\n",
              "\n",
              "      <script>\n",
              "        const buttonEl =\n",
              "          document.querySelector('#df-36c256cd-080c-429e-a709-752e12326bfd button.colab-df-convert');\n",
              "        buttonEl.style.display =\n",
              "          google.colab.kernel.accessAllowed ? 'block' : 'none';\n",
              "\n",
              "        async function convertToInteractive(key) {\n",
              "          const element = document.querySelector('#df-36c256cd-080c-429e-a709-752e12326bfd');\n",
              "          const dataTable =\n",
              "            await google.colab.kernel.invokeFunction('convertToInteractive',\n",
              "                                                     [key], {});\n",
              "          if (!dataTable) return;\n",
              "\n",
              "          const docLinkHtml = 'Like what you see? Visit the ' +\n",
              "            '<a target=\"_blank\" href=https://colab.research.google.com/notebooks/data_table.ipynb>data table notebook</a>'\n",
              "            + ' to learn more about interactive tables.';\n",
              "          element.innerHTML = '';\n",
              "          dataTable['output_type'] = 'display_data';\n",
              "          await google.colab.output.renderOutput(dataTable, element);\n",
              "          const docLink = document.createElement('div');\n",
              "          docLink.innerHTML = docLinkHtml;\n",
              "          element.appendChild(docLink);\n",
              "        }\n",
              "      </script>\n",
              "    </div>\n",
              "  </div>\n",
              "  "
            ]
          },
          "metadata": {},
          "execution_count": 38
        }
      ]
    },
    {
      "cell_type": "code",
      "execution_count": 39,
      "id": "492e903a",
      "metadata": {
        "id": "492e903a",
        "outputId": "902f9cf2-8989-4bbc-cea1-78810725f24e",
        "colab": {
          "base_uri": "https://localhost:8080/",
          "height": 206
        }
      },
      "outputs": [
        {
          "output_type": "execute_result",
          "data": {
            "text/plain": [
              "     CO2 per capita  GDP per capita\n",
              "AFE        0.933541     1507.861055\n",
              "AFG        0.200151      568.827927\n",
              "AFW        0.515544     1834.366604\n",
              "AGO        0.887380     3595.106667\n",
              "ALB        1.939732     4433.741739"
            ],
            "text/html": [
              "\n",
              "  <div id=\"df-fd3d741c-ab78-40cf-b1d7-cdc7f72c219f\">\n",
              "    <div class=\"colab-df-container\">\n",
              "      <div>\n",
              "<style scoped>\n",
              "    .dataframe tbody tr th:only-of-type {\n",
              "        vertical-align: middle;\n",
              "    }\n",
              "\n",
              "    .dataframe tbody tr th {\n",
              "        vertical-align: top;\n",
              "    }\n",
              "\n",
              "    .dataframe thead th {\n",
              "        text-align: right;\n",
              "    }\n",
              "</style>\n",
              "<table border=\"1\" class=\"dataframe\">\n",
              "  <thead>\n",
              "    <tr style=\"text-align: right;\">\n",
              "      <th></th>\n",
              "      <th>CO2 per capita</th>\n",
              "      <th>GDP per capita</th>\n",
              "    </tr>\n",
              "  </thead>\n",
              "  <tbody>\n",
              "    <tr>\n",
              "      <th>AFE</th>\n",
              "      <td>0.933541</td>\n",
              "      <td>1507.861055</td>\n",
              "    </tr>\n",
              "    <tr>\n",
              "      <th>AFG</th>\n",
              "      <td>0.200151</td>\n",
              "      <td>568.827927</td>\n",
              "    </tr>\n",
              "    <tr>\n",
              "      <th>AFW</th>\n",
              "      <td>0.515544</td>\n",
              "      <td>1834.366604</td>\n",
              "    </tr>\n",
              "    <tr>\n",
              "      <th>AGO</th>\n",
              "      <td>0.887380</td>\n",
              "      <td>3595.106667</td>\n",
              "    </tr>\n",
              "    <tr>\n",
              "      <th>ALB</th>\n",
              "      <td>1.939732</td>\n",
              "      <td>4433.741739</td>\n",
              "    </tr>\n",
              "  </tbody>\n",
              "</table>\n",
              "</div>\n",
              "      <button class=\"colab-df-convert\" onclick=\"convertToInteractive('df-fd3d741c-ab78-40cf-b1d7-cdc7f72c219f')\"\n",
              "              title=\"Convert this dataframe to an interactive table.\"\n",
              "              style=\"display:none;\">\n",
              "        \n",
              "  <svg xmlns=\"http://www.w3.org/2000/svg\" height=\"24px\"viewBox=\"0 0 24 24\"\n",
              "       width=\"24px\">\n",
              "    <path d=\"M0 0h24v24H0V0z\" fill=\"none\"/>\n",
              "    <path d=\"M18.56 5.44l.94 2.06.94-2.06 2.06-.94-2.06-.94-.94-2.06-.94 2.06-2.06.94zm-11 1L8.5 8.5l.94-2.06 2.06-.94-2.06-.94L8.5 2.5l-.94 2.06-2.06.94zm10 10l.94 2.06.94-2.06 2.06-.94-2.06-.94-.94-2.06-.94 2.06-2.06.94z\"/><path d=\"M17.41 7.96l-1.37-1.37c-.4-.4-.92-.59-1.43-.59-.52 0-1.04.2-1.43.59L10.3 9.45l-7.72 7.72c-.78.78-.78 2.05 0 2.83L4 21.41c.39.39.9.59 1.41.59.51 0 1.02-.2 1.41-.59l7.78-7.78 2.81-2.81c.8-.78.8-2.07 0-2.86zM5.41 20L4 18.59l7.72-7.72 1.47 1.35L5.41 20z\"/>\n",
              "  </svg>\n",
              "      </button>\n",
              "      \n",
              "  <style>\n",
              "    .colab-df-container {\n",
              "      display:flex;\n",
              "      flex-wrap:wrap;\n",
              "      gap: 12px;\n",
              "    }\n",
              "\n",
              "    .colab-df-convert {\n",
              "      background-color: #E8F0FE;\n",
              "      border: none;\n",
              "      border-radius: 50%;\n",
              "      cursor: pointer;\n",
              "      display: none;\n",
              "      fill: #1967D2;\n",
              "      height: 32px;\n",
              "      padding: 0 0 0 0;\n",
              "      width: 32px;\n",
              "    }\n",
              "\n",
              "    .colab-df-convert:hover {\n",
              "      background-color: #E2EBFA;\n",
              "      box-shadow: 0px 1px 2px rgba(60, 64, 67, 0.3), 0px 1px 3px 1px rgba(60, 64, 67, 0.15);\n",
              "      fill: #174EA6;\n",
              "    }\n",
              "\n",
              "    [theme=dark] .colab-df-convert {\n",
              "      background-color: #3B4455;\n",
              "      fill: #D2E3FC;\n",
              "    }\n",
              "\n",
              "    [theme=dark] .colab-df-convert:hover {\n",
              "      background-color: #434B5C;\n",
              "      box-shadow: 0px 1px 3px 1px rgba(0, 0, 0, 0.15);\n",
              "      filter: drop-shadow(0px 1px 2px rgba(0, 0, 0, 0.3));\n",
              "      fill: #FFFFFF;\n",
              "    }\n",
              "  </style>\n",
              "\n",
              "      <script>\n",
              "        const buttonEl =\n",
              "          document.querySelector('#df-fd3d741c-ab78-40cf-b1d7-cdc7f72c219f button.colab-df-convert');\n",
              "        buttonEl.style.display =\n",
              "          google.colab.kernel.accessAllowed ? 'block' : 'none';\n",
              "\n",
              "        async function convertToInteractive(key) {\n",
              "          const element = document.querySelector('#df-fd3d741c-ab78-40cf-b1d7-cdc7f72c219f');\n",
              "          const dataTable =\n",
              "            await google.colab.kernel.invokeFunction('convertToInteractive',\n",
              "                                                     [key], {});\n",
              "          if (!dataTable) return;\n",
              "\n",
              "          const docLinkHtml = 'Like what you see? Visit the ' +\n",
              "            '<a target=\"_blank\" href=https://colab.research.google.com/notebooks/data_table.ipynb>data table notebook</a>'\n",
              "            + ' to learn more about interactive tables.';\n",
              "          element.innerHTML = '';\n",
              "          dataTable['output_type'] = 'display_data';\n",
              "          await google.colab.output.renderOutput(dataTable, element);\n",
              "          const docLink = document.createElement('div');\n",
              "          docLink.innerHTML = docLinkHtml;\n",
              "          element.appendChild(docLink);\n",
              "        }\n",
              "      </script>\n",
              "    </div>\n",
              "  </div>\n",
              "  "
            ]
          },
          "metadata": {},
          "execution_count": 39
        }
      ],
      "source": [
        "data1.head()"
      ]
    },
    {
      "cell_type": "code",
      "execution_count": 40,
      "id": "0e19da58",
      "metadata": {
        "id": "0e19da58",
        "outputId": "f2bcf61c-0cc0-4e37-f93c-8ca31ca316f6",
        "colab": {
          "base_uri": "https://localhost:8080/",
          "height": 296
        }
      },
      "outputs": [
        {
          "output_type": "execute_result",
          "data": {
            "text/plain": [
              "<matplotlib.axes._subplots.AxesSubplot at 0x7fcfc1b7e8e0>"
            ]
          },
          "metadata": {},
          "execution_count": 40
        },
        {
          "output_type": "display_data",
          "data": {
            "text/plain": [
              "<Figure size 432x288 with 1 Axes>"
            ],
            "image/png": "[encoded data removed]"
          },
          "metadata": {
            "needs_background": "light"
          }
        }
      ],
      "source": [
        "data1.plot.scatter(x='CO2 per capita',y='GDP per capita')"
      ]
    },
    {
      "cell_type": "code",
      "execution_count": 41,
      "id": "a4119d09",
      "metadata": {
        "id": "a4119d09",
        "outputId": "e6d2c224-8f95-427c-a006-a03c97bc7cb8",
        "colab": {
          "base_uri": "https://localhost:8080/",
          "height": 112
        }
      },
      "outputs": [
        {
          "output_type": "execute_result",
          "data": {
            "text/plain": [
              "                CO2 per capita  GDP per capita\n",
              "CO2 per capita        1.000000        0.633178\n",
              "GDP per capita        0.633178        1.000000"
            ],
            "text/html": [
              "\n",
              "  <div id=\"df-e14a0a88-bf6e-4c86-9371-75ea37cd3403\">\n",
              "    <div class=\"colab-df-container\">\n",
              "      <div>\n",
              "<style scoped>\n",
              "    .dataframe tbody tr th:only-of-type {\n",
              "        vertical-align: middle;\n",
              "    }\n",
              "\n",
              "    .dataframe tbody tr th {\n",
              "        vertical-align: top;\n",
              "    }\n",
              "\n",
              "    .dataframe thead th {\n",
              "        text-align: right;\n",
              "    }\n",
              "</style>\n",
              "<table border=\"1\" class=\"dataframe\">\n",
              "  <thead>\n",
              "    <tr style=\"text-align: right;\">\n",
              "      <th></th>\n",
              "      <th>CO2 per capita</th>\n",
              "      <th>GDP per capita</th>\n",
              "    </tr>\n",
              "  </thead>\n",
              "  <tbody>\n",
              "    <tr>\n",
              "      <th>CO2 per capita</th>\n",
              "      <td>1.000000</td>\n",
              "      <td>0.633178</td>\n",
              "    </tr>\n",
              "    <tr>\n",
              "      <th>GDP per capita</th>\n",
              "      <td>0.633178</td>\n",
              "      <td>1.000000</td>\n",
              "    </tr>\n",
              "  </tbody>\n",
              "</table>\n",
              "</div>\n",
              "      <button class=\"colab-df-convert\" onclick=\"convertToInteractive('df-e14a0a88-bf6e-4c86-9371-75ea37cd3403')\"\n",
              "              title=\"Convert this dataframe to an interactive table.\"\n",
              "              style=\"display:none;\">\n",
              "        \n",
              "  <svg xmlns=\"http://www.w3.org/2000/svg\" height=\"24px\"viewBox=\"0 0 24 24\"\n",
              "       width=\"24px\">\n",
              "    <path d=\"M0 0h24v24H0V0z\" fill=\"none\"/>\n",
              "    <path d=\"M18.56 5.44l.94 2.06.94-2.06 2.06-.94-2.06-.94-.94-2.06-.94 2.06-2.06.94zm-11 1L8.5 8.5l.94-2.06 2.06-.94-2.06-.94L8.5 2.5l-.94 2.06-2.06.94zm10 10l.94 2.06.94-2.06 2.06-.94-2.06-.94-.94-2.06-.94 2.06-2.06.94z\"/><path d=\"M17.41 7.96l-1.37-1.37c-.4-.4-.92-.59-1.43-.59-.52 0-1.04.2-1.43.59L10.3 9.45l-7.72 7.72c-.78.78-.78 2.05 0 2.83L4 21.41c.39.39.9.59 1.41.59.51 0 1.02-.2 1.41-.59l7.78-7.78 2.81-2.81c.8-.78.8-2.07 0-2.86zM5.41 20L4 18.59l7.72-7.72 1.47 1.35L5.41 20z\"/>\n",
              "  </svg>\n",
              "      </button>\n",
              "      \n",
              "  <style>\n",
              "    .colab-df-container {\n",
              "      display:flex;\n",
              "      flex-wrap:wrap;\n",
              "      gap: 12px;\n",
              "    }\n",
              "\n",
              "    .colab-df-convert {\n",
              "      background-color: #E8F0FE;\n",
              "      border: none;\n",
              "      border-radius: 50%;\n",
              "      cursor: pointer;\n",
              "      display: none;\n",
              "      fill: #1967D2;\n",
              "      height: 32px;\n",
              "      padding: 0 0 0 0;\n",
              "      width: 32px;\n",
              "    }\n",
              "\n",
              "    .colab-df-convert:hover {\n",
              "      background-color: #E2EBFA;\n",
              "      box-shadow: 0px 1px 2px rgba(60, 64, 67, 0.3), 0px 1px 3px 1px rgba(60, 64, 67, 0.15);\n",
              "      fill: #174EA6;\n",
              "    }\n",
              "\n",
              "    [theme=dark] .colab-df-convert {\n",
              "      background-color: #3B4455;\n",
              "      fill: #D2E3FC;\n",
              "    }\n",
              "\n",
              "    [theme=dark] .colab-df-convert:hover {\n",
              "      background-color: #434B5C;\n",
              "      box-shadow: 0px 1px 3px 1px rgba(0, 0, 0, 0.15);\n",
              "      filter: drop-shadow(0px 1px 2px rgba(0, 0, 0, 0.3));\n",
              "      fill: #FFFFFF;\n",
              "    }\n",
              "  </style>\n",
              "\n",
              "      <script>\n",
              "        const buttonEl =\n",
              "          document.querySelector('#df-e14a0a88-bf6e-4c86-9371-75ea37cd3403 button.colab-df-convert');\n",
              "        buttonEl.style.display =\n",
              "          google.colab.kernel.accessAllowed ? 'block' : 'none';\n",
              "\n",
              "        async function convertToInteractive(key) {\n",
              "          const element = document.querySelector('#df-e14a0a88-bf6e-4c86-9371-75ea37cd3403');\n",
              "          const dataTable =\n",
              "            await google.colab.kernel.invokeFunction('convertToInteractive',\n",
              "                                                     [key], {});\n",
              "          if (!dataTable) return;\n",
              "\n",
              "          const docLinkHtml = 'Like what you see? Visit the ' +\n",
              "            '<a target=\"_blank\" href=https://colab.research.google.com/notebooks/data_table.ipynb>data table notebook</a>'\n",
              "            + ' to learn more about interactive tables.';\n",
              "          element.innerHTML = '';\n",
              "          dataTable['output_type'] = 'display_data';\n",
              "          await google.colab.output.renderOutput(dataTable, element);\n",
              "          const docLink = document.createElement('div');\n",
              "          docLink.innerHTML = docLinkHtml;\n",
              "          element.appendChild(docLink);\n",
              "        }\n",
              "      </script>\n",
              "    </div>\n",
              "  </div>\n",
              "  "
            ]
          },
          "metadata": {},
          "execution_count": 41
        }
      ],
      "source": [
        "data1.corr()"
      ]
    },
    {
      "cell_type": "markdown",
      "id": "c58d75f4",
      "metadata": {
        "id": "c58d75f4"
      },
      "source": [
        "## Data Presentation\n",
        "- This is about making data esay to digest"
      ]
    },
    {
      "cell_type": "markdown",
      "id": "ea0387b3",
      "metadata": {
        "id": "ea0387b3"
      },
      "source": [
        "### The message\n",
        "Assume we want to give a picture of how US CO2 per capita is compared to the rest of the world"
      ]
    },
    {
      "cell_type": "markdown",
      "id": "86cac32b",
      "metadata": {
        "id": "86cac32b"
      },
      "source": [
        "#### Preparation\n",
        "- Let's take 2017 (as more recent data is incomplete)\n",
        "- What is the mean, max, and min CO2 per capital in the world"
      ]
    },
    {
      "cell_type": "code",
      "execution_count": 42,
      "id": "67a7a75d",
      "metadata": {
        "id": "67a7a75d",
        "outputId": "dd7d1d95-dde7-41a1-fce8-6065f18aa6f1",
        "colab": {
          "base_uri": "https://localhost:8080/",
          "height": 331
        }
      },
      "outputs": [
        {
          "output_type": "execute_result",
          "data": {
            "text/plain": [
              "             ABW       AFE       AFG       AFW       AGO       ALB  AND  \\\n",
              "Year                                                                      \n",
              "1960  204.631696  0.906060  0.046057  0.090880  0.100835  1.258195  NaN   \n",
              "1961  208.837879  0.922474  0.053589  0.095283  0.082204  1.374186  NaN   \n",
              "1962  226.081890  0.930816  0.073721  0.096612  0.210533  1.439956  NaN   \n",
              "1963  214.785217  0.940570  0.074161  0.112376  0.202739  1.181681  NaN   \n",
              "1964  207.626699  0.996033  0.086174  0.133258  0.213562  1.111742  NaN   \n",
              "\n",
              "           ARB       ARE       ARG  ...  VIR       VNM       VUT       WLD  \\\n",
              "Year                                ...                                      \n",
              "1960  0.609268  0.119037  2.383343  ...  NaN  0.181947       NaN  3.121158   \n",
              "1961  0.662618  0.109136  2.458551  ...  NaN  0.183099       NaN  3.068090   \n",
              "1962  0.727117  0.163542  2.538447  ...  NaN  0.217694  0.595002  3.114839   \n",
              "1963  0.853116  0.175833  2.330685  ...  NaN  0.196997  0.471849  3.221195   \n",
              "1964  0.972381  0.132815  2.553442  ...  NaN  0.209870  0.864427  3.324046   \n",
              "\n",
              "           WSM  XKX       YEM       ZAF       ZMB       ZWE  \n",
              "Year                                                         \n",
              "1960  0.135031  NaN  0.011038  5.727223       NaN       NaN  \n",
              "1961  0.163542  NaN  0.013599  5.832621       NaN       NaN  \n",
              "1962  0.158377  NaN  0.012729  5.887168       NaN       NaN  \n",
              "1963  0.184037  NaN  0.014518  5.961337       NaN       NaN  \n",
              "1964  0.208106  NaN  0.017550  6.332343  0.946606  1.034904  \n",
              "\n",
              "[5 rows x 266 columns]"
            ],
            "text/html": [
              "\n",
              "  <div id=\"df-ad9727ee-cecc-43f5-9663-1b8ad8581c50\">\n",
              "    <div class=\"colab-df-container\">\n",
              "      <div>\n",
              "<style scoped>\n",
              "    .dataframe tbody tr th:only-of-type {\n",
              "        vertical-align: middle;\n",
              "    }\n",
              "\n",
              "    .dataframe tbody tr th {\n",
              "        vertical-align: top;\n",
              "    }\n",
              "\n",
              "    .dataframe thead th {\n",
              "        text-align: right;\n",
              "    }\n",
              "</style>\n",
              "<table border=\"1\" class=\"dataframe\">\n",
              "  <thead>\n",
              "    <tr style=\"text-align: right;\">\n",
              "      <th></th>\n",
              "      <th>ABW</th>\n",
              "      <th>AFE</th>\n",
              "      <th>AFG</th>\n",
              "      <th>AFW</th>\n",
              "      <th>AGO</th>\n",
              "      <th>ALB</th>\n",
              "      <th>AND</th>\n",
              "      <th>ARB</th>\n",
              "      <th>ARE</th>\n",
              "      <th>ARG</th>\n",
              "      <th>...</th>\n",
              "      <th>VIR</th>\n",
              "      <th>VNM</th>\n",
              "      <th>VUT</th>\n",
              "      <th>WLD</th>\n",
              "      <th>WSM</th>\n",
              "      <th>XKX</th>\n",
              "      <th>YEM</th>\n",
              "      <th>ZAF</th>\n",
              "      <th>ZMB</th>\n",
              "      <th>ZWE</th>\n",
              "    </tr>\n",
              "    <tr>\n",
              "      <th>Year</th>\n",
              "      <th></th>\n",
              "      <th></th>\n",
              "      <th></th>\n",
              "      <th></th>\n",
              "      <th></th>\n",
              "      <th></th>\n",
              "      <th></th>\n",
              "      <th></th>\n",
              "      <th></th>\n",
              "      <th></th>\n",
              "      <th></th>\n",
              "      <th></th>\n",
              "      <th></th>\n",
              "      <th></th>\n",
              "      <th></th>\n",
              "      <th></th>\n",
              "      <th></th>\n",
              "      <th></th>\n",
              "      <th></th>\n",
              "      <th></th>\n",
              "      <th></th>\n",
              "    </tr>\n",
              "  </thead>\n",
              "  <tbody>\n",
              "    <tr>\n",
              "      <th>1960</th>\n",
              "      <td>204.631696</td>\n",
              "      <td>0.906060</td>\n",
              "      <td>0.046057</td>\n",
              "      <td>0.090880</td>\n",
              "      <td>0.100835</td>\n",
              "      <td>1.258195</td>\n",
              "      <td>NaN</td>\n",
              "      <td>0.609268</td>\n",
              "      <td>0.119037</td>\n",
              "      <td>2.383343</td>\n",
              "      <td>...</td>\n",
              "      <td>NaN</td>\n",
              "      <td>0.181947</td>\n",
              "      <td>NaN</td>\n",
              "      <td>3.121158</td>\n",
              "      <td>0.135031</td>\n",
              "      <td>NaN</td>\n",
              "      <td>0.011038</td>\n",
              "      <td>5.727223</td>\n",
              "      <td>NaN</td>\n",
              "      <td>NaN</td>\n",
              "    </tr>\n",
              "    <tr>\n",
              "      <th>1961</th>\n",
              "      <td>208.837879</td>\n",
              "      <td>0.922474</td>\n",
              "      <td>0.053589</td>\n",
              "      <td>0.095283</td>\n",
              "      <td>0.082204</td>\n",
              "      <td>1.374186</td>\n",
              "      <td>NaN</td>\n",
              "      <td>0.662618</td>\n",
              "      <td>0.109136</td>\n",
              "      <td>2.458551</td>\n",
              "      <td>...</td>\n",
              "      <td>NaN</td>\n",
              "      <td>0.183099</td>\n",
              "      <td>NaN</td>\n",
              "      <td>3.068090</td>\n",
              "      <td>0.163542</td>\n",
              "      <td>NaN</td>\n",
              "      <td>0.013599</td>\n",
              "      <td>5.832621</td>\n",
              "      <td>NaN</td>\n",
              "      <td>NaN</td>\n",
              "    </tr>\n",
              "    <tr>\n",
              "      <th>1962</th>\n",
              "      <td>226.081890</td>\n",
              "      <td>0.930816</td>\n",
              "      <td>0.073721</td>\n",
              "      <td>0.096612</td>\n",
              "      <td>0.210533</td>\n",
              "      <td>1.439956</td>\n",
              "      <td>NaN</td>\n",
              "      <td>0.727117</td>\n",
              "      <td>0.163542</td>\n",
              "      <td>2.538447</td>\n",
              "      <td>...</td>\n",
              "      <td>NaN</td>\n",
              "      <td>0.217694</td>\n",
              "      <td>0.595002</td>\n",
              "      <td>3.114839</td>\n",
              "      <td>0.158377</td>\n",
              "      <td>NaN</td>\n",
              "      <td>0.012729</td>\n",
              "      <td>5.887168</td>\n",
              "      <td>NaN</td>\n",
              "      <td>NaN</td>\n",
              "    </tr>\n",
              "    <tr>\n",
              "      <th>1963</th>\n",
              "      <td>214.785217</td>\n",
              "      <td>0.940570</td>\n",
              "      <td>0.074161</td>\n",
              "      <td>0.112376</td>\n",
              "      <td>0.202739</td>\n",
              "      <td>1.181681</td>\n",
              "      <td>NaN</td>\n",
              "      <td>0.853116</td>\n",
              "      <td>0.175833</td>\n",
              "      <td>2.330685</td>\n",
              "      <td>...</td>\n",
              "      <td>NaN</td>\n",
              "      <td>0.196997</td>\n",
              "      <td>0.471849</td>\n",
              "      <td>3.221195</td>\n",
              "      <td>0.184037</td>\n",
              "      <td>NaN</td>\n",
              "      <td>0.014518</td>\n",
              "      <td>5.961337</td>\n",
              "      <td>NaN</td>\n",
              "      <td>NaN</td>\n",
              "    </tr>\n",
              "    <tr>\n",
              "      <th>1964</th>\n",
              "      <td>207.626699</td>\n",
              "      <td>0.996033</td>\n",
              "      <td>0.086174</td>\n",
              "      <td>0.133258</td>\n",
              "      <td>0.213562</td>\n",
              "      <td>1.111742</td>\n",
              "      <td>NaN</td>\n",
              "      <td>0.972381</td>\n",
              "      <td>0.132815</td>\n",
              "      <td>2.553442</td>\n",
              "      <td>...</td>\n",
              "      <td>NaN</td>\n",
              "      <td>0.209870</td>\n",
              "      <td>0.864427</td>\n",
              "      <td>3.324046</td>\n",
              "      <td>0.208106</td>\n",
              "      <td>NaN</td>\n",
              "      <td>0.017550</td>\n",
              "      <td>6.332343</td>\n",
              "      <td>0.946606</td>\n",
              "      <td>1.034904</td>\n",
              "    </tr>\n",
              "  </tbody>\n",
              "</table>\n",
              "<p>5 rows × 266 columns</p>\n",
              "</div>\n",
              "      <button class=\"colab-df-convert\" onclick=\"convertToInteractive('df-ad9727ee-cecc-43f5-9663-1b8ad8581c50')\"\n",
              "              title=\"Convert this dataframe to an interactive table.\"\n",
              "              style=\"display:none;\">\n",
              "        \n",
              "  <svg xmlns=\"http://www.w3.org/2000/svg\" height=\"24px\"viewBox=\"0 0 24 24\"\n",
              "       width=\"24px\">\n",
              "    <path d=\"M0 0h24v24H0V0z\" fill=\"none\"/>\n",
              "    <path d=\"M18.56 5.44l.94 2.06.94-2.06 2.06-.94-2.06-.94-.94-2.06-.94 2.06-2.06.94zm-11 1L8.5 8.5l.94-2.06 2.06-.94-2.06-.94L8.5 2.5l-.94 2.06-2.06.94zm10 10l.94 2.06.94-2.06 2.06-.94-2.06-.94-.94-2.06-.94 2.06-2.06.94z\"/><path d=\"M17.41 7.96l-1.37-1.37c-.4-.4-.92-.59-1.43-.59-.52 0-1.04.2-1.43.59L10.3 9.45l-7.72 7.72c-.78.78-.78 2.05 0 2.83L4 21.41c.39.39.9.59 1.41.59.51 0 1.02-.2 1.41-.59l7.78-7.78 2.81-2.81c.8-.78.8-2.07 0-2.86zM5.41 20L4 18.59l7.72-7.72 1.47 1.35L5.41 20z\"/>\n",
              "  </svg>\n",
              "      </button>\n",
              "      \n",
              "  <style>\n",
              "    .colab-df-container {\n",
              "      display:flex;\n",
              "      flex-wrap:wrap;\n",
              "      gap: 12px;\n",
              "    }\n",
              "\n",
              "    .colab-df-convert {\n",
              "      background-color: #E8F0FE;\n",
              "      border: none;\n",
              "      border-radius: 50%;\n",
              "      cursor: pointer;\n",
              "      display: none;\n",
              "      fill: #1967D2;\n",
              "      height: 32px;\n",
              "      padding: 0 0 0 0;\n",
              "      width: 32px;\n",
              "    }\n",
              "\n",
              "    .colab-df-convert:hover {\n",
              "      background-color: #E2EBFA;\n",
              "      box-shadow: 0px 1px 2px rgba(60, 64, 67, 0.3), 0px 1px 3px 1px rgba(60, 64, 67, 0.15);\n",
              "      fill: #174EA6;\n",
              "    }\n",
              "\n",
              "    [theme=dark] .colab-df-convert {\n",
              "      background-color: #3B4455;\n",
              "      fill: #D2E3FC;\n",
              "    }\n",
              "\n",
              "    [theme=dark] .colab-df-convert:hover {\n",
              "      background-color: #434B5C;\n",
              "      box-shadow: 0px 1px 3px 1px rgba(0, 0, 0, 0.15);\n",
              "      filter: drop-shadow(0px 1px 2px rgba(0, 0, 0, 0.3));\n",
              "      fill: #FFFFFF;\n",
              "    }\n",
              "  </style>\n",
              "\n",
              "      <script>\n",
              "        const buttonEl =\n",
              "          document.querySelector('#df-ad9727ee-cecc-43f5-9663-1b8ad8581c50 button.colab-df-convert');\n",
              "        buttonEl.style.display =\n",
              "          google.colab.kernel.accessAllowed ? 'block' : 'none';\n",
              "\n",
              "        async function convertToInteractive(key) {\n",
              "          const element = document.querySelector('#df-ad9727ee-cecc-43f5-9663-1b8ad8581c50');\n",
              "          const dataTable =\n",
              "            await google.colab.kernel.invokeFunction('convertToInteractive',\n",
              "                                                     [key], {});\n",
              "          if (!dataTable) return;\n",
              "\n",
              "          const docLinkHtml = 'Like what you see? Visit the ' +\n",
              "            '<a target=\"_blank\" href=https://colab.research.google.com/notebooks/data_table.ipynb>data table notebook</a>'\n",
              "            + ' to learn more about interactive tables.';\n",
              "          element.innerHTML = '';\n",
              "          dataTable['output_type'] = 'display_data';\n",
              "          await google.colab.output.renderOutput(dataTable, element);\n",
              "          const docLink = document.createElement('div');\n",
              "          docLink.innerHTML = docLinkHtml;\n",
              "          element.appendChild(docLink);\n",
              "        }\n",
              "      </script>\n",
              "    </div>\n",
              "  </div>\n",
              "  "
            ]
          },
          "metadata": {},
          "execution_count": 42
        }
      ],
      "source": [
        "data2 = pd.read_csv('https://raw.githubusercontent.com/LearnPythonWithRune/DataScienceWithPython/main/jupyter/final/files/WorldBank-ATM.CO2E.PC_DS2.csv' ,index_col = 0)\n",
        "data2.head()"
      ]
    },
    {
      "cell_type": "code",
      "execution_count": 46,
      "id": "0fe496ab",
      "metadata": {
        "id": "0fe496ab",
        "colab": {
          "base_uri": "https://localhost:8080/"
        },
        "outputId": "f71b1ab4-bfc0-430b-db07-4985b63b54a3"
      },
      "outputs": [
        {
          "output_type": "execute_result",
          "data": {
            "text/plain": [
              "count    239.000000\n",
              "mean       4.154185\n",
              "std        4.575980\n",
              "min        0.028010\n",
              "25%        0.851900\n",
              "50%        2.667119\n",
              "75%        6.158644\n",
              "max       32.179371\n",
              "Name: 2017, dtype: float64"
            ]
          },
          "metadata": {},
          "execution_count": 46
        }
      ],
      "source": [
        "year = 2017\n",
        "data2.loc[year].describe()"
      ]
    },
    {
      "cell_type": "code",
      "execution_count": null,
      "id": "caaff709",
      "metadata": {
        "id": "caaff709"
      },
      "outputs": [],
      "source": []
    },
    {
      "cell_type": "code",
      "execution_count": null,
      "id": "b9deedec",
      "metadata": {
        "id": "b9deedec"
      },
      "outputs": [],
      "source": []
    },
    {
      "cell_type": "code",
      "execution_count": null,
      "id": "2945317c",
      "metadata": {
        "id": "2945317c"
      },
      "outputs": [],
      "source": []
    },
    {
      "cell_type": "markdown",
      "id": "d85a0348",
      "metadata": {
        "id": "d85a0348"
      },
      "source": [
        "#### And in the US?"
      ]
    },
    {
      "cell_type": "code",
      "execution_count": 47,
      "id": "0ef5e78b",
      "metadata": {
        "id": "0ef5e78b",
        "colab": {
          "base_uri": "https://localhost:8080/"
        },
        "outputId": "3a69a6a2-25a4-4965-e07b-a28dec70973a"
      },
      "outputs": [
        {
          "output_type": "execute_result",
          "data": {
            "text/plain": [
              "14.8058824221278"
            ]
          },
          "metadata": {},
          "execution_count": 47
        }
      ],
      "source": [
        "data.loc[year]['USA']"
      ]
    },
    {
      "cell_type": "code",
      "execution_count": null,
      "id": "7a4cfd91",
      "metadata": {
        "id": "7a4cfd91"
      },
      "outputs": [],
      "source": []
    },
    {
      "cell_type": "markdown",
      "id": "570ca224",
      "metadata": {
        "id": "570ca224"
      },
      "source": [
        "#### How can we tell a story?\n",
        "- US is above the mean\n",
        "- US is not the max\n",
        "- It is above 75%"
      ]
    },
    {
      "cell_type": "markdown",
      "id": "43528fd1",
      "metadata": {
        "id": "43528fd1"
      },
      "source": [
        "#### Some more advanced matplotlib"
      ]
    },
    {
      "cell_type": "code",
      "execution_count": null,
      "id": "b14510e6",
      "metadata": {
        "id": "b14510e6"
      },
      "outputs": [],
      "source": []
    },
    {
      "cell_type": "markdown",
      "id": "a7a6591d",
      "metadata": {
        "id": "a7a6591d"
      },
      "source": [
        "### Creative story telling with data visualization\n",
        "\n",
        "Check out this video https://www.youtube.com/watch?v=jbkSRLYSojo"
      ]
    },
    {
      "cell_type": "code",
      "execution_count": null,
      "id": "fbf145dd",
      "metadata": {
        "id": "fbf145dd"
      },
      "outputs": [],
      "source": []
    },
    {
      "cell_type": "code",
      "execution_count": null,
      "id": "c5522b44",
      "metadata": {
        "id": "c5522b44"
      },
      "outputs": [],
      "source": []
    }
  ],
  "metadata": {
    "language_info": {
      "name": "python"
    },
    "colab": {
      "provenance": [],
      "include_colab_link": true
    },
    "kernelspec": {
      "name": "python3",
      "display_name": "Python 3"
    },
    "gpuClass": "standard"
  },
  "nbformat": 4,
  "nbformat_minor": 5
}