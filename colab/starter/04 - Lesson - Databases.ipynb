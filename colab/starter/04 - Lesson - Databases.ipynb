{
  "cells": [
    {
      "cell_type": "markdown",
      "id": "fe9ff5cf",
      "metadata": {
        "id": "fe9ff5cf"
      },
      "source": [
        "<a \n",
        " href=\"https://colab.research.google.com/github/LearnPythonWithRune/DataScienceWithPython/blob/main/colab/starter/04 - Lesson - Databases.ipynb\"\n",
        " target=\"_parent\">\n",
        "<img \n",
        " src=\"https://colab.research.google.com/assets/colab-badge.svg\"\n",
        "alt=\"Open In Colab\"/>\n",
        "</a>"
      ]
    },
    {
      "cell_type": "markdown",
      "id": "b6debaac",
      "metadata": {
        "id": "b6debaac"
      },
      "source": [
        "# Databases"
      ]
    },
    {
      "cell_type": "markdown",
      "id": "a560dd75",
      "metadata": {
        "id": "a560dd75"
      },
      "source": [
        "![Data Science Workflow](https://raw.githubusercontent.com/LearnPythonWithRune/DataScienceWithPython/main/jupyter/final/img/ds-workflow.png)"
      ]
    },
    {
      "cell_type": "markdown",
      "id": "c25bb04b",
      "metadata": {
        "id": "c25bb04b"
      },
      "source": [
        "## Acquire Data\n",
        "### Common Data Sources\n",
        "- The Internet - Web Scraping\n",
        "- **Databases**\n",
        "- CSV\n",
        "- Excel\n",
        "- Parquet"
      ]
    },
    {
      "cell_type": "markdown",
      "id": "bfa4218b",
      "metadata": {
        "id": "bfa4218b"
      },
      "source": [
        "### Database\n",
        "- **Relational databases** models data in rows and columns in a series of tables.\n",
        "- Like a collection of **DataFrames/Excel sheets**.\n",
        "- **SQL** (often pronounced *sequel*): Structured Query Language\n",
        "- Non-relational databases [NoSQL](https://en.wikipedia.org/wiki/NoSQL)"
      ]
    },
    {
      "cell_type": "markdown",
      "id": "d9874702",
      "metadata": {
        "id": "d9874702"
      },
      "source": [
        "### SQLite database\n",
        "- [SQLite database](https://www.sqlite.org/index.html) software library that provides a relational database management system\n",
        "- Lightweight to setup, administrate, and requires low resources."
      ]
    },
    {
      "cell_type": "markdown",
      "id": "6d7f352f",
      "metadata": {
        "id": "6d7f352f"
      },
      "source": [
        "### Dataset (in a SQLite database)\n",
        "- Dallas Police Officer-Involved Shootings\n",
        "- Has three tables: **incidents, officers, subjects**\n",
        "\n",
        "#### Other SQLite datasets\n",
        "- [SQLite Data Starter Packs](http://2016.padjo.org/tutorials/sqlite-data-starterpacks/)\n",
        "- [Iris Species (Kaggle)](https://www.kaggle.com/uciml/iris)\n",
        "- [European Soccer Database (Kaggle)](https://www.kaggle.com/hugomathien/soccer)"
      ]
    },
    {
      "cell_type": "markdown",
      "id": "2a4264e0",
      "metadata": {
        "id": "2a4264e0"
      },
      "source": [
        "### Database connector\n",
        "- The [sqlite3](https://docs.python.org/3/library/sqlite3.html) is an interface for SQLite databases.\n",
        "- No installation needed.\n",
        "\n",
        "#### Other database connectors for Python\n",
        "* [MySQL Connector](https://dev.mysql.com/doc/connector-python/en/) for MySQL\n",
        "* [Psycopg](http://initd.org/psycopg/docs/install.html) for PostgreSQL\n",
        "* [pymssql](http://pymssql.org/en/stable/) for Microsoft MS SQL"
      ]
    },
    {
      "cell_type": "markdown",
      "id": "f6779643",
      "metadata": {
        "id": "f6779643"
      },
      "source": [
        "To import and connect to a SQLite database.\n",
        "```Python\n",
        "import sqlite3\n",
        "conn = sqlite3.connect('files/dallas-ois.sqlite')\n",
        "```"
      ]
    },
    {
      "cell_type": "code",
      "execution_count": 1,
      "id": "a9fe4e3b",
      "metadata": {
        "id": "a9fe4e3b"
      },
      "outputs": [],
      "source": [
        "import sqlite3"
      ]
    },
    {
      "cell_type": "code",
      "execution_count": 2,
      "id": "ca146349",
      "metadata": {
        "id": "ca146349"
      },
      "outputs": [],
      "source": [
        "conn = sqlite3.connect('dallas-ois.sqlite')"
      ]
    },
    {
      "cell_type": "code",
      "source": [
        "cursor = conn.cursor()"
      ],
      "metadata": {
        "id": "HJfKSD_xo3TO"
      },
      "id": "HJfKSD_xo3TO",
      "execution_count": 4,
      "outputs": []
    },
    {
      "cell_type": "markdown",
      "id": "329dbd67",
      "metadata": {
        "id": "329dbd67"
      },
      "source": [
        "The interface to the datases is through the `cursor`.\n",
        "\n",
        "```Python\n",
        "cursor = conn.cursor()\n",
        "```\n",
        "\n",
        "The `execute` method allows to run `SQL` queries on our database.\n",
        "\n",
        "To get a list of all the tables the following query can be applied.\n",
        "\n",
        "```SQL\n",
        "SELECT name FROM sqlite_master WHERE type='table' ORDER BY name\n",
        "```\n",
        "\n",
        "The result is fetched with the `fetchall()` method."
      ]
    },
    {
      "cell_type": "code",
      "execution_count": 5,
      "id": "ddb8a30b",
      "metadata": {
        "id": "ddb8a30b",
        "outputId": "650299fc-c872-4a3a-d450-91baa167b5cd",
        "colab": {
          "base_uri": "https://localhost:8080/"
        }
      },
      "outputs": [
        {
          "output_type": "execute_result",
          "data": {
            "text/plain": [
              "<sqlite3.Cursor at 0x7f2cfab56420>"
            ]
          },
          "metadata": {},
          "execution_count": 5
        }
      ],
      "source": [
        "cursor.execute(\"SELECT name FROM sqlite_master WHERE type = 'table' ORDER BY name\")"
      ]
    },
    {
      "cell_type": "code",
      "execution_count": 7,
      "id": "7ec8150f",
      "metadata": {
        "id": "7ec8150f",
        "outputId": "3b9a873a-481b-4a10-b51f-2c9ac043704b",
        "colab": {
          "base_uri": "https://localhost:8080/"
        }
      },
      "outputs": [
        {
          "output_type": "execute_result",
          "data": {
            "text/plain": [
              "[('incidents',), ('officers',), ('subjects',)]"
            ]
          },
          "metadata": {},
          "execution_count": 7
        }
      ],
      "source": [
        "cursor.fetchall()"
      ]
    },
    {
      "cell_type": "code",
      "execution_count": null,
      "id": "0b6ec21c",
      "metadata": {
        "id": "0b6ec21c"
      },
      "outputs": [],
      "source": []
    },
    {
      "cell_type": "markdown",
      "id": "b424595d",
      "metadata": {
        "id": "b424595d"
      },
      "source": [
        "To get a description of a table (SQLite specific)\n",
        "\n",
        "```SQL\n",
        "PRAGMA table_info(officers)\n",
        "```"
      ]
    },
    {
      "cell_type": "code",
      "execution_count": 10,
      "id": "043c14e4",
      "metadata": {
        "id": "043c14e4",
        "outputId": "379319a2-c4c7-4717-cc2b-c46f42217a79",
        "colab": {
          "base_uri": "https://localhost:8080/"
        }
      },
      "outputs": [
        {
          "output_type": "execute_result",
          "data": {
            "text/plain": [
              "[(0, 'case_number', 'TEXT', 0, None, 0),\n",
              " (1, 'race', 'TEXT', 0, None, 0),\n",
              " (2, 'gender', 'TEXT', 0, None, 0),\n",
              " (3, 'last_name', 'TEXT', 0, None, 0),\n",
              " (4, 'first_name', 'TEXT', 0, None, 0),\n",
              " (5, 'full_name', 'TEXT', 0, None, 0)]"
            ]
          },
          "metadata": {},
          "execution_count": 10
        }
      ],
      "source": [
        "cursor.execute(\"PRAGMA table_info(officers)\").fetchall()"
      ]
    },
    {
      "cell_type": "code",
      "execution_count": null,
      "id": "62e3e065",
      "metadata": {
        "id": "62e3e065"
      },
      "outputs": [],
      "source": []
    },
    {
      "cell_type": "markdown",
      "id": "b9cc3c8c",
      "metadata": {
        "id": "b9cc3c8c"
      },
      "source": [
        "### SQL syntax\n",
        "Get all data from table\n",
        "```SQL\n",
        "SELECT * FROM table_name\n",
        "```\n",
        "\n",
        "Limit the response\n",
        "```SQL\n",
        "SELECT * FROM table_name LIMIT 100\n",
        "```\n",
        "\n",
        "Filter data\n",
        "```SQL\n",
        "SELECT * FROM table_name WHERE column_name > 1\n",
        "```"
      ]
    },
    {
      "cell_type": "markdown",
      "id": "9a25d394",
      "metadata": {
        "id": "9a25d394"
      },
      "source": [
        "### Import data into DataFrame\n",
        "Example of how to read data into a DataFrame from a SQL statement\n",
        "```Python\n",
        "import pandas as pd\n",
        "\n",
        "officers = pd.read_sql('SELECT * FROM officers', conn)\n",
        "```"
      ]
    },
    {
      "cell_type": "code",
      "execution_count": 13,
      "id": "35882cbd",
      "metadata": {
        "id": "35882cbd"
      },
      "outputs": [],
      "source": [
        "import pandas as pd\n",
        "officers = pd.read_sql(\"SELECT * from officers\",conn)"
      ]
    },
    {
      "cell_type": "code",
      "execution_count": 14,
      "id": "3ae1f66f",
      "metadata": {
        "id": "3ae1f66f",
        "outputId": "753b1dcd-f84b-4e52-dc39-7967f9efc4ad",
        "colab": {
          "base_uri": "https://localhost:8080/"
        }
      },
      "outputs": [
        {
          "output_type": "execute_result",
          "data": {
            "text/plain": [
              "(370, 6)"
            ]
          },
          "metadata": {},
          "execution_count": 14
        }
      ],
      "source": [
        "officers.shape"
      ]
    },
    {
      "cell_type": "code",
      "execution_count": 15,
      "id": "9241380e",
      "metadata": {
        "id": "9241380e",
        "outputId": "6cde5906-ccb3-4ad5-bba7-d40f41c5f725",
        "colab": {
          "base_uri": "https://localhost:8080/",
          "height": 206
        }
      },
      "outputs": [
        {
          "output_type": "execute_result",
          "data": {
            "text/plain": [
              "  case_number race gender  last_name first_name         full_name\n",
              "0      44523A    L      M     Patino    Michael   Patino, Michael\n",
              "1      44523A    W      M  Fillingim      Brian  Fillingim, Brian\n",
              "2     121982X    L      M    Padilla    Gilbert  Padilla, Gilbert\n",
              "3     605484T    W      M     Poston      Jerry     Poston, Jerry\n",
              "4     384832T    B      M      Mondy    Michael    Mondy, Michael"
            ],
            "text/html": [
              "\n",
              "  <div id=\"df-d30e22f3-ebea-4ff8-853f-5df66c8d6e2f\">\n",
              "    <div class=\"colab-df-container\">\n",
              "      <div>\n",
              "<style scoped>\n",
              "    .dataframe tbody tr th:only-of-type {\n",
              "        vertical-align: middle;\n",
              "    }\n",
              "\n",
              "    .dataframe tbody tr th {\n",
              "        vertical-align: top;\n",
              "    }\n",
              "\n",
              "    .dataframe thead th {\n",
              "        text-align: right;\n",
              "    }\n",
              "</style>\n",
              "<table border=\"1\" class=\"dataframe\">\n",
              "  <thead>\n",
              "    <tr style=\"text-align: right;\">\n",
              "      <th></th>\n",
              "      <th>case_number</th>\n",
              "      <th>race</th>\n",
              "      <th>gender</th>\n",
              "      <th>last_name</th>\n",
              "      <th>first_name</th>\n",
              "      <th>full_name</th>\n",
              "    </tr>\n",
              "  </thead>\n",
              "  <tbody>\n",
              "    <tr>\n",
              "      <th>0</th>\n",
              "      <td>44523A</td>\n",
              "      <td>L</td>\n",
              "      <td>M</td>\n",
              "      <td>Patino</td>\n",
              "      <td>Michael</td>\n",
              "      <td>Patino, Michael</td>\n",
              "    </tr>\n",
              "    <tr>\n",
              "      <th>1</th>\n",
              "      <td>44523A</td>\n",
              "      <td>W</td>\n",
              "      <td>M</td>\n",
              "      <td>Fillingim</td>\n",
              "      <td>Brian</td>\n",
              "      <td>Fillingim, Brian</td>\n",
              "    </tr>\n",
              "    <tr>\n",
              "      <th>2</th>\n",
              "      <td>121982X</td>\n",
              "      <td>L</td>\n",
              "      <td>M</td>\n",
              "      <td>Padilla</td>\n",
              "      <td>Gilbert</td>\n",
              "      <td>Padilla, Gilbert</td>\n",
              "    </tr>\n",
              "    <tr>\n",
              "      <th>3</th>\n",
              "      <td>605484T</td>\n",
              "      <td>W</td>\n",
              "      <td>M</td>\n",
              "      <td>Poston</td>\n",
              "      <td>Jerry</td>\n",
              "      <td>Poston, Jerry</td>\n",
              "    </tr>\n",
              "    <tr>\n",
              "      <th>4</th>\n",
              "      <td>384832T</td>\n",
              "      <td>B</td>\n",
              "      <td>M</td>\n",
              "      <td>Mondy</td>\n",
              "      <td>Michael</td>\n",
              "      <td>Mondy, Michael</td>\n",
              "    </tr>\n",
              "  </tbody>\n",
              "</table>\n",
              "</div>\n",
              "      <button class=\"colab-df-convert\" onclick=\"convertToInteractive('df-d30e22f3-ebea-4ff8-853f-5df66c8d6e2f')\"\n",
              "              title=\"Convert this dataframe to an interactive table.\"\n",
              "              style=\"display:none;\">\n",
              "        \n",
              "  <svg xmlns=\"http://www.w3.org/2000/svg\" height=\"24px\"viewBox=\"0 0 24 24\"\n",
              "       width=\"24px\">\n",
              "    <path d=\"M0 0h24v24H0V0z\" fill=\"none\"/>\n",
              "    <path d=\"M18.56 5.44l.94 2.06.94-2.06 2.06-.94-2.06-.94-.94-2.06-.94 2.06-2.06.94zm-11 1L8.5 8.5l.94-2.06 2.06-.94-2.06-.94L8.5 2.5l-.94 2.06-2.06.94zm10 10l.94 2.06.94-2.06 2.06-.94-2.06-.94-.94-2.06-.94 2.06-2.06.94z\"/><path d=\"M17.41 7.96l-1.37-1.37c-.4-.4-.92-.59-1.43-.59-.52 0-1.04.2-1.43.59L10.3 9.45l-7.72 7.72c-.78.78-.78 2.05 0 2.83L4 21.41c.39.39.9.59 1.41.59.51 0 1.02-.2 1.41-.59l7.78-7.78 2.81-2.81c.8-.78.8-2.07 0-2.86zM5.41 20L4 18.59l7.72-7.72 1.47 1.35L5.41 20z\"/>\n",
              "  </svg>\n",
              "      </button>\n",
              "      \n",
              "  <style>\n",
              "    .colab-df-container {\n",
              "      display:flex;\n",
              "      flex-wrap:wrap;\n",
              "      gap: 12px;\n",
              "    }\n",
              "\n",
              "    .colab-df-convert {\n",
              "      background-color: #E8F0FE;\n",
              "      border: none;\n",
              "      border-radius: 50%;\n",
              "      cursor: pointer;\n",
              "      display: none;\n",
              "      fill: #1967D2;\n",
              "      height: 32px;\n",
              "      padding: 0 0 0 0;\n",
              "      width: 32px;\n",
              "    }\n",
              "\n",
              "    .colab-df-convert:hover {\n",
              "      background-color: #E2EBFA;\n",
              "      box-shadow: 0px 1px 2px rgba(60, 64, 67, 0.3), 0px 1px 3px 1px rgba(60, 64, 67, 0.15);\n",
              "      fill: #174EA6;\n",
              "    }\n",
              "\n",
              "    [theme=dark] .colab-df-convert {\n",
              "      background-color: #3B4455;\n",
              "      fill: #D2E3FC;\n",
              "    }\n",
              "\n",
              "    [theme=dark] .colab-df-convert:hover {\n",
              "      background-color: #434B5C;\n",
              "      box-shadow: 0px 1px 3px 1px rgba(0, 0, 0, 0.15);\n",
              "      filter: drop-shadow(0px 1px 2px rgba(0, 0, 0, 0.3));\n",
              "      fill: #FFFFFF;\n",
              "    }\n",
              "  </style>\n",
              "\n",
              "      <script>\n",
              "        const buttonEl =\n",
              "          document.querySelector('#df-d30e22f3-ebea-4ff8-853f-5df66c8d6e2f button.colab-df-convert');\n",
              "        buttonEl.style.display =\n",
              "          google.colab.kernel.accessAllowed ? 'block' : 'none';\n",
              "\n",
              "        async function convertToInteractive(key) {\n",
              "          const element = document.querySelector('#df-d30e22f3-ebea-4ff8-853f-5df66c8d6e2f');\n",
              "          const dataTable =\n",
              "            await google.colab.kernel.invokeFunction('convertToInteractive',\n",
              "                                                     [key], {});\n",
              "          if (!dataTable) return;\n",
              "\n",
              "          const docLinkHtml = 'Like what you see? Visit the ' +\n",
              "            '<a target=\"_blank\" href=https://colab.research.google.com/notebooks/data_table.ipynb>data table notebook</a>'\n",
              "            + ' to learn more about interactive tables.';\n",
              "          element.innerHTML = '';\n",
              "          dataTable['output_type'] = 'display_data';\n",
              "          await google.colab.output.renderOutput(dataTable, element);\n",
              "          const docLink = document.createElement('div');\n",
              "          docLink.innerHTML = docLinkHtml;\n",
              "          element.appendChild(docLink);\n",
              "        }\n",
              "      </script>\n",
              "    </div>\n",
              "  </div>\n",
              "  "
            ]
          },
          "metadata": {},
          "execution_count": 15
        }
      ],
      "source": [
        "officers.head()"
      ]
    },
    {
      "cell_type": "markdown",
      "id": "1119602f",
      "metadata": {
        "id": "1119602f"
      },
      "source": [
        "### SQL join syntax\n",
        "`(INNER) JOIN`: returns records that have matching values in both tables\n",
        "```SQL\n",
        "SELECT * FROM table_1 JOIN table_2 ON table_1.column_name_1=table_2.column_name_2\n",
        "```\n",
        "\n",
        "`LEFT JOIN`: returns all records from the left table, and the matched records from the right table\n",
        "```SQL\n",
        "SELECT * FROM table_1 LEFT JOIN table_2 ON table_1.column_name_1=table_2.column_name_2\n",
        "```"
      ]
    },
    {
      "cell_type": "code",
      "execution_count": null,
      "id": "7dc892e9",
      "metadata": {
        "id": "7dc892e9"
      },
      "outputs": [],
      "source": []
    },
    {
      "cell_type": "code",
      "execution_count": null,
      "id": "cd4270e2",
      "metadata": {
        "id": "cd4270e2"
      },
      "outputs": [],
      "source": []
    },
    {
      "cell_type": "code",
      "execution_count": null,
      "id": "bad9a9f3",
      "metadata": {
        "id": "bad9a9f3"
      },
      "outputs": [],
      "source": []
    },
    {
      "cell_type": "code",
      "execution_count": null,
      "id": "4402c833",
      "metadata": {
        "id": "4402c833"
      },
      "outputs": [],
      "source": []
    },
    {
      "cell_type": "code",
      "execution_count": null,
      "id": "834f3594",
      "metadata": {
        "id": "834f3594"
      },
      "outputs": [],
      "source": []
    },
    {
      "cell_type": "code",
      "execution_count": null,
      "id": "e83496df",
      "metadata": {
        "id": "e83496df"
      },
      "outputs": [],
      "source": []
    },
    {
      "cell_type": "code",
      "execution_count": null,
      "id": "87d86b87",
      "metadata": {
        "id": "87d86b87"
      },
      "outputs": [],
      "source": []
    }
  ],
  "metadata": {
    "language_info": {
      "name": "python"
    },
    "colab": {
      "provenance": []
    },
    "kernelspec": {
      "name": "python3",
      "display_name": "Python 3"
    },
    "gpuClass": "standard"
  },
  "nbformat": 4,
  "nbformat_minor": 5
}