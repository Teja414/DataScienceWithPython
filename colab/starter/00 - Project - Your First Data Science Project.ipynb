{
  "cells": [
    {
      "cell_type": "markdown",
      "id": "98b8da3b",
      "metadata": {
        "id": "98b8da3b"
      },
      "source": [
        "<a \n",
        " href=\"https://colab.research.google.com/github/LearnPythonWithRune/DataScienceWithPython/blob/main/colab/starter/00 - Project - Your First Data Science Project.ipynb\"\n",
        " target=\"_parent\">\n",
        "<img \n",
        " src=\"https://colab.research.google.com/assets/colab-badge.svg\"\n",
        "alt=\"Open In Colab\"/>\n",
        "</a>"
      ]
    },
    {
      "cell_type": "markdown",
      "id": "837554ae",
      "metadata": {
        "id": "837554ae"
      },
      "source": [
        "# Project - Guide school to activities to improve G3 grades"
      ]
    },
    {
      "cell_type": "markdown",
      "id": "f64580d7",
      "metadata": {
        "id": "f64580d7"
      },
      "source": [
        "![Data Science Workflow](https://raw.githubusercontent.com/LearnPythonWithRune/DataScienceWithPython/main/jupyter/final/img/ds-workflow.png)"
      ]
    },
    {
      "cell_type": "markdown",
      "id": "7524422c",
      "metadata": {
        "id": "7524422c"
      },
      "source": [
        "## Goal of Project\n",
        "- Explore the dataset from lesson further\n",
        "- Follow the Data Science process to understand it better\n",
        "- It will be your task to identify possible activies to improve G3 grades\n",
        "- NOTE: We have very limited skills, hence, we must limit our ambitions in our analysis"
      ]
    },
    {
      "cell_type": "markdown",
      "id": "17134954",
      "metadata": {
        "id": "17134954"
      },
      "source": [
        "## Step 1: Acquire\n",
        "- Explore problem\n",
        "- Identify data\n",
        "- Import data"
      ]
    },
    {
      "cell_type": "markdown",
      "id": "30bf6278",
      "metadata": {
        "id": "30bf6278"
      },
      "source": [
        "### Step 1.a: Import libraries\n",
        "- Execute the cell below (SHIFT + ENTER)"
      ]
    },
    {
      "cell_type": "code",
      "execution_count": 1,
      "id": "55688d65",
      "metadata": {
        "id": "55688d65"
      },
      "outputs": [],
      "source": [
        "import pandas as pd"
      ]
    },
    {
      "cell_type": "markdown",
      "id": "10f05487",
      "metadata": {
        "id": "10f05487"
      },
      "source": [
        "### Step 1.b: Read the data\n",
        "- Use ```pd.read_csv()``` to read the file `files/student-mat.csv`\n",
        "- NOTE: Remember to assign the result to a variable (e.g., ```data```)"
      ]
    },
    {
      "cell_type": "code",
      "execution_count": 2,
      "id": "2daf01c1",
      "metadata": {
        "id": "2daf01c1"
      },
      "outputs": [],
      "source": [
        "data = pd.read_csv('https://raw.githubusercontent.com/LearnPythonWithRune/DataScienceWithPython/main/jupyter/final/files/student-mat.csv')"
      ]
    },
    {
      "cell_type": "markdown",
      "id": "65ba503a",
      "metadata": {
        "id": "65ba503a"
      },
      "source": [
        "### Step 1.c: Inspect the data\n",
        "- Call ```.head()``` on the data to see all is as expected"
      ]
    },
    {
      "cell_type": "code",
      "execution_count": 3,
      "id": "0a20b23a",
      "metadata": {
        "id": "0a20b23a",
        "outputId": "06cb724e-22ed-46e3-9902-5a26f63694c3",
        "colab": {
          "base_uri": "https://localhost:8080/"
        }
      },
      "outputs": [
        {
          "output_type": "stream",
          "name": "stdout",
          "text": [
            "hello world\n"
          ]
        }
      ],
      "source": [
        "print(\"hello world\")"
      ]
    },
    {
      "cell_type": "markdown",
      "id": "8cadc020",
      "metadata": {
        "id": "8cadc020"
      },
      "source": [
        "### Step 1.d: Check length of data\n",
        "- Call ```len(...)``` on the data\n",
        "- Result: There should be 395 rows of data"
      ]
    },
    {
      "cell_type": "code",
      "execution_count": 3,
      "id": "c7251d47",
      "metadata": {
        "id": "c7251d47"
      },
      "outputs": [],
      "source": []
    },
    {
      "cell_type": "markdown",
      "id": "eb0eac44",
      "metadata": {
        "id": "eb0eac44"
      },
      "source": [
        "## Step 2: Prepare\n",
        "- Explore data\n",
        "- Visualize ideas\n",
        "- Cleaning data"
      ]
    },
    {
      "cell_type": "markdown",
      "id": "089d3e83",
      "metadata": {
        "id": "089d3e83"
      },
      "source": [
        "### Notice\n",
        "- We will not cover visualization in this lecture\n",
        "- We also know, that the data is clean - but we will do validations here anyway"
      ]
    },
    {
      "cell_type": "markdown",
      "id": "db6ae1f9",
      "metadata": {
        "id": "db6ae1f9"
      },
      "source": [
        "### Step 2.a: Check the data types\n",
        "- This step tells you if some numeric column is not represented numeric.\n",
        "- Get the data types by ```.dtypes```"
      ]
    },
    {
      "cell_type": "code",
      "execution_count": 3,
      "id": "d6ad60a4",
      "metadata": {
        "id": "d6ad60a4"
      },
      "outputs": [],
      "source": []
    },
    {
      "cell_type": "markdown",
      "id": "040a49d6",
      "metadata": {
        "id": "040a49d6"
      },
      "source": [
        "### Step 2.b: Check for null (missing) values\n",
        "- Data often is missing entries - there can be many reasons for this\n",
        "- We need to deal with that (will do later in course)\n",
        "- Use ```.isnull().any()```"
      ]
    },
    {
      "cell_type": "code",
      "execution_count": 3,
      "id": "7eb22514",
      "metadata": {
        "id": "7eb22514"
      },
      "outputs": [],
      "source": []
    },
    {
      "cell_type": "markdown",
      "id": "c3165816",
      "metadata": {
        "id": "c3165816"
      },
      "source": [
        "## Step 3: Analyze\n",
        "- Feature selection\n",
        "- Model selection\n",
        "- Analyze data"
      ]
    },
    {
      "cell_type": "markdown",
      "id": "6422b3c0",
      "metadata": {
        "id": "6422b3c0"
      },
      "source": [
        "### Description\n",
        "- Want to find 3 features to use in our report\n",
        "- The 3 features should be selected based on\n",
        "    - Actionable insights\n",
        "    - Convey credibility in report\n",
        "    - What is realistic within possibilities (including a budget)"
      ]
    },
    {
      "cell_type": "markdown",
      "id": "7b6e6e5e",
      "metadata": {
        "id": "7b6e6e5e"
      },
      "source": [
        "### Note\n",
        "- This step is where you can explore\n",
        "- You know how to use the following:\n",
        "    - **corr()** to find see correlation\n",
        "    - **groupby()** with **mean()**, **count()**, or **std()**\n",
        "- This should be used for step 4: Report"
      ]
    },
    {
      "cell_type": "markdown",
      "id": "00eb0407",
      "metadata": {
        "id": "00eb0407"
      },
      "source": [
        "### Step 3.a: Investigate correlation\n",
        "- Correlation is an easy measure to find insights that are actionable.\n",
        "- Use **corr()** and only show **G3**, as that is the row we are interested in.\n",
        "    - Notice: **G1** and **G2** are highly correlated, but they are not intented to be used"
      ]
    },
    {
      "cell_type": "code",
      "execution_count": 3,
      "id": "42ba6ab1",
      "metadata": {
        "id": "42ba6ab1"
      },
      "outputs": [],
      "source": []
    },
    {
      "cell_type": "markdown",
      "id": "a8eab491",
      "metadata": {
        "id": "a8eab491"
      },
      "source": [
        "### Step 3.b: Get the Feature names\n",
        "- This step can help you understand features better.\n",
        "- All the features are availbale witb **.columns** applied on the **DataFrame**"
      ]
    },
    {
      "cell_type": "code",
      "execution_count": 3,
      "id": "0a3e0a5b",
      "metadata": {
        "id": "0a3e0a5b"
      },
      "outputs": [],
      "source": []
    },
    {
      "cell_type": "markdown",
      "id": "77ec5a6d",
      "metadata": {
        "id": "77ec5a6d"
      },
      "source": [
        "### Step 3.c: Investigate features\n",
        "**Repeat this step** (possibly for all features)\n",
        "- Select a features\n",
        "- Calculate the **groupby(...)** **mean()** on **G3**\n",
        "    - HINT: This was done in the lesson\n",
        "- Calculate the **groupby(...)** **count()** on **G3**\n",
        "- Calculate the **groupby(...)** **std()** on **G3**"
      ]
    },
    {
      "cell_type": "code",
      "execution_count": 3,
      "id": "373143bd",
      "metadata": {
        "id": "373143bd"
      },
      "outputs": [],
      "source": []
    },
    {
      "cell_type": "code",
      "execution_count": 3,
      "id": "fee4d9bf",
      "metadata": {
        "id": "fee4d9bf"
      },
      "outputs": [],
      "source": []
    },
    {
      "cell_type": "code",
      "execution_count": 3,
      "id": "b42c00d5",
      "metadata": {
        "id": "b42c00d5"
      },
      "outputs": [],
      "source": []
    },
    {
      "cell_type": "markdown",
      "id": "a25d5bb9",
      "metadata": {
        "id": "a25d5bb9"
      },
      "source": [
        "### Step 3.d Select 3 features\n",
        "- Decide on 3 features to use in the report\n",
        "- The decision should be based on\n",
        "    - Actionable insights\n",
        "    - Convey credibility in report\n",
        "    - What is realistic within possibilities (including a budget)"
      ]
    },
    {
      "cell_type": "code",
      "execution_count": 3,
      "id": "0fbd8216",
      "metadata": {
        "id": "0fbd8216"
      },
      "outputs": [],
      "source": []
    },
    {
      "cell_type": "code",
      "execution_count": 3,
      "id": "c0480a46",
      "metadata": {
        "id": "c0480a46"
      },
      "outputs": [],
      "source": []
    },
    {
      "cell_type": "markdown",
      "id": "28d82546",
      "metadata": {
        "id": "28d82546"
      },
      "source": [
        "## Step 4: Report\n",
        "- Present findings\n",
        "- Visualize results\n",
        "- Credibility counts"
      ]
    },
    {
      "cell_type": "markdown",
      "id": "eb11258b",
      "metadata": {
        "id": "eb11258b"
      },
      "source": [
        "### Description\n",
        "- With the 3 features from step 3 create a presentation\n",
        "- As we have not learned visualization yet, keep it simple\n",
        "- Remember, that credibility counts"
      ]
    },
    {
      "cell_type": "markdown",
      "id": "aab7c48e",
      "metadata": {
        "id": "aab7c48e"
      },
      "source": [
        "### Notice\n",
        "- At this stage it is not supposed to be perfect.\n",
        "- Present the findings here in the Notebook"
      ]
    },
    {
      "cell_type": "code",
      "execution_count": 3,
      "id": "c393c9e6",
      "metadata": {
        "id": "c393c9e6"
      },
      "outputs": [],
      "source": []
    },
    {
      "cell_type": "code",
      "execution_count": 3,
      "id": "3e8bb76a",
      "metadata": {
        "id": "3e8bb76a"
      },
      "outputs": [],
      "source": []
    },
    {
      "cell_type": "markdown",
      "id": "28ff4186",
      "metadata": {
        "id": "28ff4186"
      },
      "source": [
        "## Step 5: Actions\n",
        "- Use insights\n",
        "- Measure impact\n",
        "- Main goal"
      ]
    },
    {
      "cell_type": "markdown",
      "id": "2034861f",
      "metadata": {
        "id": "2034861f"
      },
      "source": [
        "### Description\n",
        "- What actions should the schools take?\n",
        "- How can they evaluate the impact?\n",
        "- Remember, this is the main goal."
      ]
    },
    {
      "cell_type": "code",
      "execution_count": 3,
      "id": "0b09e241",
      "metadata": {
        "id": "0b09e241"
      },
      "outputs": [],
      "source": []
    },
    {
      "cell_type": "code",
      "execution_count": 3,
      "id": "e732b58b",
      "metadata": {
        "id": "e732b58b"
      },
      "outputs": [],
      "source": []
    }
  ],
  "metadata": {
    "language_info": {
      "name": "python"
    },
    "colab": {
      "provenance": []
    },
    "kernelspec": {
      "name": "python3",
      "display_name": "Python 3"
    },
    "gpuClass": "standard"
  },
  "nbformat": 4,
  "nbformat_minor": 5
}