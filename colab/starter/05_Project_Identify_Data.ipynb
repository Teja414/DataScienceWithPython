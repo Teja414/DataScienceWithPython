{
  "cells": [
    {
      "cell_type": "markdown",
      "metadata": {
        "id": "view-in-github",
        "colab_type": "text"
      },
      "source": [
        "<a href=\"https://colab.research.google.com/github/Teja414/DataScienceWithPython/blob/main/colab/starter/05_Project_Identify_Data.ipynb\" target=\"_parent\"><img src=\"https://colab.research.google.com/assets/colab-badge.svg\" alt=\"Open In Colab\"/></a>"
      ]
    },
    {
      "cell_type": "markdown",
      "id": "39c877c9",
      "metadata": {
        "id": "39c877c9"
      },
      "source": [
        "# Project - Identify Data"
      ]
    },
    {
      "cell_type": "markdown",
      "id": "26869a35",
      "metadata": {
        "id": "26869a35"
      },
      "source": [
        "![Data Science Workflow](https://raw.githubusercontent.com/LearnPythonWithRune/DataScienceWithPython/main/jupyter/final/img/ds-workflow.png)"
      ]
    },
    {
      "cell_type": "markdown",
      "id": "9da31bb3",
      "metadata": {
        "id": "9da31bb3"
      },
      "source": [
        "## Goal of Project\n",
        "- World population growth rate\n",
        "- Is the growth rate stable? Increasing or Declining?"
      ]
    },
    {
      "cell_type": "markdown",
      "id": "77f362c4",
      "metadata": {
        "id": "77f362c4"
      },
      "source": [
        "## Step 1: Acquire\n",
        "- Explore problem\n",
        "- Identify data\n",
        "- Import data"
      ]
    },
    {
      "cell_type": "markdown",
      "id": "6f8cbbcb",
      "metadata": {
        "id": "6f8cbbcb"
      },
      "source": [
        "### Step 1.a: Explore and understand problem\n",
        "- What data do we need to answer the problem?"
      ]
    },
    {
      "cell_type": "code",
      "execution_count": null,
      "id": "5210045a",
      "metadata": {
        "id": "5210045a"
      },
      "outputs": [],
      "source": [
        "# We need to have the data of the world population"
      ]
    },
    {
      "cell_type": "markdown",
      "id": "eb4743fa",
      "metadata": {
        "id": "eb4743fa"
      },
      "source": [
        "### Step 1.b: Indentify data with world population\n",
        "- There are multiple sources\n",
        "- World bank: https://data.worldbank.org/indicator/SP.POP.TOTL\n",
        "- Wiki: https://en.wikipedia.org/wiki/World_population\n",
        "- ...and probably more\n"
      ]
    },
    {
      "cell_type": "code",
      "execution_count": null,
      "id": "be4cf6dc",
      "metadata": {
        "id": "be4cf6dc"
      },
      "outputs": [],
      "source": [
        "# We we'll use the World bank data in the following steps"
      ]
    },
    {
      "cell_type": "markdown",
      "id": "2bf725fa",
      "metadata": {
        "id": "2bf725fa"
      },
      "source": [
        "### Step 1.c: Download and import the data\n",
        "- We will download it from World Bank"
      ]
    },
    {
      "cell_type": "code",
      "execution_count": null,
      "id": "06a56835",
      "metadata": {
        "id": "06a56835"
      },
      "outputs": [],
      "source": [
        "# We downloaded the CSV format data"
      ]
    },
    {
      "cell_type": "markdown",
      "id": "e4ad8ec8",
      "metadata": {
        "id": "e4ad8ec8"
      },
      "source": [
        "### Step 1.d: Import libraries\n",
        "- Execute the cell below (SHIFT + ENTER)"
      ]
    },
    {
      "cell_type": "code",
      "execution_count": null,
      "id": "34beedd5",
      "metadata": {
        "id": "34beedd5"
      },
      "outputs": [],
      "source": [
        "import pandas as pd\n",
        "import matplotlib.pyplot as plt\n",
        "%matplotlib inline"
      ]
    },
    {
      "cell_type": "markdown",
      "id": "b5f9a799",
      "metadata": {
        "id": "b5f9a799"
      },
      "source": [
        "### Step 1.e: Read the data\n",
        "- Use ```pd.read_csv()``` to read the file `files/API_SP/API_SP.POP.TOTL_DS2_en_csv_v2_3158886.csv`\n",
        "- NOTE: Remember to assign the result to a variable (e.g., ```data```)\n",
        "- HELP: You might need to `skiprows=4`\n",
        "- Apply ```.head()``` on the data to see all is as expected"
      ]
    },
    {
      "cell_type": "code",
      "execution_count": null,
      "id": "11a18315",
      "metadata": {
        "id": "11a18315",
        "outputId": "a4d4b0a6-c586-4dec-92b8-ba99f7881e4e",
        "colab": {
          "base_uri": "https://localhost:8080/",
          "height": 455
        }
      },
      "outputs": [
        {
          "output_type": "execute_result",
          "data": {
            "text/plain": [
              "                  Country Name Country Code     Indicator Name Indicator Code  \\\n",
              "0                        Aruba          ABW  Population, total    SP.POP.TOTL   \n",
              "1  Africa Eastern and Southern          AFE  Population, total    SP.POP.TOTL   \n",
              "2                  Afghanistan          AFG  Population, total    SP.POP.TOTL   \n",
              "3   Africa Western and Central          AFW  Population, total    SP.POP.TOTL   \n",
              "4                       Angola          AGO  Population, total    SP.POP.TOTL   \n",
              "\n",
              "          1960         1961         1962         1963         1964  \\\n",
              "0      54208.0      55434.0      56234.0      56699.0      57029.0   \n",
              "1  130836765.0  134159786.0  137614644.0  141202036.0  144920186.0   \n",
              "2    8996967.0    9169406.0    9351442.0    9543200.0    9744772.0   \n",
              "3   96396419.0   98407221.0  100506960.0  102691339.0  104953470.0   \n",
              "4    5454938.0    5531451.0    5608499.0    5679409.0    5734995.0   \n",
              "\n",
              "          1965  ...         2012         2013         2014         2015  \\\n",
              "0      57357.0  ...     102565.0     103165.0     103776.0     104339.0   \n",
              "1  148769974.0  ...  547482863.0  562601578.0  578075373.0  593871847.0   \n",
              "2    9956318.0  ...   31161378.0   32269592.0   33370804.0   34413603.0   \n",
              "3  107289875.0  ...  370243017.0  380437896.0  390882979.0  401586651.0   \n",
              "4    5770573.0  ...   25107925.0   26015786.0   26941773.0   27884380.0   \n",
              "\n",
              "          2016         2017         2018         2019         2020  \\\n",
              "0     104865.0     105361.0     105846.0     106310.0     106766.0   \n",
              "1  609978946.0  626392880.0  643090131.0  660046272.0  677243299.0   \n",
              "2   35383028.0   36296111.0   37171922.0   38041757.0   38928341.0   \n",
              "3  412551299.0  423769930.0  435229381.0  446911598.0  458803476.0   \n",
              "4   28842482.0   29816769.0   30809787.0   31825299.0   32866268.0   \n",
              "\n",
              "   Unnamed: 65  \n",
              "0          NaN  \n",
              "1          NaN  \n",
              "2          NaN  \n",
              "3          NaN  \n",
              "4          NaN  \n",
              "\n",
              "[5 rows x 66 columns]"
            ],
            "text/html": [
              "\n",
              "  <div id=\"df-25295d71-8761-4d9f-aa1c-6a6c39bc8434\">\n",
              "    <div class=\"colab-df-container\">\n",
              "      <div>\n",
              "<style scoped>\n",
              "    .dataframe tbody tr th:only-of-type {\n",
              "        vertical-align: middle;\n",
              "    }\n",
              "\n",
              "    .dataframe tbody tr th {\n",
              "        vertical-align: top;\n",
              "    }\n",
              "\n",
              "    .dataframe thead th {\n",
              "        text-align: right;\n",
              "    }\n",
              "</style>\n",
              "<table border=\"1\" class=\"dataframe\">\n",
              "  <thead>\n",
              "    <tr style=\"text-align: right;\">\n",
              "      <th></th>\n",
              "      <th>Country Name</th>\n",
              "      <th>Country Code</th>\n",
              "      <th>Indicator Name</th>\n",
              "      <th>Indicator Code</th>\n",
              "      <th>1960</th>\n",
              "      <th>1961</th>\n",
              "      <th>1962</th>\n",
              "      <th>1963</th>\n",
              "      <th>1964</th>\n",
              "      <th>1965</th>\n",
              "      <th>...</th>\n",
              "      <th>2012</th>\n",
              "      <th>2013</th>\n",
              "      <th>2014</th>\n",
              "      <th>2015</th>\n",
              "      <th>2016</th>\n",
              "      <th>2017</th>\n",
              "      <th>2018</th>\n",
              "      <th>2019</th>\n",
              "      <th>2020</th>\n",
              "      <th>Unnamed: 65</th>\n",
              "    </tr>\n",
              "  </thead>\n",
              "  <tbody>\n",
              "    <tr>\n",
              "      <th>0</th>\n",
              "      <td>Aruba</td>\n",
              "      <td>ABW</td>\n",
              "      <td>Population, total</td>\n",
              "      <td>SP.POP.TOTL</td>\n",
              "      <td>54208.0</td>\n",
              "      <td>55434.0</td>\n",
              "      <td>56234.0</td>\n",
              "      <td>56699.0</td>\n",
              "      <td>57029.0</td>\n",
              "      <td>57357.0</td>\n",
              "      <td>...</td>\n",
              "      <td>102565.0</td>\n",
              "      <td>103165.0</td>\n",
              "      <td>103776.0</td>\n",
              "      <td>104339.0</td>\n",
              "      <td>104865.0</td>\n",
              "      <td>105361.0</td>\n",
              "      <td>105846.0</td>\n",
              "      <td>106310.0</td>\n",
              "      <td>106766.0</td>\n",
              "      <td>NaN</td>\n",
              "    </tr>\n",
              "    <tr>\n",
              "      <th>1</th>\n",
              "      <td>Africa Eastern and Southern</td>\n",
              "      <td>AFE</td>\n",
              "      <td>Population, total</td>\n",
              "      <td>SP.POP.TOTL</td>\n",
              "      <td>130836765.0</td>\n",
              "      <td>134159786.0</td>\n",
              "      <td>137614644.0</td>\n",
              "      <td>141202036.0</td>\n",
              "      <td>144920186.0</td>\n",
              "      <td>148769974.0</td>\n",
              "      <td>...</td>\n",
              "      <td>547482863.0</td>\n",
              "      <td>562601578.0</td>\n",
              "      <td>578075373.0</td>\n",
              "      <td>593871847.0</td>\n",
              "      <td>609978946.0</td>\n",
              "      <td>626392880.0</td>\n",
              "      <td>643090131.0</td>\n",
              "      <td>660046272.0</td>\n",
              "      <td>677243299.0</td>\n",
              "      <td>NaN</td>\n",
              "    </tr>\n",
              "    <tr>\n",
              "      <th>2</th>\n",
              "      <td>Afghanistan</td>\n",
              "      <td>AFG</td>\n",
              "      <td>Population, total</td>\n",
              "      <td>SP.POP.TOTL</td>\n",
              "      <td>8996967.0</td>\n",
              "      <td>9169406.0</td>\n",
              "      <td>9351442.0</td>\n",
              "      <td>9543200.0</td>\n",
              "      <td>9744772.0</td>\n",
              "      <td>9956318.0</td>\n",
              "      <td>...</td>\n",
              "      <td>31161378.0</td>\n",
              "      <td>32269592.0</td>\n",
              "      <td>33370804.0</td>\n",
              "      <td>34413603.0</td>\n",
              "      <td>35383028.0</td>\n",
              "      <td>36296111.0</td>\n",
              "      <td>37171922.0</td>\n",
              "      <td>38041757.0</td>\n",
              "      <td>38928341.0</td>\n",
              "      <td>NaN</td>\n",
              "    </tr>\n",
              "    <tr>\n",
              "      <th>3</th>\n",
              "      <td>Africa Western and Central</td>\n",
              "      <td>AFW</td>\n",
              "      <td>Population, total</td>\n",
              "      <td>SP.POP.TOTL</td>\n",
              "      <td>96396419.0</td>\n",
              "      <td>98407221.0</td>\n",
              "      <td>100506960.0</td>\n",
              "      <td>102691339.0</td>\n",
              "      <td>104953470.0</td>\n",
              "      <td>107289875.0</td>\n",
              "      <td>...</td>\n",
              "      <td>370243017.0</td>\n",
              "      <td>380437896.0</td>\n",
              "      <td>390882979.0</td>\n",
              "      <td>401586651.0</td>\n",
              "      <td>412551299.0</td>\n",
              "      <td>423769930.0</td>\n",
              "      <td>435229381.0</td>\n",
              "      <td>446911598.0</td>\n",
              "      <td>458803476.0</td>\n",
              "      <td>NaN</td>\n",
              "    </tr>\n",
              "    <tr>\n",
              "      <th>4</th>\n",
              "      <td>Angola</td>\n",
              "      <td>AGO</td>\n",
              "      <td>Population, total</td>\n",
              "      <td>SP.POP.TOTL</td>\n",
              "      <td>5454938.0</td>\n",
              "      <td>5531451.0</td>\n",
              "      <td>5608499.0</td>\n",
              "      <td>5679409.0</td>\n",
              "      <td>5734995.0</td>\n",
              "      <td>5770573.0</td>\n",
              "      <td>...</td>\n",
              "      <td>25107925.0</td>\n",
              "      <td>26015786.0</td>\n",
              "      <td>26941773.0</td>\n",
              "      <td>27884380.0</td>\n",
              "      <td>28842482.0</td>\n",
              "      <td>29816769.0</td>\n",
              "      <td>30809787.0</td>\n",
              "      <td>31825299.0</td>\n",
              "      <td>32866268.0</td>\n",
              "      <td>NaN</td>\n",
              "    </tr>\n",
              "  </tbody>\n",
              "</table>\n",
              "<p>5 rows × 66 columns</p>\n",
              "</div>\n",
              "      <button class=\"colab-df-convert\" onclick=\"convertToInteractive('df-25295d71-8761-4d9f-aa1c-6a6c39bc8434')\"\n",
              "              title=\"Convert this dataframe to an interactive table.\"\n",
              "              style=\"display:none;\">\n",
              "        \n",
              "  <svg xmlns=\"http://www.w3.org/2000/svg\" height=\"24px\"viewBox=\"0 0 24 24\"\n",
              "       width=\"24px\">\n",
              "    <path d=\"M0 0h24v24H0V0z\" fill=\"none\"/>\n",
              "    <path d=\"M18.56 5.44l.94 2.06.94-2.06 2.06-.94-2.06-.94-.94-2.06-.94 2.06-2.06.94zm-11 1L8.5 8.5l.94-2.06 2.06-.94-2.06-.94L8.5 2.5l-.94 2.06-2.06.94zm10 10l.94 2.06.94-2.06 2.06-.94-2.06-.94-.94-2.06-.94 2.06-2.06.94z\"/><path d=\"M17.41 7.96l-1.37-1.37c-.4-.4-.92-.59-1.43-.59-.52 0-1.04.2-1.43.59L10.3 9.45l-7.72 7.72c-.78.78-.78 2.05 0 2.83L4 21.41c.39.39.9.59 1.41.59.51 0 1.02-.2 1.41-.59l7.78-7.78 2.81-2.81c.8-.78.8-2.07 0-2.86zM5.41 20L4 18.59l7.72-7.72 1.47 1.35L5.41 20z\"/>\n",
              "  </svg>\n",
              "      </button>\n",
              "      \n",
              "  <style>\n",
              "    .colab-df-container {\n",
              "      display:flex;\n",
              "      flex-wrap:wrap;\n",
              "      gap: 12px;\n",
              "    }\n",
              "\n",
              "    .colab-df-convert {\n",
              "      background-color: #E8F0FE;\n",
              "      border: none;\n",
              "      border-radius: 50%;\n",
              "      cursor: pointer;\n",
              "      display: none;\n",
              "      fill: #1967D2;\n",
              "      height: 32px;\n",
              "      padding: 0 0 0 0;\n",
              "      width: 32px;\n",
              "    }\n",
              "\n",
              "    .colab-df-convert:hover {\n",
              "      background-color: #E2EBFA;\n",
              "      box-shadow: 0px 1px 2px rgba(60, 64, 67, 0.3), 0px 1px 3px 1px rgba(60, 64, 67, 0.15);\n",
              "      fill: #174EA6;\n",
              "    }\n",
              "\n",
              "    [theme=dark] .colab-df-convert {\n",
              "      background-color: #3B4455;\n",
              "      fill: #D2E3FC;\n",
              "    }\n",
              "\n",
              "    [theme=dark] .colab-df-convert:hover {\n",
              "      background-color: #434B5C;\n",
              "      box-shadow: 0px 1px 3px 1px rgba(0, 0, 0, 0.15);\n",
              "      filter: drop-shadow(0px 1px 2px rgba(0, 0, 0, 0.3));\n",
              "      fill: #FFFFFF;\n",
              "    }\n",
              "  </style>\n",
              "\n",
              "      <script>\n",
              "        const buttonEl =\n",
              "          document.querySelector('#df-25295d71-8761-4d9f-aa1c-6a6c39bc8434 button.colab-df-convert');\n",
              "        buttonEl.style.display =\n",
              "          google.colab.kernel.accessAllowed ? 'block' : 'none';\n",
              "\n",
              "        async function convertToInteractive(key) {\n",
              "          const element = document.querySelector('#df-25295d71-8761-4d9f-aa1c-6a6c39bc8434');\n",
              "          const dataTable =\n",
              "            await google.colab.kernel.invokeFunction('convertToInteractive',\n",
              "                                                     [key], {});\n",
              "          if (!dataTable) return;\n",
              "\n",
              "          const docLinkHtml = 'Like what you see? Visit the ' +\n",
              "            '<a target=\"_blank\" href=https://colab.research.google.com/notebooks/data_table.ipynb>data table notebook</a>'\n",
              "            + ' to learn more about interactive tables.';\n",
              "          element.innerHTML = '';\n",
              "          dataTable['output_type'] = 'display_data';\n",
              "          await google.colab.output.renderOutput(dataTable, element);\n",
              "          const docLink = document.createElement('div');\n",
              "          docLink.innerHTML = docLinkHtml;\n",
              "          element.appendChild(docLink);\n",
              "        }\n",
              "      </script>\n",
              "    </div>\n",
              "  </div>\n",
              "  "
            ]
          },
          "metadata": {},
          "execution_count": 20
        }
      ],
      "source": [
        "data = pd.read_csv(\"https://raw.githubusercontent.com/LearnPythonWithRune/DataScienceWithPython/main/jupyter/final/files/API_SP/API_SP.POP.TOTL_DS2_en_csv_v2_3158886.csv\", skiprows=4)\n",
        "data.head()\n"
      ]
    },
    {
      "cell_type": "code",
      "source": [
        "data.dtypes"
      ],
      "metadata": {
        "id": "giOB7HlWrsTo",
        "outputId": "50f5b66d-6759-4fe8-b1e2-ed929148d0da",
        "colab": {
          "base_uri": "https://localhost:8080/"
        }
      },
      "id": "giOB7HlWrsTo",
      "execution_count": null,
      "outputs": [
        {
          "output_type": "execute_result",
          "data": {
            "text/plain": [
              "Country Name       object\n",
              "Country Code       object\n",
              "Indicator Name     object\n",
              "Indicator Code     object\n",
              "1960              float64\n",
              "                   ...   \n",
              "2017              float64\n",
              "2018              float64\n",
              "2019              float64\n",
              "2020              float64\n",
              "Unnamed: 65       float64\n",
              "Length: 66, dtype: object"
            ]
          },
          "metadata": {},
          "execution_count": 3
        }
      ]
    },
    {
      "cell_type": "code",
      "source": [],
      "metadata": {
        "id": "9TiTX3-QsBfa"
      },
      "id": "9TiTX3-QsBfa",
      "execution_count": null,
      "outputs": []
    },
    {
      "cell_type": "code",
      "source": [],
      "metadata": {
        "id": "NitUDdKFtEJO"
      },
      "id": "NitUDdKFtEJO",
      "execution_count": null,
      "outputs": []
    },
    {
      "cell_type": "markdown",
      "id": "a2377dd7",
      "metadata": {
        "id": "a2377dd7"
      },
      "source": [
        "### Step 1.f: Get world data\n",
        "- We are only insterested in data for the world.\n",
        "- The data can be identified by `Country Name` (World) or `Country Code` (WLD).\n",
        "- This can be done as follows:\n",
        "```Python\n",
        "data[data['Country Name'] == 'World']\n",
        "```\n",
        "- NOTE: Remember to keep data"
      ]
    },
    {
      "cell_type": "code",
      "source": [
        "data.head()"
      ],
      "metadata": {
        "id": "tUk-PYnVueBv",
        "outputId": "86c009ff-9b2e-4352-c34b-51fe5c667f8c",
        "colab": {
          "base_uri": "https://localhost:8080/",
          "height": 487
        }
      },
      "id": "tUk-PYnVueBv",
      "execution_count": null,
      "outputs": [
        {
          "output_type": "execute_result",
          "data": {
            "text/plain": [
              "                            Country Code     Indicator Name Indicator Code  \\\n",
              "Country Name                                                                 \n",
              "Aruba                                ABW  Population, total    SP.POP.TOTL   \n",
              "Africa Eastern and Southern          AFE  Population, total    SP.POP.TOTL   \n",
              "Afghanistan                          AFG  Population, total    SP.POP.TOTL   \n",
              "Africa Western and Central           AFW  Population, total    SP.POP.TOTL   \n",
              "Angola                               AGO  Population, total    SP.POP.TOTL   \n",
              "\n",
              "                                    1960         1961         1962  \\\n",
              "Country Name                                                         \n",
              "Aruba                            54208.0      55434.0      56234.0   \n",
              "Africa Eastern and Southern  130836765.0  134159786.0  137614644.0   \n",
              "Afghanistan                    8996967.0    9169406.0    9351442.0   \n",
              "Africa Western and Central    96396419.0   98407221.0  100506960.0   \n",
              "Angola                         5454938.0    5531451.0    5608499.0   \n",
              "\n",
              "                                    1963         1964         1965  \\\n",
              "Country Name                                                         \n",
              "Aruba                            56699.0      57029.0      57357.0   \n",
              "Africa Eastern and Southern  141202036.0  144920186.0  148769974.0   \n",
              "Afghanistan                    9543200.0    9744772.0    9956318.0   \n",
              "Africa Western and Central   102691339.0  104953470.0  107289875.0   \n",
              "Angola                         5679409.0    5734995.0    5770573.0   \n",
              "\n",
              "                                    1966  ...         2011         2012  \\\n",
              "Country Name                              ...                             \n",
              "Aruba                            57702.0  ...     102050.0     102565.0   \n",
              "Africa Eastern and Southern  152752671.0  ...  532760424.0  547482863.0   \n",
              "Afghanistan                   10174840.0  ...   30117411.0   31161378.0   \n",
              "Africa Western and Central   109701811.0  ...  360285439.0  370243017.0   \n",
              "Angola                         5781305.0  ...   24220660.0   25107925.0   \n",
              "\n",
              "                                    2013         2014         2015  \\\n",
              "Country Name                                                         \n",
              "Aruba                           103165.0     103776.0     104339.0   \n",
              "Africa Eastern and Southern  562601578.0  578075373.0  593871847.0   \n",
              "Afghanistan                   32269592.0   33370804.0   34413603.0   \n",
              "Africa Western and Central   380437896.0  390882979.0  401586651.0   \n",
              "Angola                        26015786.0   26941773.0   27884380.0   \n",
              "\n",
              "                                    2016         2017         2018  \\\n",
              "Country Name                                                         \n",
              "Aruba                           104865.0     105361.0     105846.0   \n",
              "Africa Eastern and Southern  609978946.0  626392880.0  643090131.0   \n",
              "Afghanistan                   35383028.0   36296111.0   37171922.0   \n",
              "Africa Western and Central   412551299.0  423769930.0  435229381.0   \n",
              "Angola                        28842482.0   29816769.0   30809787.0   \n",
              "\n",
              "                                    2019         2020  \n",
              "Country Name                                           \n",
              "Aruba                           106310.0     106766.0  \n",
              "Africa Eastern and Southern  660046272.0  677243299.0  \n",
              "Afghanistan                   38041757.0   38928341.0  \n",
              "Africa Western and Central   446911598.0  458803476.0  \n",
              "Angola                        31825299.0   32866268.0  \n",
              "\n",
              "[5 rows x 64 columns]"
            ],
            "text/html": [
              "\n",
              "  <div id=\"df-3934c2ad-e3d9-4997-b311-9aaf614db9f5\">\n",
              "    <div class=\"colab-df-container\">\n",
              "      <div>\n",
              "<style scoped>\n",
              "    .dataframe tbody tr th:only-of-type {\n",
              "        vertical-align: middle;\n",
              "    }\n",
              "\n",
              "    .dataframe tbody tr th {\n",
              "        vertical-align: top;\n",
              "    }\n",
              "\n",
              "    .dataframe thead th {\n",
              "        text-align: right;\n",
              "    }\n",
              "</style>\n",
              "<table border=\"1\" class=\"dataframe\">\n",
              "  <thead>\n",
              "    <tr style=\"text-align: right;\">\n",
              "      <th></th>\n",
              "      <th>Country Code</th>\n",
              "      <th>Indicator Name</th>\n",
              "      <th>Indicator Code</th>\n",
              "      <th>1960</th>\n",
              "      <th>1961</th>\n",
              "      <th>1962</th>\n",
              "      <th>1963</th>\n",
              "      <th>1964</th>\n",
              "      <th>1965</th>\n",
              "      <th>1966</th>\n",
              "      <th>...</th>\n",
              "      <th>2011</th>\n",
              "      <th>2012</th>\n",
              "      <th>2013</th>\n",
              "      <th>2014</th>\n",
              "      <th>2015</th>\n",
              "      <th>2016</th>\n",
              "      <th>2017</th>\n",
              "      <th>2018</th>\n",
              "      <th>2019</th>\n",
              "      <th>2020</th>\n",
              "    </tr>\n",
              "    <tr>\n",
              "      <th>Country Name</th>\n",
              "      <th></th>\n",
              "      <th></th>\n",
              "      <th></th>\n",
              "      <th></th>\n",
              "      <th></th>\n",
              "      <th></th>\n",
              "      <th></th>\n",
              "      <th></th>\n",
              "      <th></th>\n",
              "      <th></th>\n",
              "      <th></th>\n",
              "      <th></th>\n",
              "      <th></th>\n",
              "      <th></th>\n",
              "      <th></th>\n",
              "      <th></th>\n",
              "      <th></th>\n",
              "      <th></th>\n",
              "      <th></th>\n",
              "      <th></th>\n",
              "      <th></th>\n",
              "    </tr>\n",
              "  </thead>\n",
              "  <tbody>\n",
              "    <tr>\n",
              "      <th>Aruba</th>\n",
              "      <td>ABW</td>\n",
              "      <td>Population, total</td>\n",
              "      <td>SP.POP.TOTL</td>\n",
              "      <td>54208.0</td>\n",
              "      <td>55434.0</td>\n",
              "      <td>56234.0</td>\n",
              "      <td>56699.0</td>\n",
              "      <td>57029.0</td>\n",
              "      <td>57357.0</td>\n",
              "      <td>57702.0</td>\n",
              "      <td>...</td>\n",
              "      <td>102050.0</td>\n",
              "      <td>102565.0</td>\n",
              "      <td>103165.0</td>\n",
              "      <td>103776.0</td>\n",
              "      <td>104339.0</td>\n",
              "      <td>104865.0</td>\n",
              "      <td>105361.0</td>\n",
              "      <td>105846.0</td>\n",
              "      <td>106310.0</td>\n",
              "      <td>106766.0</td>\n",
              "    </tr>\n",
              "    <tr>\n",
              "      <th>Africa Eastern and Southern</th>\n",
              "      <td>AFE</td>\n",
              "      <td>Population, total</td>\n",
              "      <td>SP.POP.TOTL</td>\n",
              "      <td>130836765.0</td>\n",
              "      <td>134159786.0</td>\n",
              "      <td>137614644.0</td>\n",
              "      <td>141202036.0</td>\n",
              "      <td>144920186.0</td>\n",
              "      <td>148769974.0</td>\n",
              "      <td>152752671.0</td>\n",
              "      <td>...</td>\n",
              "      <td>532760424.0</td>\n",
              "      <td>547482863.0</td>\n",
              "      <td>562601578.0</td>\n",
              "      <td>578075373.0</td>\n",
              "      <td>593871847.0</td>\n",
              "      <td>609978946.0</td>\n",
              "      <td>626392880.0</td>\n",
              "      <td>643090131.0</td>\n",
              "      <td>660046272.0</td>\n",
              "      <td>677243299.0</td>\n",
              "    </tr>\n",
              "    <tr>\n",
              "      <th>Afghanistan</th>\n",
              "      <td>AFG</td>\n",
              "      <td>Population, total</td>\n",
              "      <td>SP.POP.TOTL</td>\n",
              "      <td>8996967.0</td>\n",
              "      <td>9169406.0</td>\n",
              "      <td>9351442.0</td>\n",
              "      <td>9543200.0</td>\n",
              "      <td>9744772.0</td>\n",
              "      <td>9956318.0</td>\n",
              "      <td>10174840.0</td>\n",
              "      <td>...</td>\n",
              "      <td>30117411.0</td>\n",
              "      <td>31161378.0</td>\n",
              "      <td>32269592.0</td>\n",
              "      <td>33370804.0</td>\n",
              "      <td>34413603.0</td>\n",
              "      <td>35383028.0</td>\n",
              "      <td>36296111.0</td>\n",
              "      <td>37171922.0</td>\n",
              "      <td>38041757.0</td>\n",
              "      <td>38928341.0</td>\n",
              "    </tr>\n",
              "    <tr>\n",
              "      <th>Africa Western and Central</th>\n",
              "      <td>AFW</td>\n",
              "      <td>Population, total</td>\n",
              "      <td>SP.POP.TOTL</td>\n",
              "      <td>96396419.0</td>\n",
              "      <td>98407221.0</td>\n",
              "      <td>100506960.0</td>\n",
              "      <td>102691339.0</td>\n",
              "      <td>104953470.0</td>\n",
              "      <td>107289875.0</td>\n",
              "      <td>109701811.0</td>\n",
              "      <td>...</td>\n",
              "      <td>360285439.0</td>\n",
              "      <td>370243017.0</td>\n",
              "      <td>380437896.0</td>\n",
              "      <td>390882979.0</td>\n",
              "      <td>401586651.0</td>\n",
              "      <td>412551299.0</td>\n",
              "      <td>423769930.0</td>\n",
              "      <td>435229381.0</td>\n",
              "      <td>446911598.0</td>\n",
              "      <td>458803476.0</td>\n",
              "    </tr>\n",
              "    <tr>\n",
              "      <th>Angola</th>\n",
              "      <td>AGO</td>\n",
              "      <td>Population, total</td>\n",
              "      <td>SP.POP.TOTL</td>\n",
              "      <td>5454938.0</td>\n",
              "      <td>5531451.0</td>\n",
              "      <td>5608499.0</td>\n",
              "      <td>5679409.0</td>\n",
              "      <td>5734995.0</td>\n",
              "      <td>5770573.0</td>\n",
              "      <td>5781305.0</td>\n",
              "      <td>...</td>\n",
              "      <td>24220660.0</td>\n",
              "      <td>25107925.0</td>\n",
              "      <td>26015786.0</td>\n",
              "      <td>26941773.0</td>\n",
              "      <td>27884380.0</td>\n",
              "      <td>28842482.0</td>\n",
              "      <td>29816769.0</td>\n",
              "      <td>30809787.0</td>\n",
              "      <td>31825299.0</td>\n",
              "      <td>32866268.0</td>\n",
              "    </tr>\n",
              "  </tbody>\n",
              "</table>\n",
              "<p>5 rows × 64 columns</p>\n",
              "</div>\n",
              "      <button class=\"colab-df-convert\" onclick=\"convertToInteractive('df-3934c2ad-e3d9-4997-b311-9aaf614db9f5')\"\n",
              "              title=\"Convert this dataframe to an interactive table.\"\n",
              "              style=\"display:none;\">\n",
              "        \n",
              "  <svg xmlns=\"http://www.w3.org/2000/svg\" height=\"24px\"viewBox=\"0 0 24 24\"\n",
              "       width=\"24px\">\n",
              "    <path d=\"M0 0h24v24H0V0z\" fill=\"none\"/>\n",
              "    <path d=\"M18.56 5.44l.94 2.06.94-2.06 2.06-.94-2.06-.94-.94-2.06-.94 2.06-2.06.94zm-11 1L8.5 8.5l.94-2.06 2.06-.94-2.06-.94L8.5 2.5l-.94 2.06-2.06.94zm10 10l.94 2.06.94-2.06 2.06-.94-2.06-.94-.94-2.06-.94 2.06-2.06.94z\"/><path d=\"M17.41 7.96l-1.37-1.37c-.4-.4-.92-.59-1.43-.59-.52 0-1.04.2-1.43.59L10.3 9.45l-7.72 7.72c-.78.78-.78 2.05 0 2.83L4 21.41c.39.39.9.59 1.41.59.51 0 1.02-.2 1.41-.59l7.78-7.78 2.81-2.81c.8-.78.8-2.07 0-2.86zM5.41 20L4 18.59l7.72-7.72 1.47 1.35L5.41 20z\"/>\n",
              "  </svg>\n",
              "      </button>\n",
              "      \n",
              "  <style>\n",
              "    .colab-df-container {\n",
              "      display:flex;\n",
              "      flex-wrap:wrap;\n",
              "      gap: 12px;\n",
              "    }\n",
              "\n",
              "    .colab-df-convert {\n",
              "      background-color: #E8F0FE;\n",
              "      border: none;\n",
              "      border-radius: 50%;\n",
              "      cursor: pointer;\n",
              "      display: none;\n",
              "      fill: #1967D2;\n",
              "      height: 32px;\n",
              "      padding: 0 0 0 0;\n",
              "      width: 32px;\n",
              "    }\n",
              "\n",
              "    .colab-df-convert:hover {\n",
              "      background-color: #E2EBFA;\n",
              "      box-shadow: 0px 1px 2px rgba(60, 64, 67, 0.3), 0px 1px 3px 1px rgba(60, 64, 67, 0.15);\n",
              "      fill: #174EA6;\n",
              "    }\n",
              "\n",
              "    [theme=dark] .colab-df-convert {\n",
              "      background-color: #3B4455;\n",
              "      fill: #D2E3FC;\n",
              "    }\n",
              "\n",
              "    [theme=dark] .colab-df-convert:hover {\n",
              "      background-color: #434B5C;\n",
              "      box-shadow: 0px 1px 3px 1px rgba(0, 0, 0, 0.15);\n",
              "      filter: drop-shadow(0px 1px 2px rgba(0, 0, 0, 0.3));\n",
              "      fill: #FFFFFF;\n",
              "    }\n",
              "  </style>\n",
              "\n",
              "      <script>\n",
              "        const buttonEl =\n",
              "          document.querySelector('#df-3934c2ad-e3d9-4997-b311-9aaf614db9f5 button.colab-df-convert');\n",
              "        buttonEl.style.display =\n",
              "          google.colab.kernel.accessAllowed ? 'block' : 'none';\n",
              "\n",
              "        async function convertToInteractive(key) {\n",
              "          const element = document.querySelector('#df-3934c2ad-e3d9-4997-b311-9aaf614db9f5');\n",
              "          const dataTable =\n",
              "            await google.colab.kernel.invokeFunction('convertToInteractive',\n",
              "                                                     [key], {});\n",
              "          if (!dataTable) return;\n",
              "\n",
              "          const docLinkHtml = 'Like what you see? Visit the ' +\n",
              "            '<a target=\"_blank\" href=https://colab.research.google.com/notebooks/data_table.ipynb>data table notebook</a>'\n",
              "            + ' to learn more about interactive tables.';\n",
              "          element.innerHTML = '';\n",
              "          dataTable['output_type'] = 'display_data';\n",
              "          await google.colab.output.renderOutput(dataTable, element);\n",
              "          const docLink = document.createElement('div');\n",
              "          docLink.innerHTML = docLinkHtml;\n",
              "          element.appendChild(docLink);\n",
              "        }\n",
              "      </script>\n",
              "    </div>\n",
              "  </div>\n",
              "  "
            ]
          },
          "metadata": {},
          "execution_count": 19
        }
      ]
    },
    {
      "cell_type": "code",
      "execution_count": null,
      "id": "d1a3e2a9",
      "metadata": {
        "id": "d1a3e2a9"
      },
      "outputs": [],
      "source": [
        "world_data = data[data['Country Name'] == 'World']"
      ]
    },
    {
      "cell_type": "code",
      "execution_count": null,
      "id": "c852d1ca",
      "metadata": {
        "id": "c852d1ca",
        "outputId": "d8f5a23f-0878-4442-908c-290ddaaecf07",
        "colab": {
          "base_uri": "https://localhost:8080/",
          "height": 209
        }
      },
      "outputs": [
        {
          "output_type": "execute_result",
          "data": {
            "text/plain": [
              "    Country Name Country Code     Indicator Name Indicator Code          1960  \\\n",
              "259        World          WLD  Population, total    SP.POP.TOTL  3.032156e+09   \n",
              "\n",
              "             1961          1962          1963          1964          1965  \\\n",
              "259  3.071596e+09  3.124561e+09  3.189656e+09  3.255146e+09  3.322047e+09   \n",
              "\n",
              "     ...          2012          2013          2014          2015  \\\n",
              "259  ...  7.085790e+09  7.169675e+09  7.254293e+09  7.339077e+09   \n",
              "\n",
              "             2016          2017          2018          2019          2020  \\\n",
              "259  7.424485e+09  7.509410e+09  7.592476e+09  7.673345e+09  7.752841e+09   \n",
              "\n",
              "     Unnamed: 65  \n",
              "259          NaN  \n",
              "\n",
              "[1 rows x 66 columns]"
            ],
            "text/html": [
              "\n",
              "  <div id=\"df-d8c6ce8d-7c26-4467-a71b-680406f10770\">\n",
              "    <div class=\"colab-df-container\">\n",
              "      <div>\n",
              "<style scoped>\n",
              "    .dataframe tbody tr th:only-of-type {\n",
              "        vertical-align: middle;\n",
              "    }\n",
              "\n",
              "    .dataframe tbody tr th {\n",
              "        vertical-align: top;\n",
              "    }\n",
              "\n",
              "    .dataframe thead th {\n",
              "        text-align: right;\n",
              "    }\n",
              "</style>\n",
              "<table border=\"1\" class=\"dataframe\">\n",
              "  <thead>\n",
              "    <tr style=\"text-align: right;\">\n",
              "      <th></th>\n",
              "      <th>Country Name</th>\n",
              "      <th>Country Code</th>\n",
              "      <th>Indicator Name</th>\n",
              "      <th>Indicator Code</th>\n",
              "      <th>1960</th>\n",
              "      <th>1961</th>\n",
              "      <th>1962</th>\n",
              "      <th>1963</th>\n",
              "      <th>1964</th>\n",
              "      <th>1965</th>\n",
              "      <th>...</th>\n",
              "      <th>2012</th>\n",
              "      <th>2013</th>\n",
              "      <th>2014</th>\n",
              "      <th>2015</th>\n",
              "      <th>2016</th>\n",
              "      <th>2017</th>\n",
              "      <th>2018</th>\n",
              "      <th>2019</th>\n",
              "      <th>2020</th>\n",
              "      <th>Unnamed: 65</th>\n",
              "    </tr>\n",
              "  </thead>\n",
              "  <tbody>\n",
              "    <tr>\n",
              "      <th>259</th>\n",
              "      <td>World</td>\n",
              "      <td>WLD</td>\n",
              "      <td>Population, total</td>\n",
              "      <td>SP.POP.TOTL</td>\n",
              "      <td>3.032156e+09</td>\n",
              "      <td>3.071596e+09</td>\n",
              "      <td>3.124561e+09</td>\n",
              "      <td>3.189656e+09</td>\n",
              "      <td>3.255146e+09</td>\n",
              "      <td>3.322047e+09</td>\n",
              "      <td>...</td>\n",
              "      <td>7.085790e+09</td>\n",
              "      <td>7.169675e+09</td>\n",
              "      <td>7.254293e+09</td>\n",
              "      <td>7.339077e+09</td>\n",
              "      <td>7.424485e+09</td>\n",
              "      <td>7.509410e+09</td>\n",
              "      <td>7.592476e+09</td>\n",
              "      <td>7.673345e+09</td>\n",
              "      <td>7.752841e+09</td>\n",
              "      <td>NaN</td>\n",
              "    </tr>\n",
              "  </tbody>\n",
              "</table>\n",
              "<p>1 rows × 66 columns</p>\n",
              "</div>\n",
              "      <button class=\"colab-df-convert\" onclick=\"convertToInteractive('df-d8c6ce8d-7c26-4467-a71b-680406f10770')\"\n",
              "              title=\"Convert this dataframe to an interactive table.\"\n",
              "              style=\"display:none;\">\n",
              "        \n",
              "  <svg xmlns=\"http://www.w3.org/2000/svg\" height=\"24px\"viewBox=\"0 0 24 24\"\n",
              "       width=\"24px\">\n",
              "    <path d=\"M0 0h24v24H0V0z\" fill=\"none\"/>\n",
              "    <path d=\"M18.56 5.44l.94 2.06.94-2.06 2.06-.94-2.06-.94-.94-2.06-.94 2.06-2.06.94zm-11 1L8.5 8.5l.94-2.06 2.06-.94-2.06-.94L8.5 2.5l-.94 2.06-2.06.94zm10 10l.94 2.06.94-2.06 2.06-.94-2.06-.94-.94-2.06-.94 2.06-2.06.94z\"/><path d=\"M17.41 7.96l-1.37-1.37c-.4-.4-.92-.59-1.43-.59-.52 0-1.04.2-1.43.59L10.3 9.45l-7.72 7.72c-.78.78-.78 2.05 0 2.83L4 21.41c.39.39.9.59 1.41.59.51 0 1.02-.2 1.41-.59l7.78-7.78 2.81-2.81c.8-.78.8-2.07 0-2.86zM5.41 20L4 18.59l7.72-7.72 1.47 1.35L5.41 20z\"/>\n",
              "  </svg>\n",
              "      </button>\n",
              "      \n",
              "  <style>\n",
              "    .colab-df-container {\n",
              "      display:flex;\n",
              "      flex-wrap:wrap;\n",
              "      gap: 12px;\n",
              "    }\n",
              "\n",
              "    .colab-df-convert {\n",
              "      background-color: #E8F0FE;\n",
              "      border: none;\n",
              "      border-radius: 50%;\n",
              "      cursor: pointer;\n",
              "      display: none;\n",
              "      fill: #1967D2;\n",
              "      height: 32px;\n",
              "      padding: 0 0 0 0;\n",
              "      width: 32px;\n",
              "    }\n",
              "\n",
              "    .colab-df-convert:hover {\n",
              "      background-color: #E2EBFA;\n",
              "      box-shadow: 0px 1px 2px rgba(60, 64, 67, 0.3), 0px 1px 3px 1px rgba(60, 64, 67, 0.15);\n",
              "      fill: #174EA6;\n",
              "    }\n",
              "\n",
              "    [theme=dark] .colab-df-convert {\n",
              "      background-color: #3B4455;\n",
              "      fill: #D2E3FC;\n",
              "    }\n",
              "\n",
              "    [theme=dark] .colab-df-convert:hover {\n",
              "      background-color: #434B5C;\n",
              "      box-shadow: 0px 1px 3px 1px rgba(0, 0, 0, 0.15);\n",
              "      filter: drop-shadow(0px 1px 2px rgba(0, 0, 0, 0.3));\n",
              "      fill: #FFFFFF;\n",
              "    }\n",
              "  </style>\n",
              "\n",
              "      <script>\n",
              "        const buttonEl =\n",
              "          document.querySelector('#df-d8c6ce8d-7c26-4467-a71b-680406f10770 button.colab-df-convert');\n",
              "        buttonEl.style.display =\n",
              "          google.colab.kernel.accessAllowed ? 'block' : 'none';\n",
              "\n",
              "        async function convertToInteractive(key) {\n",
              "          const element = document.querySelector('#df-d8c6ce8d-7c26-4467-a71b-680406f10770');\n",
              "          const dataTable =\n",
              "            await google.colab.kernel.invokeFunction('convertToInteractive',\n",
              "                                                     [key], {});\n",
              "          if (!dataTable) return;\n",
              "\n",
              "          const docLinkHtml = 'Like what you see? Visit the ' +\n",
              "            '<a target=\"_blank\" href=https://colab.research.google.com/notebooks/data_table.ipynb>data table notebook</a>'\n",
              "            + ' to learn more about interactive tables.';\n",
              "          element.innerHTML = '';\n",
              "          dataTable['output_type'] = 'display_data';\n",
              "          await google.colab.output.renderOutput(dataTable, element);\n",
              "          const docLink = document.createElement('div');\n",
              "          docLink.innerHTML = docLinkHtml;\n",
              "          element.appendChild(docLink);\n",
              "        }\n",
              "      </script>\n",
              "    </div>\n",
              "  </div>\n",
              "  "
            ]
          },
          "metadata": {},
          "execution_count": 26
        }
      ],
      "source": [
        "world_data"
      ]
    },
    {
      "cell_type": "code",
      "source": [],
      "metadata": {
        "id": "p5OQJDuZvQHs"
      },
      "id": "p5OQJDuZvQHs",
      "execution_count": null,
      "outputs": []
    },
    {
      "cell_type": "markdown",
      "id": "3bec949d",
      "metadata": {
        "id": "3bec949d"
      },
      "source": [
        "## Step 2: Prepare\n",
        "- Explore data\n",
        "- Visualize ideas\n",
        "- Cleaning data"
      ]
    },
    {
      "cell_type": "markdown",
      "id": "6a5d948d",
      "metadata": {
        "id": "6a5d948d"
      },
      "source": [
        "### Step 2.a: Check the data types\n",
        "- This step tells you if some numeric column is not represented numeric.\n",
        "- Get the data types by ```.dtypes```"
      ]
    },
    {
      "cell_type": "code",
      "execution_count": null,
      "id": "eb4ba8fc",
      "metadata": {
        "id": "eb4ba8fc"
      },
      "outputs": [],
      "source": []
    },
    {
      "cell_type": "markdown",
      "id": "74fcad4d",
      "metadata": {
        "id": "74fcad4d"
      },
      "source": [
        "### Step 2.b: Keep only needed columns\n",
        "- We are only interested in the year columns.\n",
        "- You can drop the other columns by: ```.drop(list_of_columns_to_delete, axis='columns')```\n",
        "- Notice there is a `unnamed` column.\n",
        "    - Remove it with `dataset.dropna(how='all', axis='columns')`"
      ]
    },
    {
      "cell_type": "code",
      "execution_count": null,
      "id": "0746bb3d",
      "metadata": {
        "id": "0746bb3d",
        "outputId": "f09d3829-e8d9-4921-af07-e332f564ab28",
        "colab": {
          "base_uri": "https://localhost:8080/"
        }
      },
      "outputs": [
        {
          "output_type": "execute_result",
          "data": {
            "text/plain": [
              "Country Name       object\n",
              "Country Code       object\n",
              "Indicator Name     object\n",
              "Indicator Code     object\n",
              "1960              float64\n",
              "                   ...   \n",
              "2017              float64\n",
              "2018              float64\n",
              "2019              float64\n",
              "2020              float64\n",
              "Unnamed: 65       float64\n",
              "Length: 66, dtype: object"
            ]
          },
          "metadata": {},
          "execution_count": 29
        }
      ],
      "source": [
        "world_data.dtypes"
      ]
    },
    {
      "cell_type": "code",
      "execution_count": null,
      "id": "6fac8f80",
      "metadata": {
        "id": "6fac8f80"
      },
      "outputs": [],
      "source": [
        "world_data = world_data.drop(['Country Name','Country Code','Indicator Name','Indicator Code','Unnamed: 65'],axis = 'columns')"
      ]
    },
    {
      "cell_type": "code",
      "source": [
        "world_data"
      ],
      "metadata": {
        "id": "uZngZirOwR4K",
        "outputId": "43c4daad-73cc-4ffe-f241-fd0b2dbaa2cd",
        "colab": {
          "base_uri": "https://localhost:8080/",
          "height": 174
        }
      },
      "id": "uZngZirOwR4K",
      "execution_count": null,
      "outputs": [
        {
          "output_type": "execute_result",
          "data": {
            "text/plain": [
              "             1960          1961          1962          1963          1964  \\\n",
              "259  3.032156e+09  3.071596e+09  3.124561e+09  3.189656e+09  3.255146e+09   \n",
              "\n",
              "             1965          1966          1967          1968          1969  \\\n",
              "259  3.322047e+09  3.392098e+09  3.461620e+09  3.532783e+09  3.606554e+09   \n",
              "\n",
              "     ...          2011          2012          2013          2014  \\\n",
              "259  ...  7.002881e+09  7.085790e+09  7.169675e+09  7.254293e+09   \n",
              "\n",
              "             2015          2016          2017          2018          2019  \\\n",
              "259  7.339077e+09  7.424485e+09  7.509410e+09  7.592476e+09  7.673345e+09   \n",
              "\n",
              "             2020  \n",
              "259  7.752841e+09  \n",
              "\n",
              "[1 rows x 61 columns]"
            ],
            "text/html": [
              "\n",
              "  <div id=\"df-918e2932-b1e7-4c3d-b2b7-93167c5a6fbc\">\n",
              "    <div class=\"colab-df-container\">\n",
              "      <div>\n",
              "<style scoped>\n",
              "    .dataframe tbody tr th:only-of-type {\n",
              "        vertical-align: middle;\n",
              "    }\n",
              "\n",
              "    .dataframe tbody tr th {\n",
              "        vertical-align: top;\n",
              "    }\n",
              "\n",
              "    .dataframe thead th {\n",
              "        text-align: right;\n",
              "    }\n",
              "</style>\n",
              "<table border=\"1\" class=\"dataframe\">\n",
              "  <thead>\n",
              "    <tr style=\"text-align: right;\">\n",
              "      <th></th>\n",
              "      <th>1960</th>\n",
              "      <th>1961</th>\n",
              "      <th>1962</th>\n",
              "      <th>1963</th>\n",
              "      <th>1964</th>\n",
              "      <th>1965</th>\n",
              "      <th>1966</th>\n",
              "      <th>1967</th>\n",
              "      <th>1968</th>\n",
              "      <th>1969</th>\n",
              "      <th>...</th>\n",
              "      <th>2011</th>\n",
              "      <th>2012</th>\n",
              "      <th>2013</th>\n",
              "      <th>2014</th>\n",
              "      <th>2015</th>\n",
              "      <th>2016</th>\n",
              "      <th>2017</th>\n",
              "      <th>2018</th>\n",
              "      <th>2019</th>\n",
              "      <th>2020</th>\n",
              "    </tr>\n",
              "  </thead>\n",
              "  <tbody>\n",
              "    <tr>\n",
              "      <th>259</th>\n",
              "      <td>3.032156e+09</td>\n",
              "      <td>3.071596e+09</td>\n",
              "      <td>3.124561e+09</td>\n",
              "      <td>3.189656e+09</td>\n",
              "      <td>3.255146e+09</td>\n",
              "      <td>3.322047e+09</td>\n",
              "      <td>3.392098e+09</td>\n",
              "      <td>3.461620e+09</td>\n",
              "      <td>3.532783e+09</td>\n",
              "      <td>3.606554e+09</td>\n",
              "      <td>...</td>\n",
              "      <td>7.002881e+09</td>\n",
              "      <td>7.085790e+09</td>\n",
              "      <td>7.169675e+09</td>\n",
              "      <td>7.254293e+09</td>\n",
              "      <td>7.339077e+09</td>\n",
              "      <td>7.424485e+09</td>\n",
              "      <td>7.509410e+09</td>\n",
              "      <td>7.592476e+09</td>\n",
              "      <td>7.673345e+09</td>\n",
              "      <td>7.752841e+09</td>\n",
              "    </tr>\n",
              "  </tbody>\n",
              "</table>\n",
              "<p>1 rows × 61 columns</p>\n",
              "</div>\n",
              "      <button class=\"colab-df-convert\" onclick=\"convertToInteractive('df-918e2932-b1e7-4c3d-b2b7-93167c5a6fbc')\"\n",
              "              title=\"Convert this dataframe to an interactive table.\"\n",
              "              style=\"display:none;\">\n",
              "        \n",
              "  <svg xmlns=\"http://www.w3.org/2000/svg\" height=\"24px\"viewBox=\"0 0 24 24\"\n",
              "       width=\"24px\">\n",
              "    <path d=\"M0 0h24v24H0V0z\" fill=\"none\"/>\n",
              "    <path d=\"M18.56 5.44l.94 2.06.94-2.06 2.06-.94-2.06-.94-.94-2.06-.94 2.06-2.06.94zm-11 1L8.5 8.5l.94-2.06 2.06-.94-2.06-.94L8.5 2.5l-.94 2.06-2.06.94zm10 10l.94 2.06.94-2.06 2.06-.94-2.06-.94-.94-2.06-.94 2.06-2.06.94z\"/><path d=\"M17.41 7.96l-1.37-1.37c-.4-.4-.92-.59-1.43-.59-.52 0-1.04.2-1.43.59L10.3 9.45l-7.72 7.72c-.78.78-.78 2.05 0 2.83L4 21.41c.39.39.9.59 1.41.59.51 0 1.02-.2 1.41-.59l7.78-7.78 2.81-2.81c.8-.78.8-2.07 0-2.86zM5.41 20L4 18.59l7.72-7.72 1.47 1.35L5.41 20z\"/>\n",
              "  </svg>\n",
              "      </button>\n",
              "      \n",
              "  <style>\n",
              "    .colab-df-container {\n",
              "      display:flex;\n",
              "      flex-wrap:wrap;\n",
              "      gap: 12px;\n",
              "    }\n",
              "\n",
              "    .colab-df-convert {\n",
              "      background-color: #E8F0FE;\n",
              "      border: none;\n",
              "      border-radius: 50%;\n",
              "      cursor: pointer;\n",
              "      display: none;\n",
              "      fill: #1967D2;\n",
              "      height: 32px;\n",
              "      padding: 0 0 0 0;\n",
              "      width: 32px;\n",
              "    }\n",
              "\n",
              "    .colab-df-convert:hover {\n",
              "      background-color: #E2EBFA;\n",
              "      box-shadow: 0px 1px 2px rgba(60, 64, 67, 0.3), 0px 1px 3px 1px rgba(60, 64, 67, 0.15);\n",
              "      fill: #174EA6;\n",
              "    }\n",
              "\n",
              "    [theme=dark] .colab-df-convert {\n",
              "      background-color: #3B4455;\n",
              "      fill: #D2E3FC;\n",
              "    }\n",
              "\n",
              "    [theme=dark] .colab-df-convert:hover {\n",
              "      background-color: #434B5C;\n",
              "      box-shadow: 0px 1px 3px 1px rgba(0, 0, 0, 0.15);\n",
              "      filter: drop-shadow(0px 1px 2px rgba(0, 0, 0, 0.3));\n",
              "      fill: #FFFFFF;\n",
              "    }\n",
              "  </style>\n",
              "\n",
              "      <script>\n",
              "        const buttonEl =\n",
              "          document.querySelector('#df-918e2932-b1e7-4c3d-b2b7-93167c5a6fbc button.colab-df-convert');\n",
              "        buttonEl.style.display =\n",
              "          google.colab.kernel.accessAllowed ? 'block' : 'none';\n",
              "\n",
              "        async function convertToInteractive(key) {\n",
              "          const element = document.querySelector('#df-918e2932-b1e7-4c3d-b2b7-93167c5a6fbc');\n",
              "          const dataTable =\n",
              "            await google.colab.kernel.invokeFunction('convertToInteractive',\n",
              "                                                     [key], {});\n",
              "          if (!dataTable) return;\n",
              "\n",
              "          const docLinkHtml = 'Like what you see? Visit the ' +\n",
              "            '<a target=\"_blank\" href=https://colab.research.google.com/notebooks/data_table.ipynb>data table notebook</a>'\n",
              "            + ' to learn more about interactive tables.';\n",
              "          element.innerHTML = '';\n",
              "          dataTable['output_type'] = 'display_data';\n",
              "          await google.colab.output.renderOutput(dataTable, element);\n",
              "          const docLink = document.createElement('div');\n",
              "          docLink.innerHTML = docLinkHtml;\n",
              "          element.appendChild(docLink);\n",
              "        }\n",
              "      </script>\n",
              "    </div>\n",
              "  </div>\n",
              "  "
            ]
          },
          "metadata": {},
          "execution_count": 31
        }
      ]
    },
    {
      "cell_type": "code",
      "source": [],
      "metadata": {
        "id": "xxDXRVuHwd-c"
      },
      "id": "xxDXRVuHwd-c",
      "execution_count": null,
      "outputs": []
    },
    {
      "cell_type": "markdown",
      "id": "5ffac106",
      "metadata": {
        "id": "5ffac106"
      },
      "source": [
        "### Step 2.c: Transpose data\n",
        "- It makes sense to have years in the rows\n",
        "- This can be done with `.transpose()`"
      ]
    },
    {
      "cell_type": "code",
      "execution_count": null,
      "id": "4cccd7a9",
      "metadata": {
        "id": "4cccd7a9"
      },
      "outputs": [],
      "source": [
        "world_data = world_data.transpose()"
      ]
    },
    {
      "cell_type": "code",
      "execution_count": null,
      "id": "a7eb351a",
      "metadata": {
        "id": "a7eb351a"
      },
      "outputs": [],
      "source": []
    },
    {
      "cell_type": "markdown",
      "id": "9be4b35f",
      "metadata": {
        "id": "9be4b35f"
      },
      "source": [
        "### Step 2.d: Rename column\n",
        "- The name 259 can be renamed as follows\n",
        "- This can be done as follows\n",
        "```.rename(columns={259:'World Population'})```"
      ]
    },
    {
      "cell_type": "code",
      "execution_count": null,
      "id": "5bba2ae4",
      "metadata": {
        "id": "5bba2ae4"
      },
      "outputs": [],
      "source": [
        "world_data.rename(columns={259:'World Population'},inplace = True)"
      ]
    },
    {
      "cell_type": "code",
      "source": [
        "world_data.head()"
      ],
      "metadata": {
        "id": "rVCGxVbCx5DT",
        "outputId": "8fee9de0-865e-4021-d99d-c3a38374c4a4",
        "colab": {
          "base_uri": "https://localhost:8080/",
          "height": 206
        }
      },
      "id": "rVCGxVbCx5DT",
      "execution_count": null,
      "outputs": [
        {
          "output_type": "execute_result",
          "data": {
            "text/plain": [
              "      World Population\n",
              "1960      3.032156e+09\n",
              "1961      3.071596e+09\n",
              "1962      3.124561e+09\n",
              "1963      3.189656e+09\n",
              "1964      3.255146e+09"
            ],
            "text/html": [
              "\n",
              "  <div id=\"df-9080652c-ab43-4f23-8694-576dcebdd951\">\n",
              "    <div class=\"colab-df-container\">\n",
              "      <div>\n",
              "<style scoped>\n",
              "    .dataframe tbody tr th:only-of-type {\n",
              "        vertical-align: middle;\n",
              "    }\n",
              "\n",
              "    .dataframe tbody tr th {\n",
              "        vertical-align: top;\n",
              "    }\n",
              "\n",
              "    .dataframe thead th {\n",
              "        text-align: right;\n",
              "    }\n",
              "</style>\n",
              "<table border=\"1\" class=\"dataframe\">\n",
              "  <thead>\n",
              "    <tr style=\"text-align: right;\">\n",
              "      <th></th>\n",
              "      <th>World Population</th>\n",
              "    </tr>\n",
              "  </thead>\n",
              "  <tbody>\n",
              "    <tr>\n",
              "      <th>1960</th>\n",
              "      <td>3.032156e+09</td>\n",
              "    </tr>\n",
              "    <tr>\n",
              "      <th>1961</th>\n",
              "      <td>3.071596e+09</td>\n",
              "    </tr>\n",
              "    <tr>\n",
              "      <th>1962</th>\n",
              "      <td>3.124561e+09</td>\n",
              "    </tr>\n",
              "    <tr>\n",
              "      <th>1963</th>\n",
              "      <td>3.189656e+09</td>\n",
              "    </tr>\n",
              "    <tr>\n",
              "      <th>1964</th>\n",
              "      <td>3.255146e+09</td>\n",
              "    </tr>\n",
              "  </tbody>\n",
              "</table>\n",
              "</div>\n",
              "      <button class=\"colab-df-convert\" onclick=\"convertToInteractive('df-9080652c-ab43-4f23-8694-576dcebdd951')\"\n",
              "              title=\"Convert this dataframe to an interactive table.\"\n",
              "              style=\"display:none;\">\n",
              "        \n",
              "  <svg xmlns=\"http://www.w3.org/2000/svg\" height=\"24px\"viewBox=\"0 0 24 24\"\n",
              "       width=\"24px\">\n",
              "    <path d=\"M0 0h24v24H0V0z\" fill=\"none\"/>\n",
              "    <path d=\"M18.56 5.44l.94 2.06.94-2.06 2.06-.94-2.06-.94-.94-2.06-.94 2.06-2.06.94zm-11 1L8.5 8.5l.94-2.06 2.06-.94-2.06-.94L8.5 2.5l-.94 2.06-2.06.94zm10 10l.94 2.06.94-2.06 2.06-.94-2.06-.94-.94-2.06-.94 2.06-2.06.94z\"/><path d=\"M17.41 7.96l-1.37-1.37c-.4-.4-.92-.59-1.43-.59-.52 0-1.04.2-1.43.59L10.3 9.45l-7.72 7.72c-.78.78-.78 2.05 0 2.83L4 21.41c.39.39.9.59 1.41.59.51 0 1.02-.2 1.41-.59l7.78-7.78 2.81-2.81c.8-.78.8-2.07 0-2.86zM5.41 20L4 18.59l7.72-7.72 1.47 1.35L5.41 20z\"/>\n",
              "  </svg>\n",
              "      </button>\n",
              "      \n",
              "  <style>\n",
              "    .colab-df-container {\n",
              "      display:flex;\n",
              "      flex-wrap:wrap;\n",
              "      gap: 12px;\n",
              "    }\n",
              "\n",
              "    .colab-df-convert {\n",
              "      background-color: #E8F0FE;\n",
              "      border: none;\n",
              "      border-radius: 50%;\n",
              "      cursor: pointer;\n",
              "      display: none;\n",
              "      fill: #1967D2;\n",
              "      height: 32px;\n",
              "      padding: 0 0 0 0;\n",
              "      width: 32px;\n",
              "    }\n",
              "\n",
              "    .colab-df-convert:hover {\n",
              "      background-color: #E2EBFA;\n",
              "      box-shadow: 0px 1px 2px rgba(60, 64, 67, 0.3), 0px 1px 3px 1px rgba(60, 64, 67, 0.15);\n",
              "      fill: #174EA6;\n",
              "    }\n",
              "\n",
              "    [theme=dark] .colab-df-convert {\n",
              "      background-color: #3B4455;\n",
              "      fill: #D2E3FC;\n",
              "    }\n",
              "\n",
              "    [theme=dark] .colab-df-convert:hover {\n",
              "      background-color: #434B5C;\n",
              "      box-shadow: 0px 1px 3px 1px rgba(0, 0, 0, 0.15);\n",
              "      filter: drop-shadow(0px 1px 2px rgba(0, 0, 0, 0.3));\n",
              "      fill: #FFFFFF;\n",
              "    }\n",
              "  </style>\n",
              "\n",
              "      <script>\n",
              "        const buttonEl =\n",
              "          document.querySelector('#df-9080652c-ab43-4f23-8694-576dcebdd951 button.colab-df-convert');\n",
              "        buttonEl.style.display =\n",
              "          google.colab.kernel.accessAllowed ? 'block' : 'none';\n",
              "\n",
              "        async function convertToInteractive(key) {\n",
              "          const element = document.querySelector('#df-9080652c-ab43-4f23-8694-576dcebdd951');\n",
              "          const dataTable =\n",
              "            await google.colab.kernel.invokeFunction('convertToInteractive',\n",
              "                                                     [key], {});\n",
              "          if (!dataTable) return;\n",
              "\n",
              "          const docLinkHtml = 'Like what you see? Visit the ' +\n",
              "            '<a target=\"_blank\" href=https://colab.research.google.com/notebooks/data_table.ipynb>data table notebook</a>'\n",
              "            + ' to learn more about interactive tables.';\n",
              "          element.innerHTML = '';\n",
              "          dataTable['output_type'] = 'display_data';\n",
              "          await google.colab.output.renderOutput(dataTable, element);\n",
              "          const docLink = document.createElement('div');\n",
              "          docLink.innerHTML = docLinkHtml;\n",
              "          element.appendChild(docLink);\n",
              "        }\n",
              "      </script>\n",
              "    </div>\n",
              "  </div>\n",
              "  "
            ]
          },
          "metadata": {},
          "execution_count": 38
        }
      ]
    },
    {
      "cell_type": "markdown",
      "id": "137fdfde",
      "metadata": {
        "id": "137fdfde"
      },
      "source": [
        "### Step 2.e: Visualize data\n",
        "- This is done to check data quality\n",
        "- You can plot the DataFrame with `.plot()`"
      ]
    },
    {
      "cell_type": "code",
      "execution_count": null,
      "id": "ce6a2b8c",
      "metadata": {
        "id": "ce6a2b8c",
        "outputId": "516d7a72-284e-42b0-ae76-0edf9a8131c2",
        "colab": {
          "base_uri": "https://localhost:8080/",
          "height": 293
        }
      },
      "outputs": [
        {
          "output_type": "execute_result",
          "data": {
            "text/plain": [
              "<matplotlib.axes._subplots.AxesSubplot at 0x7fd28cc41df0>"
            ]
          },
          "metadata": {},
          "execution_count": 39
        },
        {
          "output_type": "display_data",
          "data": {
            "text/plain": [
              "<Figure size 432x288 with 1 Axes>"
            ],
            "image/png": "[encoded data removed]"
          },
          "metadata": {
            "needs_background": "light"
          }
        }
      ],
      "source": [
        "world_data.plot()"
      ]
    },
    {
      "cell_type": "code",
      "source": [
        "\n",
        "\n",
        "plt.plot(world_data,'r*')"
      ],
      "metadata": {
        "id": "UCO16uSwyVnv",
        "outputId": "d7ba7c60-dbb5-4583-92c7-0834cd12ef26",
        "colab": {
          "base_uri": "https://localhost:8080/",
          "height": 293
        }
      },
      "id": "UCO16uSwyVnv",
      "execution_count": null,
      "outputs": [
        {
          "output_type": "execute_result",
          "data": {
            "text/plain": [
              "[<matplotlib.lines.Line2D at 0x7fd28c87d970>]"
            ]
          },
          "metadata": {},
          "execution_count": 45
        },
        {
          "output_type": "display_data",
          "data": {
            "text/plain": [
              "<Figure size 432x288 with 1 Axes>"
            ],
            "image/png": "[encoded data removed]"
          },
          "metadata": {
            "needs_background": "light"
          }
        }
      ]
    },
    {
      "cell_type": "markdown",
      "id": "8cc1cabe",
      "metadata": {
        "id": "8cc1cabe"
      },
      "source": [
        "## Step 3: Analyze\n",
        "- Feature selection\n",
        "- Model selection\n",
        "- Analyze data"
      ]
    },
    {
      "cell_type": "markdown",
      "id": "30796964",
      "metadata": {
        "id": "30796964"
      },
      "source": [
        "### Step 3.a: Calculate yearly percentage change\n",
        "- We want to explore the growth of the world population\n",
        "- First step is to calculate the yearly growth\n",
        "- This can be done with `pct_change()` ([docs](https://pandas.pydata.org/docs/reference/api/pandas.DataFrame.pct_change.html))\n",
        "- Add a new column `Yearly growth` with the growth in percentage"
      ]
    },
    {
      "cell_type": "code",
      "source": [
        "world_data['Yearly growth'] = world_data['World Population'].pct_change()"
      ],
      "metadata": {
        "id": "zi2sfmHn4yhC"
      },
      "id": "zi2sfmHn4yhC",
      "execution_count": null,
      "outputs": []
    },
    {
      "cell_type": "code",
      "source": [
        "world_data.head()\n",
        "del world_data['growth']"
      ],
      "metadata": {
        "id": "Pv-sfb4k5Dvv"
      },
      "id": "Pv-sfb4k5Dvv",
      "execution_count": null,
      "outputs": []
    },
    {
      "cell_type": "code",
      "source": [
        "world_data.head()"
      ],
      "metadata": {
        "id": "NNUGSfAQ4pbK",
        "outputId": "c544d51c-8abc-43de-8979-55fdad28f427",
        "colab": {
          "base_uri": "https://localhost:8080/",
          "height": 206
        }
      },
      "id": "NNUGSfAQ4pbK",
      "execution_count": null,
      "outputs": [
        {
          "output_type": "execute_result",
          "data": {
            "text/plain": [
              "      World Population  Yearly growth\n",
              "1960      3.032156e+09            NaN\n",
              "1961      3.071596e+09       0.013007\n",
              "1962      3.124561e+09       0.017243\n",
              "1963      3.189656e+09       0.020833\n",
              "1964      3.255146e+09       0.020532"
            ],
            "text/html": [
              "\n",
              "  <div id=\"df-058a3b3e-685e-4f98-bfef-869f55360ae9\">\n",
              "    <div class=\"colab-df-container\">\n",
              "      <div>\n",
              "<style scoped>\n",
              "    .dataframe tbody tr th:only-of-type {\n",
              "        vertical-align: middle;\n",
              "    }\n",
              "\n",
              "    .dataframe tbody tr th {\n",
              "        vertical-align: top;\n",
              "    }\n",
              "\n",
              "    .dataframe thead th {\n",
              "        text-align: right;\n",
              "    }\n",
              "</style>\n",
              "<table border=\"1\" class=\"dataframe\">\n",
              "  <thead>\n",
              "    <tr style=\"text-align: right;\">\n",
              "      <th></th>\n",
              "      <th>World Population</th>\n",
              "      <th>Yearly growth</th>\n",
              "    </tr>\n",
              "  </thead>\n",
              "  <tbody>\n",
              "    <tr>\n",
              "      <th>1960</th>\n",
              "      <td>3.032156e+09</td>\n",
              "      <td>NaN</td>\n",
              "    </tr>\n",
              "    <tr>\n",
              "      <th>1961</th>\n",
              "      <td>3.071596e+09</td>\n",
              "      <td>0.013007</td>\n",
              "    </tr>\n",
              "    <tr>\n",
              "      <th>1962</th>\n",
              "      <td>3.124561e+09</td>\n",
              "      <td>0.017243</td>\n",
              "    </tr>\n",
              "    <tr>\n",
              "      <th>1963</th>\n",
              "      <td>3.189656e+09</td>\n",
              "      <td>0.020833</td>\n",
              "    </tr>\n",
              "    <tr>\n",
              "      <th>1964</th>\n",
              "      <td>3.255146e+09</td>\n",
              "      <td>0.020532</td>\n",
              "    </tr>\n",
              "  </tbody>\n",
              "</table>\n",
              "</div>\n",
              "      <button class=\"colab-df-convert\" onclick=\"convertToInteractive('df-058a3b3e-685e-4f98-bfef-869f55360ae9')\"\n",
              "              title=\"Convert this dataframe to an interactive table.\"\n",
              "              style=\"display:none;\">\n",
              "        \n",
              "  <svg xmlns=\"http://www.w3.org/2000/svg\" height=\"24px\"viewBox=\"0 0 24 24\"\n",
              "       width=\"24px\">\n",
              "    <path d=\"M0 0h24v24H0V0z\" fill=\"none\"/>\n",
              "    <path d=\"M18.56 5.44l.94 2.06.94-2.06 2.06-.94-2.06-.94-.94-2.06-.94 2.06-2.06.94zm-11 1L8.5 8.5l.94-2.06 2.06-.94-2.06-.94L8.5 2.5l-.94 2.06-2.06.94zm10 10l.94 2.06.94-2.06 2.06-.94-2.06-.94-.94-2.06-.94 2.06-2.06.94z\"/><path d=\"M17.41 7.96l-1.37-1.37c-.4-.4-.92-.59-1.43-.59-.52 0-1.04.2-1.43.59L10.3 9.45l-7.72 7.72c-.78.78-.78 2.05 0 2.83L4 21.41c.39.39.9.59 1.41.59.51 0 1.02-.2 1.41-.59l7.78-7.78 2.81-2.81c.8-.78.8-2.07 0-2.86zM5.41 20L4 18.59l7.72-7.72 1.47 1.35L5.41 20z\"/>\n",
              "  </svg>\n",
              "      </button>\n",
              "      \n",
              "  <style>\n",
              "    .colab-df-container {\n",
              "      display:flex;\n",
              "      flex-wrap:wrap;\n",
              "      gap: 12px;\n",
              "    }\n",
              "\n",
              "    .colab-df-convert {\n",
              "      background-color: #E8F0FE;\n",
              "      border: none;\n",
              "      border-radius: 50%;\n",
              "      cursor: pointer;\n",
              "      display: none;\n",
              "      fill: #1967D2;\n",
              "      height: 32px;\n",
              "      padding: 0 0 0 0;\n",
              "      width: 32px;\n",
              "    }\n",
              "\n",
              "    .colab-df-convert:hover {\n",
              "      background-color: #E2EBFA;\n",
              "      box-shadow: 0px 1px 2px rgba(60, 64, 67, 0.3), 0px 1px 3px 1px rgba(60, 64, 67, 0.15);\n",
              "      fill: #174EA6;\n",
              "    }\n",
              "\n",
              "    [theme=dark] .colab-df-convert {\n",
              "      background-color: #3B4455;\n",
              "      fill: #D2E3FC;\n",
              "    }\n",
              "\n",
              "    [theme=dark] .colab-df-convert:hover {\n",
              "      background-color: #434B5C;\n",
              "      box-shadow: 0px 1px 3px 1px rgba(0, 0, 0, 0.15);\n",
              "      filter: drop-shadow(0px 1px 2px rgba(0, 0, 0, 0.3));\n",
              "      fill: #FFFFFF;\n",
              "    }\n",
              "  </style>\n",
              "\n",
              "      <script>\n",
              "        const buttonEl =\n",
              "          document.querySelector('#df-058a3b3e-685e-4f98-bfef-869f55360ae9 button.colab-df-convert');\n",
              "        buttonEl.style.display =\n",
              "          google.colab.kernel.accessAllowed ? 'block' : 'none';\n",
              "\n",
              "        async function convertToInteractive(key) {\n",
              "          const element = document.querySelector('#df-058a3b3e-685e-4f98-bfef-869f55360ae9');\n",
              "          const dataTable =\n",
              "            await google.colab.kernel.invokeFunction('convertToInteractive',\n",
              "                                                     [key], {});\n",
              "          if (!dataTable) return;\n",
              "\n",
              "          const docLinkHtml = 'Like what you see? Visit the ' +\n",
              "            '<a target=\"_blank\" href=https://colab.research.google.com/notebooks/data_table.ipynb>data table notebook</a>'\n",
              "            + ' to learn more about interactive tables.';\n",
              "          element.innerHTML = '';\n",
              "          dataTable['output_type'] = 'display_data';\n",
              "          await google.colab.output.renderOutput(dataTable, element);\n",
              "          const docLink = document.createElement('div');\n",
              "          docLink.innerHTML = docLinkHtml;\n",
              "          element.appendChild(docLink);\n",
              "        }\n",
              "      </script>\n",
              "    </div>\n",
              "  </div>\n",
              "  "
            ]
          },
          "metadata": {},
          "execution_count": 69
        }
      ]
    },
    {
      "cell_type": "code",
      "source": [],
      "metadata": {
        "id": "Vf31X_P05bFH"
      },
      "id": "Vf31X_P05bFH",
      "execution_count": null,
      "outputs": []
    },
    {
      "cell_type": "markdown",
      "id": "89aeb8d7",
      "metadata": {
        "id": "89aeb8d7"
      },
      "source": [
        "### Step 3.b: Visualize the Yearly growth\n",
        "- Plot it with `.plot()`\n",
        "- This will give you an idea of the trend."
      ]
    },
    {
      "cell_type": "code",
      "execution_count": null,
      "id": "19eaf8ac",
      "metadata": {
        "id": "19eaf8ac",
        "outputId": "ef658fe8-e240-41dd-c744-4e683a5fa3b2",
        "colab": {
          "base_uri": "https://localhost:8080/",
          "height": 282
        }
      },
      "outputs": [
        {
          "output_type": "execute_result",
          "data": {
            "text/plain": [
              "<matplotlib.axes._subplots.AxesSubplot at 0x7fd286d57a30>"
            ]
          },
          "metadata": {},
          "execution_count": 71
        },
        {
          "output_type": "display_data",
          "data": {
            "text/plain": [
              "<Figure size 432x288 with 1 Axes>"
            ],
            "image/png": "[encoded data removed]"
          },
          "metadata": {
            "needs_background": "light"
          }
        }
      ],
      "source": [
        "world_data['Yearly growth'].plot()"
      ]
    },
    {
      "cell_type": "markdown",
      "id": "8b76a782",
      "metadata": {
        "id": "8b76a782"
      },
      "source": [
        "### Step 3.c: Smooth the result\n",
        "- A great way is to smooth the result\n",
        "- This can show local tendencies\n",
        "- Calculate a 10-years rolling average by using [rolling(10)](https://pandas.pydata.org/docs/reference/api/pandas.DataFrame.rolling.html).[mean()](https://pandas.pydata.org/docs/reference/api/pandas.core.window.rolling.Rolling.mean.html)\n",
        "```Python\n",
        "dataset['Yearly growth'].rolling(10).mean()\n",
        "```\n",
        "- Visualize the result\n",
        "    - HINT: Make a plot containing `Yearly growth` and the new calculation.\n",
        "- What does that tell you?"
      ]
    },
    {
      "cell_type": "code",
      "execution_count": null,
      "id": "f8e9c61f",
      "metadata": {
        "id": "f8e9c61f"
      },
      "outputs": [],
      "source": [
        "world_data['Smooth'] = world_data['Yearly growth'].rolling(10).mean()"
      ]
    },
    {
      "cell_type": "code",
      "execution_count": null,
      "id": "7e654964",
      "metadata": {
        "id": "7e654964",
        "outputId": "fb996f7b-aff5-4b3a-fac9-60609d36ebfc",
        "colab": {
          "base_uri": "https://localhost:8080/",
          "height": 423
        }
      },
      "outputs": [
        {
          "output_type": "execute_result",
          "data": {
            "text/plain": [
              "      World Population  Yearly growth    Smooth\n",
              "1960      3.032156e+09            NaN       NaN\n",
              "1961      3.071596e+09       0.013007       NaN\n",
              "1962      3.124561e+09       0.017243       NaN\n",
              "1963      3.189656e+09       0.020833       NaN\n",
              "1964      3.255146e+09       0.020532       NaN\n",
              "...                ...            ...       ...\n",
              "2016      7.424485e+09       0.011637  0.011952\n",
              "2017      7.509410e+09       0.011439  0.011861\n",
              "2018      7.592476e+09       0.011062  0.011726\n",
              "2019      7.673345e+09       0.010651  0.011569\n",
              "2020      7.752841e+09       0.010360  0.011402\n",
              "\n",
              "[61 rows x 3 columns]"
            ],
            "text/html": [
              "\n",
              "  <div id=\"df-c11a674d-b7d6-45cf-b758-d45103ad9f5b\">\n",
              "    <div class=\"colab-df-container\">\n",
              "      <div>\n",
              "<style scoped>\n",
              "    .dataframe tbody tr th:only-of-type {\n",
              "        vertical-align: middle;\n",
              "    }\n",
              "\n",
              "    .dataframe tbody tr th {\n",
              "        vertical-align: top;\n",
              "    }\n",
              "\n",
              "    .dataframe thead th {\n",
              "        text-align: right;\n",
              "    }\n",
              "</style>\n",
              "<table border=\"1\" class=\"dataframe\">\n",
              "  <thead>\n",
              "    <tr style=\"text-align: right;\">\n",
              "      <th></th>\n",
              "      <th>World Population</th>\n",
              "      <th>Yearly growth</th>\n",
              "      <th>Smooth</th>\n",
              "    </tr>\n",
              "  </thead>\n",
              "  <tbody>\n",
              "    <tr>\n",
              "      <th>1960</th>\n",
              "      <td>3.032156e+09</td>\n",
              "      <td>NaN</td>\n",
              "      <td>NaN</td>\n",
              "    </tr>\n",
              "    <tr>\n",
              "      <th>1961</th>\n",
              "      <td>3.071596e+09</td>\n",
              "      <td>0.013007</td>\n",
              "      <td>NaN</td>\n",
              "    </tr>\n",
              "    <tr>\n",
              "      <th>1962</th>\n",
              "      <td>3.124561e+09</td>\n",
              "      <td>0.017243</td>\n",
              "      <td>NaN</td>\n",
              "    </tr>\n",
              "    <tr>\n",
              "      <th>1963</th>\n",
              "      <td>3.189656e+09</td>\n",
              "      <td>0.020833</td>\n",
              "      <td>NaN</td>\n",
              "    </tr>\n",
              "    <tr>\n",
              "      <th>1964</th>\n",
              "      <td>3.255146e+09</td>\n",
              "      <td>0.020532</td>\n",
              "      <td>NaN</td>\n",
              "    </tr>\n",
              "    <tr>\n",
              "      <th>...</th>\n",
              "      <td>...</td>\n",
              "      <td>...</td>\n",
              "      <td>...</td>\n",
              "    </tr>\n",
              "    <tr>\n",
              "      <th>2016</th>\n",
              "      <td>7.424485e+09</td>\n",
              "      <td>0.011637</td>\n",
              "      <td>0.011952</td>\n",
              "    </tr>\n",
              "    <tr>\n",
              "      <th>2017</th>\n",
              "      <td>7.509410e+09</td>\n",
              "      <td>0.011439</td>\n",
              "      <td>0.011861</td>\n",
              "    </tr>\n",
              "    <tr>\n",
              "      <th>2018</th>\n",
              "      <td>7.592476e+09</td>\n",
              "      <td>0.011062</td>\n",
              "      <td>0.011726</td>\n",
              "    </tr>\n",
              "    <tr>\n",
              "      <th>2019</th>\n",
              "      <td>7.673345e+09</td>\n",
              "      <td>0.010651</td>\n",
              "      <td>0.011569</td>\n",
              "    </tr>\n",
              "    <tr>\n",
              "      <th>2020</th>\n",
              "      <td>7.752841e+09</td>\n",
              "      <td>0.010360</td>\n",
              "      <td>0.011402</td>\n",
              "    </tr>\n",
              "  </tbody>\n",
              "</table>\n",
              "<p>61 rows × 3 columns</p>\n",
              "</div>\n",
              "      <button class=\"colab-df-convert\" onclick=\"convertToInteractive('df-c11a674d-b7d6-45cf-b758-d45103ad9f5b')\"\n",
              "              title=\"Convert this dataframe to an interactive table.\"\n",
              "              style=\"display:none;\">\n",
              "        \n",
              "  <svg xmlns=\"http://www.w3.org/2000/svg\" height=\"24px\"viewBox=\"0 0 24 24\"\n",
              "       width=\"24px\">\n",
              "    <path d=\"M0 0h24v24H0V0z\" fill=\"none\"/>\n",
              "    <path d=\"M18.56 5.44l.94 2.06.94-2.06 2.06-.94-2.06-.94-.94-2.06-.94 2.06-2.06.94zm-11 1L8.5 8.5l.94-2.06 2.06-.94-2.06-.94L8.5 2.5l-.94 2.06-2.06.94zm10 10l.94 2.06.94-2.06 2.06-.94-2.06-.94-.94-2.06-.94 2.06-2.06.94z\"/><path d=\"M17.41 7.96l-1.37-1.37c-.4-.4-.92-.59-1.43-.59-.52 0-1.04.2-1.43.59L10.3 9.45l-7.72 7.72c-.78.78-.78 2.05 0 2.83L4 21.41c.39.39.9.59 1.41.59.51 0 1.02-.2 1.41-.59l7.78-7.78 2.81-2.81c.8-.78.8-2.07 0-2.86zM5.41 20L4 18.59l7.72-7.72 1.47 1.35L5.41 20z\"/>\n",
              "  </svg>\n",
              "      </button>\n",
              "      \n",
              "  <style>\n",
              "    .colab-df-container {\n",
              "      display:flex;\n",
              "      flex-wrap:wrap;\n",
              "      gap: 12px;\n",
              "    }\n",
              "\n",
              "    .colab-df-convert {\n",
              "      background-color: #E8F0FE;\n",
              "      border: none;\n",
              "      border-radius: 50%;\n",
              "      cursor: pointer;\n",
              "      display: none;\n",
              "      fill: #1967D2;\n",
              "      height: 32px;\n",
              "      padding: 0 0 0 0;\n",
              "      width: 32px;\n",
              "    }\n",
              "\n",
              "    .colab-df-convert:hover {\n",
              "      background-color: #E2EBFA;\n",
              "      box-shadow: 0px 1px 2px rgba(60, 64, 67, 0.3), 0px 1px 3px 1px rgba(60, 64, 67, 0.15);\n",
              "      fill: #174EA6;\n",
              "    }\n",
              "\n",
              "    [theme=dark] .colab-df-convert {\n",
              "      background-color: #3B4455;\n",
              "      fill: #D2E3FC;\n",
              "    }\n",
              "\n",
              "    [theme=dark] .colab-df-convert:hover {\n",
              "      background-color: #434B5C;\n",
              "      box-shadow: 0px 1px 3px 1px rgba(0, 0, 0, 0.15);\n",
              "      filter: drop-shadow(0px 1px 2px rgba(0, 0, 0, 0.3));\n",
              "      fill: #FFFFFF;\n",
              "    }\n",
              "  </style>\n",
              "\n",
              "      <script>\n",
              "        const buttonEl =\n",
              "          document.querySelector('#df-c11a674d-b7d6-45cf-b758-d45103ad9f5b button.colab-df-convert');\n",
              "        buttonEl.style.display =\n",
              "          google.colab.kernel.accessAllowed ? 'block' : 'none';\n",
              "\n",
              "        async function convertToInteractive(key) {\n",
              "          const element = document.querySelector('#df-c11a674d-b7d6-45cf-b758-d45103ad9f5b');\n",
              "          const dataTable =\n",
              "            await google.colab.kernel.invokeFunction('convertToInteractive',\n",
              "                                                     [key], {});\n",
              "          if (!dataTable) return;\n",
              "\n",
              "          const docLinkHtml = 'Like what you see? Visit the ' +\n",
              "            '<a target=\"_blank\" href=https://colab.research.google.com/notebooks/data_table.ipynb>data table notebook</a>'\n",
              "            + ' to learn more about interactive tables.';\n",
              "          element.innerHTML = '';\n",
              "          dataTable['output_type'] = 'display_data';\n",
              "          await google.colab.output.renderOutput(dataTable, element);\n",
              "          const docLink = document.createElement('div');\n",
              "          docLink.innerHTML = docLinkHtml;\n",
              "          element.appendChild(docLink);\n",
              "        }\n",
              "      </script>\n",
              "    </div>\n",
              "  </div>\n",
              "  "
            ]
          },
          "metadata": {},
          "execution_count": 74
        }
      ],
      "source": [
        "world_data"
      ]
    },
    {
      "cell_type": "code",
      "source": [
        "world_data[['Smooth','Yearly growth']].plot()"
      ],
      "metadata": {
        "id": "Fihuz3xD6ujC",
        "outputId": "5ca34aab-bae8-4fe2-90bf-f2ef24481c94",
        "colab": {
          "base_uri": "https://localhost:8080/",
          "height": 282
        }
      },
      "id": "Fihuz3xD6ujC",
      "execution_count": null,
      "outputs": [
        {
          "output_type": "execute_result",
          "data": {
            "text/plain": [
              "<matplotlib.axes._subplots.AxesSubplot at 0x7fd286c26a90>"
            ]
          },
          "metadata": {},
          "execution_count": 77
        },
        {
          "output_type": "display_data",
          "data": {
            "text/plain": [
              "<Figure size 432x288 with 1 Axes>"
            ],
            "image/png": "[encoded data removed]"
          },
          "metadata": {
            "needs_background": "light"
          }
        }
      ]
    },
    {
      "cell_type": "markdown",
      "id": "98a71ee2",
      "metadata": {
        "id": "98a71ee2"
      },
      "source": [
        "## Step 4: Report\n",
        "- Present findings\n",
        "- Visualize results\n",
        "- Credibility counts"
      ]
    },
    {
      "cell_type": "markdown",
      "id": "ff7e91d7",
      "metadata": {
        "id": "ff7e91d7"
      },
      "source": [
        "### Step 4.a: Transform data\n",
        "- To make plot more readable transform data to percentage\n",
        "    - HINT: Multiply columns data `Yearly growth` and the smoothed data by 100"
      ]
    },
    {
      "cell_type": "code",
      "execution_count": null,
      "id": "773e375e",
      "metadata": {
        "id": "773e375e"
      },
      "outputs": [],
      "source": [
        "world_data[['Smooth','Yearly growth']] *=100"
      ]
    },
    {
      "cell_type": "code",
      "execution_count": null,
      "id": "215dfdab",
      "metadata": {
        "id": "215dfdab",
        "outputId": "f2ce82a4-4264-4218-cf94-2a59ca3f8f04",
        "colab": {
          "base_uri": "https://localhost:8080/",
          "height": 282
        }
      },
      "outputs": [
        {
          "output_type": "execute_result",
          "data": {
            "text/plain": [
              "<matplotlib.axes._subplots.AxesSubplot at 0x7fd286bd64f0>"
            ]
          },
          "metadata": {},
          "execution_count": 79
        },
        {
          "output_type": "display_data",
          "data": {
            "text/plain": [
              "<Figure size 432x288 with 1 Axes>"
            ],
            "image/png": "[encoded data removed]"
          },
          "metadata": {
            "needs_background": "light"
          }
        }
      ],
      "source": [
        "world_data[['Smooth','Yearly growth']].plot()"
      ]
    },
    {
      "cell_type": "markdown",
      "id": "53cbf747",
      "metadata": {
        "id": "53cbf747"
      },
      "source": [
        "### Step 4.b: Set title and labels on axis\n",
        "- In the plot set labels and axis\n",
        "    - `xlabel='Year'` the same for `ylabel` and `title`"
      ]
    },
    {
      "cell_type": "code",
      "execution_count": null,
      "id": "5cc69a35",
      "metadata": {
        "id": "5cc69a35",
        "outputId": "adc5ccf1-cb62-4ee1-9067-b0b84e0d8f70",
        "colab": {
          "base_uri": "https://localhost:8080/",
          "height": 312
        }
      },
      "outputs": [
        {
          "output_type": "execute_result",
          "data": {
            "text/plain": [
              "<matplotlib.axes._subplots.AxesSubplot at 0x7fd286bbaf70>"
            ]
          },
          "metadata": {},
          "execution_count": 80
        },
        {
          "output_type": "display_data",
          "data": {
            "text/plain": [
              "<Figure size 432x288 with 1 Axes>"
            ],
            "image/png": "[encoded data removed]"
          },
          "metadata": {
            "needs_background": "light"
          }
        }
      ],
      "source": [
        "world_data[['Smooth','Yearly growth']].plot(xlabel = 'Year',ylabel = 'Yealy growth',title = 'World population growth')"
      ]
    },
    {
      "cell_type": "markdown",
      "id": "74510a5d",
      "metadata": {
        "id": "74510a5d"
      },
      "source": [
        "### Step 4.c: Adding ranges on axis\n",
        "- Add range on y-axis to make the plot more readable.\n",
        "- Use `ylim=0`"
      ]
    },
    {
      "cell_type": "code",
      "execution_count": null,
      "id": "e108b993",
      "metadata": {
        "id": "e108b993",
        "outputId": "ce9e321c-286b-4d26-dbdc-1d76d1e893c6",
        "colab": {
          "base_uri": "https://localhost:8080/",
          "height": 312
        }
      },
      "outputs": [
        {
          "output_type": "execute_result",
          "data": {
            "text/plain": [
              "<matplotlib.axes._subplots.AxesSubplot at 0x7fd286b17790>"
            ]
          },
          "metadata": {},
          "execution_count": 81
        },
        {
          "output_type": "display_data",
          "data": {
            "text/plain": [
              "<Figure size 432x288 with 1 Axes>"
            ],
            "image/png": "[encoded data removed]"
          },
          "metadata": {
            "needs_background": "light"
          }
        }
      ],
      "source": [
        "world_data[['Smooth','Yearly growth']].plot(xlabel = 'Year',ylabel = 'Yealy growth',title = 'World population growth',ylim = 0)"
      ]
    },
    {
      "cell_type": "markdown",
      "id": "65c865f1",
      "metadata": {
        "id": "65c865f1"
      },
      "source": [
        "## Step 5: Actions\n",
        "- Use insights\n",
        "- Measure impact\n",
        "- Main goal"
      ]
    },
    {
      "cell_type": "markdown",
      "id": "b246449c",
      "metadata": {
        "id": "b246449c"
      },
      "source": [
        "### Step 5.a\n",
        "- Any insights to use?\n",
        "- Do we need to make predictions based on it?"
      ]
    },
    {
      "cell_type": "code",
      "execution_count": null,
      "id": "2dee2505",
      "metadata": {
        "id": "2dee2505"
      },
      "outputs": [],
      "source": []
    }
  ],
  "metadata": {
    "language_info": {
      "name": "python"
    },
    "colab": {
      "provenance": [],
      "include_colab_link": true
    },
    "kernelspec": {
      "name": "python3",
      "display_name": "Python 3"
    },
    "gpuClass": "standard"
  },
  "nbformat": 4,
  "nbformat_minor": 5
}